{
  "metadata": {
    "kernelspec": {
      "language": "python",
      "display_name": "Python 3",
      "name": "python3"
    },
    "language_info": {
      "pygments_lexer": "ipython3",
      "nbconvert_exporter": "python",
      "version": "3.6.4",
      "file_extension": ".py",
      "codemirror_mode": {
        "name": "ipython",
        "version": 3
      },
      "name": "python",
      "mimetype": "text/x-python"
    },
    "colab": {
      "provenance": [],
      "include_colab_link": true
    },
    "accelerator": "GPU",
    "gpuClass": "premium",
    "widgets": {
      "application/vnd.jupyter.widget-state+json": {
        "71685a4c398a4be0bef939f34858bbb9": {
          "model_module": "@jupyter-widgets/controls",
          "model_name": "HBoxModel",
          "model_module_version": "1.5.0",
          "state": {
            "_dom_classes": [],
            "_model_module": "@jupyter-widgets/controls",
            "_model_module_version": "1.5.0",
            "_model_name": "HBoxModel",
            "_view_count": null,
            "_view_module": "@jupyter-widgets/controls",
            "_view_module_version": "1.5.0",
            "_view_name": "HBoxView",
            "box_style": "",
            "children": [
              "IPY_MODEL_b1a28111565648ad81c71b0c22633aa3",
              "IPY_MODEL_465c4ac17b7f42ea95f1c6b8f390f24c",
              "IPY_MODEL_48673bf830d14c66a8e562972914525c"
            ],
            "layout": "IPY_MODEL_80aa421444254562a3b3822ff99c6335"
          }
        },
        "b1a28111565648ad81c71b0c22633aa3": {
          "model_module": "@jupyter-widgets/controls",
          "model_name": "HTMLModel",
          "model_module_version": "1.5.0",
          "state": {
            "_dom_classes": [],
            "_model_module": "@jupyter-widgets/controls",
            "_model_module_version": "1.5.0",
            "_model_name": "HTMLModel",
            "_view_count": null,
            "_view_module": "@jupyter-widgets/controls",
            "_view_module_version": "1.5.0",
            "_view_name": "HTMLView",
            "description": "",
            "description_tooltip": null,
            "layout": "IPY_MODEL_e8be41268272420696cf5ca9c8056868",
            "placeholder": "​",
            "style": "IPY_MODEL_00aeecbdd75d4136a69299e29d3b5852",
            "value": "100%"
          }
        },
        "465c4ac17b7f42ea95f1c6b8f390f24c": {
          "model_module": "@jupyter-widgets/controls",
          "model_name": "FloatProgressModel",
          "model_module_version": "1.5.0",
          "state": {
            "_dom_classes": [],
            "_model_module": "@jupyter-widgets/controls",
            "_model_module_version": "1.5.0",
            "_model_name": "FloatProgressModel",
            "_view_count": null,
            "_view_module": "@jupyter-widgets/controls",
            "_view_module_version": "1.5.0",
            "_view_name": "ProgressView",
            "bar_style": "success",
            "description": "",
            "description_tooltip": null,
            "layout": "IPY_MODEL_90b8ed99f3d44d9fb9a8ea73854f31a2",
            "max": 6531,
            "min": 0,
            "orientation": "horizontal",
            "style": "IPY_MODEL_15cd4e76c8f04c71b845dcccabb1b44c",
            "value": 6531
          }
        },
        "48673bf830d14c66a8e562972914525c": {
          "model_module": "@jupyter-widgets/controls",
          "model_name": "HTMLModel",
          "model_module_version": "1.5.0",
          "state": {
            "_dom_classes": [],
            "_model_module": "@jupyter-widgets/controls",
            "_model_module_version": "1.5.0",
            "_model_name": "HTMLModel",
            "_view_count": null,
            "_view_module": "@jupyter-widgets/controls",
            "_view_module_version": "1.5.0",
            "_view_name": "HTMLView",
            "description": "",
            "description_tooltip": null,
            "layout": "IPY_MODEL_5f3b5cbba9ed4820b740d2237e2c4636",
            "placeholder": "​",
            "style": "IPY_MODEL_002ff3fae9c34be4be98f1b18546ccc1",
            "value": " 6531/6531 [3:55:57&lt;00:00,  2.10s/it]"
          }
        },
        "80aa421444254562a3b3822ff99c6335": {
          "model_module": "@jupyter-widgets/base",
          "model_name": "LayoutModel",
          "model_module_version": "1.2.0",
          "state": {
            "_model_module": "@jupyter-widgets/base",
            "_model_module_version": "1.2.0",
            "_model_name": "LayoutModel",
            "_view_count": null,
            "_view_module": "@jupyter-widgets/base",
            "_view_module_version": "1.2.0",
            "_view_name": "LayoutView",
            "align_content": null,
            "align_items": null,
            "align_self": null,
            "border": null,
            "bottom": null,
            "display": null,
            "flex": null,
            "flex_flow": null,
            "grid_area": null,
            "grid_auto_columns": null,
            "grid_auto_flow": null,
            "grid_auto_rows": null,
            "grid_column": null,
            "grid_gap": null,
            "grid_row": null,
            "grid_template_areas": null,
            "grid_template_columns": null,
            "grid_template_rows": null,
            "height": null,
            "justify_content": null,
            "justify_items": null,
            "left": null,
            "margin": null,
            "max_height": null,
            "max_width": null,
            "min_height": null,
            "min_width": null,
            "object_fit": null,
            "object_position": null,
            "order": null,
            "overflow": null,
            "overflow_x": null,
            "overflow_y": null,
            "padding": null,
            "right": null,
            "top": null,
            "visibility": null,
            "width": null
          }
        },
        "e8be41268272420696cf5ca9c8056868": {
          "model_module": "@jupyter-widgets/base",
          "model_name": "LayoutModel",
          "model_module_version": "1.2.0",
          "state": {
            "_model_module": "@jupyter-widgets/base",
            "_model_module_version": "1.2.0",
            "_model_name": "LayoutModel",
            "_view_count": null,
            "_view_module": "@jupyter-widgets/base",
            "_view_module_version": "1.2.0",
            "_view_name": "LayoutView",
            "align_content": null,
            "align_items": null,
            "align_self": null,
            "border": null,
            "bottom": null,
            "display": null,
            "flex": null,
            "flex_flow": null,
            "grid_area": null,
            "grid_auto_columns": null,
            "grid_auto_flow": null,
            "grid_auto_rows": null,
            "grid_column": null,
            "grid_gap": null,
            "grid_row": null,
            "grid_template_areas": null,
            "grid_template_columns": null,
            "grid_template_rows": null,
            "height": null,
            "justify_content": null,
            "justify_items": null,
            "left": null,
            "margin": null,
            "max_height": null,
            "max_width": null,
            "min_height": null,
            "min_width": null,
            "object_fit": null,
            "object_position": null,
            "order": null,
            "overflow": null,
            "overflow_x": null,
            "overflow_y": null,
            "padding": null,
            "right": null,
            "top": null,
            "visibility": null,
            "width": null
          }
        },
        "00aeecbdd75d4136a69299e29d3b5852": {
          "model_module": "@jupyter-widgets/controls",
          "model_name": "DescriptionStyleModel",
          "model_module_version": "1.5.0",
          "state": {
            "_model_module": "@jupyter-widgets/controls",
            "_model_module_version": "1.5.0",
            "_model_name": "DescriptionStyleModel",
            "_view_count": null,
            "_view_module": "@jupyter-widgets/base",
            "_view_module_version": "1.2.0",
            "_view_name": "StyleView",
            "description_width": ""
          }
        },
        "90b8ed99f3d44d9fb9a8ea73854f31a2": {
          "model_module": "@jupyter-widgets/base",
          "model_name": "LayoutModel",
          "model_module_version": "1.2.0",
          "state": {
            "_model_module": "@jupyter-widgets/base",
            "_model_module_version": "1.2.0",
            "_model_name": "LayoutModel",
            "_view_count": null,
            "_view_module": "@jupyter-widgets/base",
            "_view_module_version": "1.2.0",
            "_view_name": "LayoutView",
            "align_content": null,
            "align_items": null,
            "align_self": null,
            "border": null,
            "bottom": null,
            "display": null,
            "flex": null,
            "flex_flow": null,
            "grid_area": null,
            "grid_auto_columns": null,
            "grid_auto_flow": null,
            "grid_auto_rows": null,
            "grid_column": null,
            "grid_gap": null,
            "grid_row": null,
            "grid_template_areas": null,
            "grid_template_columns": null,
            "grid_template_rows": null,
            "height": null,
            "justify_content": null,
            "justify_items": null,
            "left": null,
            "margin": null,
            "max_height": null,
            "max_width": null,
            "min_height": null,
            "min_width": null,
            "object_fit": null,
            "object_position": null,
            "order": null,
            "overflow": null,
            "overflow_x": null,
            "overflow_y": null,
            "padding": null,
            "right": null,
            "top": null,
            "visibility": null,
            "width": null
          }
        },
        "15cd4e76c8f04c71b845dcccabb1b44c": {
          "model_module": "@jupyter-widgets/controls",
          "model_name": "ProgressStyleModel",
          "model_module_version": "1.5.0",
          "state": {
            "_model_module": "@jupyter-widgets/controls",
            "_model_module_version": "1.5.0",
            "_model_name": "ProgressStyleModel",
            "_view_count": null,
            "_view_module": "@jupyter-widgets/base",
            "_view_module_version": "1.2.0",
            "_view_name": "StyleView",
            "bar_color": null,
            "description_width": ""
          }
        },
        "5f3b5cbba9ed4820b740d2237e2c4636": {
          "model_module": "@jupyter-widgets/base",
          "model_name": "LayoutModel",
          "model_module_version": "1.2.0",
          "state": {
            "_model_module": "@jupyter-widgets/base",
            "_model_module_version": "1.2.0",
            "_model_name": "LayoutModel",
            "_view_count": null,
            "_view_module": "@jupyter-widgets/base",
            "_view_module_version": "1.2.0",
            "_view_name": "LayoutView",
            "align_content": null,
            "align_items": null,
            "align_self": null,
            "border": null,
            "bottom": null,
            "display": null,
            "flex": null,
            "flex_flow": null,
            "grid_area": null,
            "grid_auto_columns": null,
            "grid_auto_flow": null,
            "grid_auto_rows": null,
            "grid_column": null,
            "grid_gap": null,
            "grid_row": null,
            "grid_template_areas": null,
            "grid_template_columns": null,
            "grid_template_rows": null,
            "height": null,
            "justify_content": null,
            "justify_items": null,
            "left": null,
            "margin": null,
            "max_height": null,
            "max_width": null,
            "min_height": null,
            "min_width": null,
            "object_fit": null,
            "object_position": null,
            "order": null,
            "overflow": null,
            "overflow_x": null,
            "overflow_y": null,
            "padding": null,
            "right": null,
            "top": null,
            "visibility": null,
            "width": null
          }
        },
        "002ff3fae9c34be4be98f1b18546ccc1": {
          "model_module": "@jupyter-widgets/controls",
          "model_name": "DescriptionStyleModel",
          "model_module_version": "1.5.0",
          "state": {
            "_model_module": "@jupyter-widgets/controls",
            "_model_module_version": "1.5.0",
            "_model_name": "DescriptionStyleModel",
            "_view_count": null,
            "_view_module": "@jupyter-widgets/base",
            "_view_module_version": "1.2.0",
            "_view_name": "StyleView",
            "description_width": ""
          }
        }
      }
    }
  },
  "nbformat_minor": 0,
  "nbformat": 4,
  "cells": [
    {
      "cell_type": "markdown",
      "metadata": {
        "id": "view-in-github",
        "colab_type": "text"
      },
      "source": [
        "<a href=\"https://colab.research.google.com/github/sunghyunjun/kaggle-otto-recsys/blob/main/otto_transformers4rec_submission.ipynb\" target=\"_parent\"><img src=\"https://colab.research.google.com/assets/colab-badge.svg\" alt=\"Open In Colab\"/></a>"
      ]
    },
    {
      "cell_type": "markdown",
      "source": [
        "# Check colab gcp, gpu environment"
      ],
      "metadata": {
        "id": "X-weEUQFUclJ"
      }
    },
    {
      "cell_type": "code",
      "source": [
        "# Check colab's gcp region\n",
        "!curl ipinfo.io"
      ],
      "metadata": {
        "colab": {
          "base_uri": "https://localhost:8080/"
        },
        "id": "uLQso-4-LOn3",
        "outputId": "c39e547a-815c-4588-f090-961488cdc959"
      },
      "execution_count": null,
      "outputs": [
        {
          "output_type": "stream",
          "name": "stdout",
          "text": [
            "{\n",
            "  \"ip\": \"34.135.132.227\",\n",
            "  \"hostname\": \"227.132.135.34.bc.googleusercontent.com\",\n",
            "  \"city\": \"Council Bluffs\",\n",
            "  \"region\": \"Iowa\",\n",
            "  \"country\": \"US\",\n",
            "  \"loc\": \"41.2619,-95.8608\",\n",
            "  \"org\": \"AS396982 Google LLC\",\n",
            "  \"postal\": \"51502\",\n",
            "  \"timezone\": \"America/Chicago\",\n",
            "  \"readme\": \"https://ipinfo.io/missingauth\"\n",
            "}"
          ]
        }
      ]
    },
    {
      "cell_type": "code",
      "source": [
        "gcs_bucket = \"sunghyun-kaggle-otto-us\"\n",
        "# gcs_bucket = \"sunghyun-kaggle-otto-eu\"\n",
        "# gcs_bucket = \"sunghyun-kaggle-otto-asia\""
      ],
      "metadata": {
        "id": "qNeGtGhlIQU8"
      },
      "execution_count": null,
      "outputs": []
    },
    {
      "cell_type": "code",
      "source": [
        "!nvidia-smi -L"
      ],
      "metadata": {
        "colab": {
          "base_uri": "https://localhost:8080/"
        },
        "id": "7qBwZWpjnsPk",
        "outputId": "bc2ad690-a738-4690-d293-89354b006072"
      },
      "execution_count": null,
      "outputs": [
        {
          "output_type": "stream",
          "name": "stdout",
          "text": [
            "GPU 0: NVIDIA A100-SXM4-40GB (UUID: GPU-3481e7d1-5be8-8eae-75f3-f8969d54ae9c)\n"
          ]
        }
      ]
    },
    {
      "cell_type": "code",
      "source": [
        "import multiprocessing\n",
        "print(multiprocessing.cpu_count()) # Count the number of cores in a computer"
      ],
      "metadata": {
        "colab": {
          "base_uri": "https://localhost:8080/"
        },
        "id": "gw9yZ8cym86x",
        "outputId": "703f7cbc-2e15-4121-edcf-053de52897ce"
      },
      "execution_count": null,
      "outputs": [
        {
          "output_type": "stream",
          "name": "stdout",
          "text": [
            "12\n"
          ]
        }
      ]
    },
    {
      "cell_type": "markdown",
      "source": [
        "# GCP personal setting for gcs, kaggle, neptune.ai"
      ],
      "metadata": {
        "id": "QFLRMzO5UnZE"
      }
    },
    {
      "cell_type": "code",
      "source": [
        "# Authenticate to GCP\n",
        "from google.colab import auth\n",
        "auth.authenticate_user()"
      ],
      "metadata": {
        "id": "-EV_D2gVIdkV"
      },
      "execution_count": null,
      "outputs": []
    },
    {
      "cell_type": "code",
      "source": [
        "# GCP secret manager, after run pip, notebook should be restarted\n",
        "# !pip3 install --user google-cloud-secret-manager==2.5.0\n",
        "!pip3 install --user google-cloud-secret-manager\n",
        "from google.cloud import secretmanager\n",
        "\n",
        "\n",
        "def get_secret(project_id, secret_name):\n",
        "    \"\"\"\n",
        "    secret_name => To be replaced with your secret name\n",
        "    project_id  => To be replaced with your GCP Project\n",
        "    \"\"\"\n",
        "\n",
        "    # Create a Client:\n",
        "    client = secretmanager.SecretManagerServiceClient()\n",
        "    # secret_name = \"kaggle\" # => To be replaced with your secret name\n",
        "    # project_id = 'otto-recsys' # => To be replaced with your GCP Project\n",
        "\n",
        "    # Forge the path to the latest version of your secret with an F-string:\n",
        "    resource_name = f\"projects/{project_id}/secrets/{secret_name}/versions/latest\" \n",
        "\n",
        "    # Get your secret :\n",
        "    response = client.access_secret_version(request={\"name\": resource_name})\n",
        "    secret_string = response.payload.data.decode('UTF-8')\n",
        "\n",
        "    # Tada ! you secret is in the secret_string variable!\n",
        "    return secret_string"
      ],
      "metadata": {
        "colab": {
          "base_uri": "https://localhost:8080/"
        },
        "id": "D8w3ZR9HHPr1",
        "outputId": "3847fbdb-10fc-4c2c-cf5f-6728fa099c41"
      },
      "execution_count": null,
      "outputs": [
        {
          "output_type": "stream",
          "name": "stdout",
          "text": [
            "Looking in indexes: https://pypi.org/simple, https://us-python.pkg.dev/colab-wheels/public/simple/\n",
            "Requirement already satisfied: google-cloud-secret-manager in /root/.local/lib/python3.8/site-packages (2.15.1)\n",
            "Requirement already satisfied: proto-plus<2.0.0dev,>=1.22.0 in /usr/local/lib/python3.8/dist-packages (from google-cloud-secret-manager) (1.22.2)\n",
            "Requirement already satisfied: google-api-core[grpc]!=2.0.*,!=2.1.*,!=2.10.*,!=2.2.*,!=2.3.*,!=2.4.*,!=2.5.*,!=2.6.*,!=2.7.*,!=2.8.*,!=2.9.*,<3.0.0dev,>=1.34.0 in /usr/local/lib/python3.8/dist-packages (from google-cloud-secret-manager) (2.11.0)\n",
            "Requirement already satisfied: protobuf!=3.20.0,!=3.20.1,!=4.21.0,!=4.21.1,!=4.21.2,!=4.21.3,!=4.21.4,!=4.21.5,<5.0.0dev,>=3.19.5 in /usr/local/lib/python3.8/dist-packages (from google-cloud-secret-manager) (3.19.6)\n",
            "Requirement already satisfied: grpc-google-iam-v1<1.0.0dev,>=0.12.4 in /root/.local/lib/python3.8/site-packages (from google-cloud-secret-manager) (0.12.6)\n",
            "Requirement already satisfied: googleapis-common-protos<2.0dev,>=1.56.2 in /usr/local/lib/python3.8/dist-packages (from google-api-core[grpc]!=2.0.*,!=2.1.*,!=2.10.*,!=2.2.*,!=2.3.*,!=2.4.*,!=2.5.*,!=2.6.*,!=2.7.*,!=2.8.*,!=2.9.*,<3.0.0dev,>=1.34.0->google-cloud-secret-manager) (1.58.0)\n",
            "Requirement already satisfied: requests<3.0.0dev,>=2.18.0 in /usr/local/lib/python3.8/dist-packages (from google-api-core[grpc]!=2.0.*,!=2.1.*,!=2.10.*,!=2.2.*,!=2.3.*,!=2.4.*,!=2.5.*,!=2.6.*,!=2.7.*,!=2.8.*,!=2.9.*,<3.0.0dev,>=1.34.0->google-cloud-secret-manager) (2.25.1)\n",
            "Requirement already satisfied: google-auth<3.0dev,>=2.14.1 in /usr/local/lib/python3.8/dist-packages (from google-api-core[grpc]!=2.0.*,!=2.1.*,!=2.10.*,!=2.2.*,!=2.3.*,!=2.4.*,!=2.5.*,!=2.6.*,!=2.7.*,!=2.8.*,!=2.9.*,<3.0.0dev,>=1.34.0->google-cloud-secret-manager) (2.16.0)\n",
            "Requirement already satisfied: grpcio<2.0dev,>=1.33.2 in /usr/local/lib/python3.8/dist-packages (from google-api-core[grpc]!=2.0.*,!=2.1.*,!=2.10.*,!=2.2.*,!=2.3.*,!=2.4.*,!=2.5.*,!=2.6.*,!=2.7.*,!=2.8.*,!=2.9.*,<3.0.0dev,>=1.34.0->google-cloud-secret-manager) (1.51.1)\n",
            "Requirement already satisfied: grpcio-status<2.0dev,>=1.33.2 in /usr/local/lib/python3.8/dist-packages (from google-api-core[grpc]!=2.0.*,!=2.1.*,!=2.10.*,!=2.2.*,!=2.3.*,!=2.4.*,!=2.5.*,!=2.6.*,!=2.7.*,!=2.8.*,!=2.9.*,<3.0.0dev,>=1.34.0->google-cloud-secret-manager) (1.48.2)\n",
            "Requirement already satisfied: rsa<5,>=3.1.4 in /usr/local/lib/python3.8/dist-packages (from google-auth<3.0dev,>=2.14.1->google-api-core[grpc]!=2.0.*,!=2.1.*,!=2.10.*,!=2.2.*,!=2.3.*,!=2.4.*,!=2.5.*,!=2.6.*,!=2.7.*,!=2.8.*,!=2.9.*,<3.0.0dev,>=1.34.0->google-cloud-secret-manager) (4.9)\n",
            "Requirement already satisfied: pyasn1-modules>=0.2.1 in /usr/local/lib/python3.8/dist-packages (from google-auth<3.0dev,>=2.14.1->google-api-core[grpc]!=2.0.*,!=2.1.*,!=2.10.*,!=2.2.*,!=2.3.*,!=2.4.*,!=2.5.*,!=2.6.*,!=2.7.*,!=2.8.*,!=2.9.*,<3.0.0dev,>=1.34.0->google-cloud-secret-manager) (0.2.8)\n",
            "Requirement already satisfied: cachetools<6.0,>=2.0.0 in /usr/local/lib/python3.8/dist-packages (from google-auth<3.0dev,>=2.14.1->google-api-core[grpc]!=2.0.*,!=2.1.*,!=2.10.*,!=2.2.*,!=2.3.*,!=2.4.*,!=2.5.*,!=2.6.*,!=2.7.*,!=2.8.*,!=2.9.*,<3.0.0dev,>=1.34.0->google-cloud-secret-manager) (5.2.1)\n",
            "Requirement already satisfied: six>=1.9.0 in /usr/local/lib/python3.8/dist-packages (from google-auth<3.0dev,>=2.14.1->google-api-core[grpc]!=2.0.*,!=2.1.*,!=2.10.*,!=2.2.*,!=2.3.*,!=2.4.*,!=2.5.*,!=2.6.*,!=2.7.*,!=2.8.*,!=2.9.*,<3.0.0dev,>=1.34.0->google-cloud-secret-manager) (1.15.0)\n",
            "Requirement already satisfied: chardet<5,>=3.0.2 in /usr/local/lib/python3.8/dist-packages (from requests<3.0.0dev,>=2.18.0->google-api-core[grpc]!=2.0.*,!=2.1.*,!=2.10.*,!=2.2.*,!=2.3.*,!=2.4.*,!=2.5.*,!=2.6.*,!=2.7.*,!=2.8.*,!=2.9.*,<3.0.0dev,>=1.34.0->google-cloud-secret-manager) (4.0.0)\n",
            "Requirement already satisfied: idna<3,>=2.5 in /usr/local/lib/python3.8/dist-packages (from requests<3.0.0dev,>=2.18.0->google-api-core[grpc]!=2.0.*,!=2.1.*,!=2.10.*,!=2.2.*,!=2.3.*,!=2.4.*,!=2.5.*,!=2.6.*,!=2.7.*,!=2.8.*,!=2.9.*,<3.0.0dev,>=1.34.0->google-cloud-secret-manager) (2.10)\n",
            "Requirement already satisfied: urllib3<1.27,>=1.21.1 in /usr/local/lib/python3.8/dist-packages (from requests<3.0.0dev,>=2.18.0->google-api-core[grpc]!=2.0.*,!=2.1.*,!=2.10.*,!=2.2.*,!=2.3.*,!=2.4.*,!=2.5.*,!=2.6.*,!=2.7.*,!=2.8.*,!=2.9.*,<3.0.0dev,>=1.34.0->google-cloud-secret-manager) (1.24.3)\n",
            "Requirement already satisfied: certifi>=2017.4.17 in /usr/local/lib/python3.8/dist-packages (from requests<3.0.0dev,>=2.18.0->google-api-core[grpc]!=2.0.*,!=2.1.*,!=2.10.*,!=2.2.*,!=2.3.*,!=2.4.*,!=2.5.*,!=2.6.*,!=2.7.*,!=2.8.*,!=2.9.*,<3.0.0dev,>=1.34.0->google-cloud-secret-manager) (2022.12.7)\n",
            "Requirement already satisfied: pyasn1<0.5.0,>=0.4.6 in /usr/local/lib/python3.8/dist-packages (from pyasn1-modules>=0.2.1->google-auth<3.0dev,>=2.14.1->google-api-core[grpc]!=2.0.*,!=2.1.*,!=2.10.*,!=2.2.*,!=2.3.*,!=2.4.*,!=2.5.*,!=2.6.*,!=2.7.*,!=2.8.*,!=2.9.*,<3.0.0dev,>=1.34.0->google-cloud-secret-manager) (0.4.8)\n"
          ]
        }
      ]
    },
    {
      "cell_type": "markdown",
      "source": [
        "# Install gcsfuse"
      ],
      "metadata": {
        "id": "xzWp7LAPXfPK"
      }
    },
    {
      "cell_type": "code",
      "source": [
        "!pip install gcsfs --upgrade -q\n",
        "!pip install psutil --upgrade -q"
      ],
      "metadata": {
        "colab": {
          "base_uri": "https://localhost:8080/"
        },
        "id": "yPcdh5uRIpPe",
        "outputId": "4aba31a9-7312-4cfe-d5c6-f75c0683b348"
      },
      "execution_count": null,
      "outputs": [
        {
          "output_type": "stream",
          "name": "stdout",
          "text": [
            "\u001b[2K     \u001b[90m━━━━━━━━━━━━━━━━━━━━━━━━━━━━━━━━━━━━━━━\u001b[0m \u001b[32m143.0/143.0 KB\u001b[0m \u001b[31m6.4 MB/s\u001b[0m eta \u001b[36m0:00:00\u001b[0m\n",
            "\u001b[2K     \u001b[90m━━━━━━━━━━━━━━━━━━━━━━━━━━━━━━━━━━━━━━━\u001b[0m \u001b[32m280.2/280.2 KB\u001b[0m \u001b[31m6.3 MB/s\u001b[0m eta \u001b[36m0:00:00\u001b[0m\n",
            "\u001b[?25h"
          ]
        }
      ]
    },
    {
      "cell_type": "code",
      "source": [
        "!echo \"deb http://packages.cloud.google.com/apt gcsfuse-bionic main\" > /etc/apt/sources.list.d/gcsfuse.list\n",
        "!curl https://packages.cloud.google.com/apt/doc/apt-key.gpg | apt-key add -\n",
        "!apt -qq update\n",
        "!apt -qq install gcsfuse"
      ],
      "metadata": {
        "colab": {
          "base_uri": "https://localhost:8080/"
        },
        "id": "72BrhUkYIv6k",
        "outputId": "b1816a8f-29a2-421b-97c2-2e57d3169270"
      },
      "execution_count": null,
      "outputs": [
        {
          "output_type": "stream",
          "name": "stdout",
          "text": [
            "  % Total    % Received % Xferd  Average Speed   Time    Time     Time  Current\n",
            "                                 Dload  Upload   Total   Spent    Left  Speed\n",
            "\r  0     0    0     0    0     0      0      0 --:--:-- --:--:-- --:--:--     0\r100  1210  100  1210    0     0  52608      0 --:--:-- --:--:-- --:--:-- 52608\n",
            "OK\n",
            "65 packages can be upgraded. Run 'apt list --upgradable' to see them.\n",
            "The following NEW packages will be installed:\n",
            "  gcsfuse\n",
            "0 upgraded, 1 newly installed, 0 to remove and 65 not upgraded.\n",
            "Need to get 13.3 MB of archives.\n",
            "After this operation, 30.7 MB of additional disk space will be used.\n",
            "Selecting previously unselected package gcsfuse.\n",
            "(Reading database ... 129499 files and directories currently installed.)\n",
            "Preparing to unpack .../gcsfuse_0.41.12_amd64.deb ...\n",
            "Unpacking gcsfuse (0.41.12) ...\n",
            "Setting up gcsfuse (0.41.12) ...\n"
          ]
        }
      ]
    },
    {
      "cell_type": "code",
      "source": [
        "!mkdir ./mount_checkpoint\n",
        "!gcsfuse {gcs_bucket} ./mount_checkpoint"
      ],
      "metadata": {
        "colab": {
          "base_uri": "https://localhost:8080/"
        },
        "id": "bTwRIMEdI1wy",
        "outputId": "c4347d85-9606-46d3-8f4a-592821599c48"
      },
      "execution_count": null,
      "outputs": [
        {
          "output_type": "stream",
          "name": "stdout",
          "text": [
            "2023/01/31 10:14:33.872360 Start gcsfuse/0.41.12 (Go version go1.18.4) for app \"\" using mount point: /content/mount_checkpoint\n",
            "2023/01/31 10:14:33.884889 Opening GCS connection...\n",
            "2023/01/31 10:14:34.101737 Mounting file system \"sunghyun-kaggle-otto-us\"...\n",
            "2023/01/31 10:14:34.102421 File system has been successfully mounted.\n"
          ]
        }
      ]
    },
    {
      "cell_type": "markdown",
      "source": [
        "# Kaggle API credentials"
      ],
      "metadata": {
        "id": "QRdtgX4VXmzb"
      }
    },
    {
      "cell_type": "code",
      "source": [
        "with open('kaggle.json', 'a') as fp:\n",
        "    fp.write(get_secret(\"otto-recsys\", \"kaggle\"))\n",
        "\n",
        "!mkdir -p ~/.kaggle\n",
        "!cp kaggle.json ~/.kaggle/\n",
        "!ls ~/.kaggle\n",
        "!chmod 600 /root/.kaggle/kaggle.json"
      ],
      "metadata": {
        "colab": {
          "base_uri": "https://localhost:8080/"
        },
        "id": "2qOTHg6fKSrx",
        "outputId": "d3460686-6cbd-4d60-ac92-16346dc20a54"
      },
      "execution_count": null,
      "outputs": [
        {
          "output_type": "stream",
          "name": "stdout",
          "text": [
            "kaggle.json\n"
          ]
        }
      ]
    },
    {
      "cell_type": "markdown",
      "source": [
        "# Download Kaggle dataset"
      ],
      "metadata": {
        "id": "evkOoSqMYGx9"
      }
    },
    {
      "cell_type": "code",
      "source": [
        "!kaggle kernels output sunghyunjun/otto-etl-nvtabular-cpu-candidates-orders -p dataset\n"
      ],
      "metadata": {
        "id": "3vwXroHzHN0W",
        "colab": {
          "base_uri": "https://localhost:8080/"
        },
        "outputId": "02588dad-8f38-4653-f103-6eb51a981209"
      },
      "execution_count": null,
      "outputs": [
        {
          "output_type": "stream",
          "name": "stdout",
          "text": [
            "Output file downloaded to dataset/candidates_orders.npy\n",
            "Output file downloaded to dataset/test/_file_list.txt\n",
            "Output file downloaded to dataset/test/_metadata\n",
            "Output file downloaded to dataset/test/_metadata.json\n",
            "Output file downloaded to dataset/test/part_0.parquet\n",
            "Output file downloaded to dataset/test/part_1.parquet\n",
            "Output file downloaded to dataset/test/part_2.parquet\n",
            "Output file downloaded to dataset/test/part_3.parquet\n",
            "Output file downloaded to dataset/test/part_4.parquet\n",
            "Output file downloaded to dataset/test/part_5.parquet\n",
            "Output file downloaded to dataset/test/part_6.parquet\n",
            "Output file downloaded to dataset/test/part_7.parquet\n",
            "Output file downloaded to dataset/test/part_8.parquet\n",
            "Output file downloaded to dataset/test/schema.pbtxt\n",
            "Output file downloaded to dataset/train/_file_list.txt\n",
            "Output file downloaded to dataset/train/_metadata\n",
            "Output file downloaded to dataset/train/_metadata.json\n",
            "Output file downloaded to dataset/train/part_0.parquet\n",
            "Output file downloaded to dataset/train/part_1.parquet\n",
            "Output file downloaded to dataset/train/part_10.parquet\n",
            "Output file downloaded to dataset/train/part_11.parquet\n",
            "Output file downloaded to dataset/train/part_12.parquet\n",
            "Output file downloaded to dataset/train/part_13.parquet\n",
            "Output file downloaded to dataset/train/part_14.parquet\n",
            "Output file downloaded to dataset/train/part_15.parquet\n",
            "Output file downloaded to dataset/train/part_16.parquet\n",
            "Output file downloaded to dataset/train/part_17.parquet\n",
            "Output file downloaded to dataset/train/part_18.parquet\n",
            "Output file downloaded to dataset/train/part_19.parquet\n",
            "Output file downloaded to dataset/train/part_2.parquet\n",
            "Output file downloaded to dataset/train/part_20.parquet\n",
            "Output file downloaded to dataset/train/part_21.parquet\n",
            "Output file downloaded to dataset/train/part_22.parquet\n",
            "Output file downloaded to dataset/train/part_23.parquet\n",
            "Output file downloaded to dataset/train/part_24.parquet\n",
            "Output file downloaded to dataset/train/part_25.parquet\n",
            "Output file downloaded to dataset/train/part_26.parquet\n",
            "Output file downloaded to dataset/train/part_27.parquet\n",
            "Output file downloaded to dataset/train/part_28.parquet\n",
            "Output file downloaded to dataset/train/part_29.parquet\n",
            "Output file downloaded to dataset/train/part_3.parquet\n",
            "Output file downloaded to dataset/train/part_30.parquet\n",
            "Output file downloaded to dataset/train/part_31.parquet\n",
            "Output file downloaded to dataset/train/part_32.parquet\n",
            "Output file downloaded to dataset/train/part_33.parquet\n",
            "Output file downloaded to dataset/train/part_34.parquet\n",
            "Output file downloaded to dataset/train/part_35.parquet\n",
            "Output file downloaded to dataset/train/part_36.parquet\n",
            "Output file downloaded to dataset/train/part_37.parquet\n",
            "Output file downloaded to dataset/train/part_38.parquet\n",
            "Output file downloaded to dataset/train/part_39.parquet\n",
            "Output file downloaded to dataset/train/part_4.parquet\n",
            "Output file downloaded to dataset/train/part_40.parquet\n",
            "Output file downloaded to dataset/train/part_41.parquet\n",
            "Output file downloaded to dataset/train/part_42.parquet\n",
            "Output file downloaded to dataset/train/part_43.parquet\n",
            "Output file downloaded to dataset/train/part_44.parquet\n",
            "Output file downloaded to dataset/train/part_45.parquet\n",
            "Output file downloaded to dataset/train/part_46.parquet\n",
            "Output file downloaded to dataset/train/part_47.parquet\n",
            "Output file downloaded to dataset/train/part_48.parquet\n",
            "Output file downloaded to dataset/train/part_49.parquet\n",
            "Output file downloaded to dataset/train/part_5.parquet\n",
            "Output file downloaded to dataset/train/part_50.parquet\n",
            "Output file downloaded to dataset/train/part_51.parquet\n",
            "Output file downloaded to dataset/train/part_52.parquet\n",
            "Output file downloaded to dataset/train/part_6.parquet\n",
            "Output file downloaded to dataset/train/part_7.parquet\n",
            "Output file downloaded to dataset/train/part_8.parquet\n",
            "Output file downloaded to dataset/train/part_9.parquet\n",
            "Output file downloaded to dataset/train/schema.pbtxt\n",
            "Output file downloaded to dataset/valid/_file_list.txt\n",
            "Output file downloaded to dataset/valid/_metadata\n",
            "Output file downloaded to dataset/valid/_metadata.json\n",
            "Output file downloaded to dataset/valid/part_0.parquet\n",
            "Output file downloaded to dataset/valid/part_1.parquet\n",
            "Output file downloaded to dataset/valid/part_2.parquet\n",
            "Output file downloaded to dataset/valid/part_3.parquet\n",
            "Output file downloaded to dataset/valid/part_4.parquet\n",
            "Output file downloaded to dataset/valid/part_5.parquet\n",
            "Output file downloaded to dataset/valid/part_6.parquet\n",
            "Output file downloaded to dataset/valid/part_7.parquet\n",
            "Output file downloaded to dataset/valid/part_8.parquet\n",
            "Output file downloaded to dataset/valid/schema.pbtxt\n",
            "Kernel log downloaded to dataset/otto-etl-nvtabular-cpu-candidates-orders.log \n"
          ]
        }
      ]
    },
    {
      "cell_type": "markdown",
      "source": [
        "# Install Transformers4Rec"
      ],
      "metadata": {
        "id": "WYeCeOHxUTRf"
      }
    },
    {
      "cell_type": "code",
      "source": [
        "!pip install transformers4rec[pytorch,nvtabular]\n",
        "!pip install -U nvtabular==1.3.3\n",
        "!pip install -U pytorch_lightning==1.8.0.post1\n",
        "!pip install torchmetrics==0.10.0"
      ],
      "metadata": {
        "trusted": true,
        "id": "CJOzk6r-G0y4",
        "colab": {
          "base_uri": "https://localhost:8080/"
        },
        "outputId": "3be9f192-0e10-4bff-8255-642ca2dd9738"
      },
      "execution_count": null,
      "outputs": [
        {
          "output_type": "stream",
          "name": "stdout",
          "text": [
            "Looking in indexes: https://pypi.org/simple, https://us-python.pkg.dev/colab-wheels/public/simple/\n",
            "Collecting transformers4rec[nvtabular,pytorch]\n",
            "  Downloading transformers4rec-0.1.15.tar.gz (774 kB)\n",
            "\u001b[2K     \u001b[90m━━━━━━━━━━━━━━━━━━━━━━━━━━━━━━━━━━━━━━\u001b[0m \u001b[32m774.3/774.3 KB\u001b[0m \u001b[31m14.0 MB/s\u001b[0m eta \u001b[36m0:00:00\u001b[0m\n",
            "\u001b[?25h  Installing build dependencies ... \u001b[?25l\u001b[?25hdone\n",
            "  Getting requirements to build wheel ... \u001b[?25l\u001b[?25hdone\n",
            "  Preparing metadata (pyproject.toml) ... \u001b[?25l\u001b[?25hdone\n",
            "Collecting betterproto<2.0.0\n",
            "  Downloading betterproto-1.2.5.tar.gz (26 kB)\n",
            "  Installing build dependencies ... \u001b[?25l\u001b[?25hdone\n",
            "  Getting requirements to build wheel ... \u001b[?25l\u001b[?25hdone\n",
            "  Preparing metadata (pyproject.toml) ... \u001b[?25l\u001b[?25hdone\n",
            "Collecting transformers<4.19\n",
            "  Downloading transformers-4.18.0-py3-none-any.whl (4.0 MB)\n",
            "\u001b[2K     \u001b[90m━━━━━━━━━━━━━━━━━━━━━━━━━━━━━━━━━━━━━━━━\u001b[0m \u001b[32m4.0/4.0 MB\u001b[0m \u001b[31m72.7 MB/s\u001b[0m eta \u001b[36m0:00:00\u001b[0m\n",
            "\u001b[?25hRequirement already satisfied: pyarrow>=1.0 in /usr/local/lib/python3.8/dist-packages (from transformers4rec[nvtabular,pytorch]) (9.0.0)\n",
            "Requirement already satisfied: numpy>=1.17.0 in /usr/local/lib/python3.8/dist-packages (from transformers4rec[nvtabular,pytorch]) (1.21.6)\n",
            "Requirement already satisfied: tqdm>=4.27 in /usr/local/lib/python3.8/dist-packages (from transformers4rec[nvtabular,pytorch]) (4.64.1)\n",
            "Collecting nvtabular\n",
            "  Downloading nvtabular-1.5.0.tar.gz (133 kB)\n",
            "\u001b[2K     \u001b[90m━━━━━━━━━━━━━━━━━━━━━━━━━━━━━━━━━━━━━━\u001b[0m \u001b[32m133.6/133.6 KB\u001b[0m \u001b[31m19.5 MB/s\u001b[0m eta \u001b[36m0:00:00\u001b[0m\n",
            "\u001b[?25h  Installing build dependencies ... \u001b[?25l\u001b[?25hdone\n",
            "  Getting requirements to build wheel ... \u001b[?25l\u001b[?25hdone\n",
            "  Preparing metadata (pyproject.toml) ... \u001b[?25l\u001b[?25hdone\n",
            "Requirement already satisfied: torch>=1.0 in /usr/local/lib/python3.8/dist-packages (from transformers4rec[nvtabular,pytorch]) (1.13.1+cu116)\n",
            "Collecting torchmetrics==0.3.2\n",
            "  Downloading torchmetrics-0.3.2-py3-none-any.whl (274 kB)\n",
            "\u001b[2K     \u001b[90m━━━━━━━━━━━━━━━━━━━━━━━━━━━━━━━━━━━━━━\u001b[0m \u001b[32m274.2/274.2 KB\u001b[0m \u001b[31m34.2 MB/s\u001b[0m eta \u001b[36m0:00:00\u001b[0m\n",
            "\u001b[?25hRequirement already satisfied: packaging in /usr/local/lib/python3.8/dist-packages (from torchmetrics==0.3.2->transformers4rec[nvtabular,pytorch]) (21.3)\n",
            "Collecting grpclib\n",
            "  Downloading grpclib-0.4.3.tar.gz (62 kB)\n",
            "\u001b[2K     \u001b[90m━━━━━━━━━━━━━━━━━━━━━━━━━━━━━━━━━━━━━━━━\u001b[0m \u001b[32m62.1/62.1 KB\u001b[0m \u001b[31m9.0 MB/s\u001b[0m eta \u001b[36m0:00:00\u001b[0m\n",
            "\u001b[?25h  Installing build dependencies ... \u001b[?25l\u001b[?25hdone\n",
            "  Getting requirements to build wheel ... \u001b[?25l\u001b[?25hdone\n",
            "  Preparing metadata (pyproject.toml) ... \u001b[?25l\u001b[?25hdone\n",
            "Collecting stringcase\n",
            "  Downloading stringcase-1.2.0.tar.gz (3.0 kB)\n",
            "  Preparing metadata (setup.py) ... \u001b[?25l\u001b[?25hdone\n",
            "Requirement already satisfied: typing-extensions in /usr/local/lib/python3.8/dist-packages (from torch>=1.0->transformers4rec[nvtabular,pytorch]) (4.4.0)\n",
            "Requirement already satisfied: requests in /usr/local/lib/python3.8/dist-packages (from transformers<4.19->transformers4rec[nvtabular,pytorch]) (2.25.1)\n",
            "Collecting sacremoses\n",
            "  Downloading sacremoses-0.0.53.tar.gz (880 kB)\n",
            "\u001b[2K     \u001b[90m━━━━━━━━━━━━━━━━━━━━━━━━━━━━━━━━━━━━━━\u001b[0m \u001b[32m880.6/880.6 KB\u001b[0m \u001b[31m65.4 MB/s\u001b[0m eta \u001b[36m0:00:00\u001b[0m\n",
            "\u001b[?25h  Preparing metadata (setup.py) ... \u001b[?25l\u001b[?25hdone\n",
            "Requirement already satisfied: filelock in /usr/local/lib/python3.8/dist-packages (from transformers<4.19->transformers4rec[nvtabular,pytorch]) (3.9.0)\n",
            "Requirement already satisfied: regex!=2019.12.17 in /usr/local/lib/python3.8/dist-packages (from transformers<4.19->transformers4rec[nvtabular,pytorch]) (2022.6.2)\n",
            "Collecting huggingface-hub<1.0,>=0.1.0\n",
            "  Downloading huggingface_hub-0.12.0-py3-none-any.whl (190 kB)\n",
            "\u001b[2K     \u001b[90m━━━━━━━━━━━━━━━━━━━━━━━━━━━━━━━━━━━━━━\u001b[0m \u001b[32m190.3/190.3 KB\u001b[0m \u001b[31m24.8 MB/s\u001b[0m eta \u001b[36m0:00:00\u001b[0m\n",
            "\u001b[?25hCollecting tokenizers!=0.11.3,<0.13,>=0.11.1\n",
            "  Downloading tokenizers-0.12.1-cp38-cp38-manylinux_2_12_x86_64.manylinux2010_x86_64.whl (6.6 MB)\n",
            "\u001b[2K     \u001b[90m━━━━━━━━━━━━━━━━━━━━━━━━━━━━━━━━━━━━━━━━\u001b[0m \u001b[32m6.6/6.6 MB\u001b[0m \u001b[31m103.2 MB/s\u001b[0m eta \u001b[36m0:00:00\u001b[0m\n",
            "\u001b[?25hRequirement already satisfied: pyyaml>=5.1 in /usr/local/lib/python3.8/dist-packages (from transformers<4.19->transformers4rec[nvtabular,pytorch]) (6.0)\n",
            "Collecting merlin-core>=0.2.0\n",
            "  Downloading merlin-core-0.10.0.tar.gz (112 kB)\n",
            "\u001b[2K     \u001b[90m━━━━━━━━━━━━━━━━━━━━━━━━━━━━━━━━━━━━━━\u001b[0m \u001b[32m112.1/112.1 KB\u001b[0m \u001b[31m15.9 MB/s\u001b[0m eta \u001b[36m0:00:00\u001b[0m\n",
            "\u001b[?25h  Installing build dependencies ... \u001b[?25l\u001b[?25hdone\n",
            "  Getting requirements to build wheel ... \u001b[?25l\u001b[?25hdone\n",
            "  Preparing metadata (pyproject.toml) ... \u001b[?25l\u001b[?25hdone\n",
            "Requirement already satisfied: scipy in /usr/local/lib/python3.8/dist-packages (from nvtabular->transformers4rec[nvtabular,pytorch]) (1.7.3)\n",
            "Requirement already satisfied: tensorflow-metadata>=1.2.0 in /usr/local/lib/python3.8/dist-packages (from merlin-core>=0.2.0->nvtabular->transformers4rec[nvtabular,pytorch]) (1.12.0)\n",
            "Collecting fsspec==2022.5.0\n",
            "  Downloading fsspec-2022.5.0-py3-none-any.whl (140 kB)\n",
            "\u001b[2K     \u001b[90m━━━━━━━━━━━━━━━━━━━━━━━━━━━━━━━━━━━━━━\u001b[0m \u001b[32m140.6/140.6 KB\u001b[0m \u001b[31m21.1 MB/s\u001b[0m eta \u001b[36m0:00:00\u001b[0m\n",
            "\u001b[?25hRequirement already satisfied: numba>=0.54 in /usr/local/lib/python3.8/dist-packages (from merlin-core>=0.2.0->nvtabular->transformers4rec[nvtabular,pytorch]) (0.56.4)\n",
            "Collecting distributed>=2022.3.0\n",
            "  Downloading distributed-2023.1.1-py3-none-any.whl (934 kB)\n",
            "\u001b[2K     \u001b[90m━━━━━━━━━━━━━━━━━━━━━━━━━━━━━━━━━━━━━━\u001b[0m \u001b[32m934.1/934.1 KB\u001b[0m \u001b[31m35.0 MB/s\u001b[0m eta \u001b[36m0:00:00\u001b[0m\n",
            "\u001b[?25hRequirement already satisfied: pandas<1.4.0dev0,>=1.2.0 in /usr/local/lib/python3.8/dist-packages (from merlin-core>=0.2.0->nvtabular->transformers4rec[nvtabular,pytorch]) (1.3.5)\n",
            "Collecting dask>=2022.3.0\n",
            "  Downloading dask-2023.1.1-py3-none-any.whl (1.1 MB)\n",
            "\u001b[2K     \u001b[90m━━━━━━━━━━━━━━━━━━━━━━━━━━━━━━━━━━━━━━━━\u001b[0m \u001b[32m1.1/1.1 MB\u001b[0m \u001b[31m75.4 MB/s\u001b[0m eta \u001b[36m0:00:00\u001b[0m\n",
            "\u001b[?25hRequirement already satisfied: protobuf>=3.0.0 in /usr/local/lib/python3.8/dist-packages (from merlin-core>=0.2.0->nvtabular->transformers4rec[nvtabular,pytorch]) (3.19.6)\n",
            "Requirement already satisfied: pyparsing!=3.0.5,>=2.0.2 in /usr/local/lib/python3.8/dist-packages (from packaging->torchmetrics==0.3.2->transformers4rec[nvtabular,pytorch]) (3.0.9)\n",
            "Collecting h2<5,>=3.1.0\n",
            "  Downloading h2-4.1.0-py3-none-any.whl (57 kB)\n",
            "\u001b[2K     \u001b[90m━━━━━━━━━━━━━━━━━━━━━━━━━━━━━━━━━━━━━━━━\u001b[0m \u001b[32m57.5/57.5 KB\u001b[0m \u001b[31m8.3 MB/s\u001b[0m eta \u001b[36m0:00:00\u001b[0m\n",
            "\u001b[?25hRequirement already satisfied: multidict in /usr/local/lib/python3.8/dist-packages (from grpclib->betterproto<2.0.0->transformers4rec[nvtabular,pytorch]) (6.0.4)\n",
            "Requirement already satisfied: certifi>=2017.4.17 in /usr/local/lib/python3.8/dist-packages (from requests->transformers<4.19->transformers4rec[nvtabular,pytorch]) (2022.12.7)\n",
            "Requirement already satisfied: urllib3<1.27,>=1.21.1 in /usr/local/lib/python3.8/dist-packages (from requests->transformers<4.19->transformers4rec[nvtabular,pytorch]) (1.24.3)\n",
            "Requirement already satisfied: chardet<5,>=3.0.2 in /usr/local/lib/python3.8/dist-packages (from requests->transformers<4.19->transformers4rec[nvtabular,pytorch]) (4.0.0)\n",
            "Requirement already satisfied: idna<3,>=2.5 in /usr/local/lib/python3.8/dist-packages (from requests->transformers<4.19->transformers4rec[nvtabular,pytorch]) (2.10)\n",
            "Requirement already satisfied: six in /usr/local/lib/python3.8/dist-packages (from sacremoses->transformers<4.19->transformers4rec[nvtabular,pytorch]) (1.15.0)\n",
            "Requirement already satisfied: click in /usr/local/lib/python3.8/dist-packages (from sacremoses->transformers<4.19->transformers4rec[nvtabular,pytorch]) (7.1.2)\n",
            "Requirement already satisfied: joblib in /usr/local/lib/python3.8/dist-packages (from sacremoses->transformers<4.19->transformers4rec[nvtabular,pytorch]) (1.2.0)\n",
            "Requirement already satisfied: partd>=0.3.10 in /usr/local/lib/python3.8/dist-packages (from dask>=2022.3.0->merlin-core>=0.2.0->nvtabular->transformers4rec[nvtabular,pytorch]) (1.3.0)\n",
            "Requirement already satisfied: cloudpickle>=1.1.1 in /usr/local/lib/python3.8/dist-packages (from dask>=2022.3.0->merlin-core>=0.2.0->nvtabular->transformers4rec[nvtabular,pytorch]) (2.2.0)\n",
            "Requirement already satisfied: toolz>=0.8.2 in /usr/local/lib/python3.8/dist-packages (from dask>=2022.3.0->merlin-core>=0.2.0->nvtabular->transformers4rec[nvtabular,pytorch]) (0.12.0)\n",
            "Requirement already satisfied: msgpack>=1.0.0 in /usr/local/lib/python3.8/dist-packages (from distributed>=2022.3.0->merlin-core>=0.2.0->nvtabular->transformers4rec[nvtabular,pytorch]) (1.0.4)\n",
            "Requirement already satisfied: tornado>=6.0.3 in /usr/local/lib/python3.8/dist-packages (from distributed>=2022.3.0->merlin-core>=0.2.0->nvtabular->transformers4rec[nvtabular,pytorch]) (6.0.4)\n",
            "Requirement already satisfied: locket>=1.0.0 in /usr/local/lib/python3.8/dist-packages (from distributed>=2022.3.0->merlin-core>=0.2.0->nvtabular->transformers4rec[nvtabular,pytorch]) (1.0.0)\n",
            "Requirement already satisfied: tblib>=1.6.0 in /usr/local/lib/python3.8/dist-packages (from distributed>=2022.3.0->merlin-core>=0.2.0->nvtabular->transformers4rec[nvtabular,pytorch]) (1.7.0)\n",
            "Requirement already satisfied: jinja2>=2.10.3 in /usr/local/lib/python3.8/dist-packages (from distributed>=2022.3.0->merlin-core>=0.2.0->nvtabular->transformers4rec[nvtabular,pytorch]) (2.11.3)\n",
            "Requirement already satisfied: sortedcontainers>=2.0.5 in /usr/local/lib/python3.8/dist-packages (from distributed>=2022.3.0->merlin-core>=0.2.0->nvtabular->transformers4rec[nvtabular,pytorch]) (2.4.0)\n",
            "Requirement already satisfied: psutil>=5.7.0 in /usr/local/lib/python3.8/dist-packages (from distributed>=2022.3.0->merlin-core>=0.2.0->nvtabular->transformers4rec[nvtabular,pytorch]) (5.9.4)\n",
            "Requirement already satisfied: zict>=2.1.0 in /usr/local/lib/python3.8/dist-packages (from distributed>=2022.3.0->merlin-core>=0.2.0->nvtabular->transformers4rec[nvtabular,pytorch]) (2.2.0)\n",
            "Collecting hyperframe<7,>=6.0\n",
            "  Downloading hyperframe-6.0.1-py3-none-any.whl (12 kB)\n",
            "Collecting hpack<5,>=4.0\n",
            "  Downloading hpack-4.0.0-py3-none-any.whl (32 kB)\n",
            "Requirement already satisfied: llvmlite<0.40,>=0.39.0dev0 in /usr/local/lib/python3.8/dist-packages (from numba>=0.54->merlin-core>=0.2.0->nvtabular->transformers4rec[nvtabular,pytorch]) (0.39.1)\n",
            "Requirement already satisfied: setuptools in /usr/local/lib/python3.8/dist-packages (from numba>=0.54->merlin-core>=0.2.0->nvtabular->transformers4rec[nvtabular,pytorch]) (57.4.0)\n",
            "Requirement already satisfied: importlib-metadata in /usr/local/lib/python3.8/dist-packages (from numba>=0.54->merlin-core>=0.2.0->nvtabular->transformers4rec[nvtabular,pytorch]) (6.0.0)\n",
            "Requirement already satisfied: python-dateutil>=2.7.3 in /usr/local/lib/python3.8/dist-packages (from pandas<1.4.0dev0,>=1.2.0->merlin-core>=0.2.0->nvtabular->transformers4rec[nvtabular,pytorch]) (2.8.2)\n",
            "Requirement already satisfied: pytz>=2017.3 in /usr/local/lib/python3.8/dist-packages (from pandas<1.4.0dev0,>=1.2.0->merlin-core>=0.2.0->nvtabular->transformers4rec[nvtabular,pytorch]) (2022.7)\n",
            "Requirement already satisfied: absl-py<2.0.0,>=0.9 in /usr/local/lib/python3.8/dist-packages (from tensorflow-metadata>=1.2.0->merlin-core>=0.2.0->nvtabular->transformers4rec[nvtabular,pytorch]) (1.3.0)\n",
            "Requirement already satisfied: googleapis-common-protos<2,>=1.52.0 in /usr/local/lib/python3.8/dist-packages (from tensorflow-metadata>=1.2.0->merlin-core>=0.2.0->nvtabular->transformers4rec[nvtabular,pytorch]) (1.58.0)\n",
            "Requirement already satisfied: MarkupSafe>=0.23 in /usr/local/lib/python3.8/dist-packages (from jinja2>=2.10.3->distributed>=2022.3.0->merlin-core>=0.2.0->nvtabular->transformers4rec[nvtabular,pytorch]) (2.0.1)\n",
            "Requirement already satisfied: heapdict in /usr/local/lib/python3.8/dist-packages (from zict>=2.1.0->distributed>=2022.3.0->merlin-core>=0.2.0->nvtabular->transformers4rec[nvtabular,pytorch]) (1.0.1)\n",
            "Requirement already satisfied: zipp>=0.5 in /usr/local/lib/python3.8/dist-packages (from importlib-metadata->numba>=0.54->merlin-core>=0.2.0->nvtabular->transformers4rec[nvtabular,pytorch]) (3.11.0)\n",
            "Building wheels for collected packages: betterproto, nvtabular, transformers4rec, merlin-core, grpclib, sacremoses, stringcase\n",
            "  Building wheel for betterproto (pyproject.toml) ... \u001b[?25l\u001b[?25hdone\n",
            "  Created wheel for betterproto: filename=betterproto-1.2.5-py3-none-any.whl size=22012 sha256=2ed32d849138c12fa79ffbd9b0429fd8edd8e66904e306f8739b8ec30f1fbe12\n",
            "  Stored in directory: /root/.cache/pip/wheels/f0/d8/2c/88deaa4bcf85c355055d31aebbc3b8e554ab38fd0823aa6f08\n",
            "  Building wheel for nvtabular (pyproject.toml) ... \u001b[?25l\u001b[?25hdone\n",
            "  Created wheel for nvtabular: filename=nvtabular-1.5.0-cp38-cp38-linux_x86_64.whl size=265913 sha256=5f2da923c8c0f743b98dae4e9d183eff399c662ed1103f3353a937971f196704\n",
            "  Stored in directory: /root/.cache/pip/wheels/54/da/72/3fca349ad2348f10c3b2f873daff3ce2a1e072787d231f6ebe\n",
            "  Building wheel for transformers4rec (pyproject.toml) ... \u001b[?25l\u001b[?25hdone\n",
            "  Created wheel for transformers4rec: filename=transformers4rec-0.1.15-py3-none-any.whl size=355159 sha256=103483f72a47f6cfb8e06db0a53bfd5b0969536a2decb977f7c9abe2c4083f12\n",
            "  Stored in directory: /root/.cache/pip/wheels/a7/f9/04/4e3695cfd38cd2f023d9a733414a6152753c3242dd322886d0\n",
            "  Building wheel for merlin-core (pyproject.toml) ... \u001b[?25l\u001b[?25hdone\n",
            "  Created wheel for merlin-core: filename=merlin_core-0.10.0-py3-none-any.whl size=118957 sha256=5d5d6fff1b2db6caae36c85e2ee49d57b84a0e6356b2fc215de84fd937a0b98f\n",
            "  Stored in directory: /root/.cache/pip/wheels/fc/61/f5/248b8e08a868d53576e56cab6d8dcad527c28a69499cf8486a\n",
            "  Building wheel for grpclib (pyproject.toml) ... \u001b[?25l\u001b[?25hdone\n",
            "  Created wheel for grpclib: filename=grpclib-0.4.3-py3-none-any.whl size=77081 sha256=489020539f0a8c4790f7cb3eee66691a7e0a97a1809d28c6d77654a8a761074e\n",
            "  Stored in directory: /root/.cache/pip/wheels/3c/bf/37/810d98c051f7709adc84c97077afaef55a58725f879fc7f780\n",
            "  Building wheel for sacremoses (setup.py) ... \u001b[?25l\u001b[?25hdone\n",
            "  Created wheel for sacremoses: filename=sacremoses-0.0.53-py3-none-any.whl size=895260 sha256=91eecabd2198b0b7de7e12e7bea3ff58e0450be59937c41c8de8490699e1ddb2\n",
            "  Stored in directory: /root/.cache/pip/wheels/82/ab/9b/c15899bf659ba74f623ac776e861cf2eb8608c1825ddec66a4\n",
            "  Building wheel for stringcase (setup.py) ... \u001b[?25l\u001b[?25hdone\n",
            "  Created wheel for stringcase: filename=stringcase-1.2.0-py3-none-any.whl size=3587 sha256=2fdc68b887f174756549b6d6aba512c8fc9e6539034db1f451b51aec838d972a\n",
            "  Stored in directory: /root/.cache/pip/wheels/04/0e/31/bf265c64f2a4d24516e9923f1f6293c3bcbcde75e0d80ab47a\n",
            "Successfully built betterproto nvtabular transformers4rec merlin-core grpclib sacremoses stringcase\n",
            "Installing collected packages: tokenizers, stringcase, sacremoses, hyperframe, hpack, fsspec, torchmetrics, huggingface-hub, h2, dask, transformers, grpclib, distributed, betterproto, transformers4rec, merlin-core, nvtabular\n",
            "  Attempting uninstall: fsspec\n",
            "    Found existing installation: fsspec 2023.1.0\n",
            "    Uninstalling fsspec-2023.1.0:\n",
            "      Successfully uninstalled fsspec-2023.1.0\n",
            "  Attempting uninstall: dask\n",
            "    Found existing installation: dask 2022.2.1\n",
            "    Uninstalling dask-2022.2.1:\n",
            "      Successfully uninstalled dask-2022.2.1\n",
            "  Attempting uninstall: distributed\n",
            "    Found existing installation: distributed 2022.2.1\n",
            "    Uninstalling distributed-2022.2.1:\n",
            "      Successfully uninstalled distributed-2022.2.1\n",
            "\u001b[31mERROR: pip's dependency resolver does not currently take into account all the packages that are installed. This behaviour is the source of the following dependency conflicts.\n",
            "gcsfs 2023.1.0 requires fsspec==2023.1.0, but you have fsspec 2022.5.0 which is incompatible.\u001b[0m\u001b[31m\n",
            "\u001b[0mSuccessfully installed betterproto-1.2.5 dask-2023.1.1 distributed-2023.1.1 fsspec-2022.5.0 grpclib-0.4.3 h2-4.1.0 hpack-4.0.0 huggingface-hub-0.12.0 hyperframe-6.0.1 merlin-core-0.10.0 nvtabular-1.5.0 sacremoses-0.0.53 stringcase-1.2.0 tokenizers-0.12.1 torchmetrics-0.3.2 transformers-4.18.0 transformers4rec-0.1.15\n",
            "Looking in indexes: https://pypi.org/simple, https://us-python.pkg.dev/colab-wheels/public/simple/\n",
            "Collecting nvtabular==1.3.3\n",
            "  Downloading nvtabular-1.3.3.tar.gz (132 kB)\n",
            "\u001b[2K     \u001b[90m━━━━━━━━━━━━━━━━━━━━━━━━━━━━━━━━━━━━━━━\u001b[0m \u001b[32m132.6/132.6 KB\u001b[0m \u001b[31m4.6 MB/s\u001b[0m eta \u001b[36m0:00:00\u001b[0m\n",
            "\u001b[?25h  Installing build dependencies ... \u001b[?25l\u001b[?25hdone\n",
            "  Getting requirements to build wheel ... \u001b[?25l\u001b[?25hdone\n",
            "  Preparing metadata (pyproject.toml) ... \u001b[?25l\u001b[?25hdone\n",
            "Requirement already satisfied: merlin-core>=0.2.0 in /usr/local/lib/python3.8/dist-packages (from nvtabular==1.3.3) (0.10.0)\n",
            "Requirement already satisfied: distributed>=2022.3.0 in /usr/local/lib/python3.8/dist-packages (from merlin-core>=0.2.0->nvtabular==1.3.3) (2023.1.1)\n",
            "Requirement already satisfied: fsspec==2022.5.0 in /usr/local/lib/python3.8/dist-packages (from merlin-core>=0.2.0->nvtabular==1.3.3) (2022.5.0)\n",
            "Requirement already satisfied: tensorflow-metadata>=1.2.0 in /usr/local/lib/python3.8/dist-packages (from merlin-core>=0.2.0->nvtabular==1.3.3) (1.12.0)\n",
            "Requirement already satisfied: tqdm>=4.0 in /usr/local/lib/python3.8/dist-packages (from merlin-core>=0.2.0->nvtabular==1.3.3) (4.64.1)\n",
            "Requirement already satisfied: numba>=0.54 in /usr/local/lib/python3.8/dist-packages (from merlin-core>=0.2.0->nvtabular==1.3.3) (0.56.4)\n",
            "Requirement already satisfied: pandas<1.4.0dev0,>=1.2.0 in /usr/local/lib/python3.8/dist-packages (from merlin-core>=0.2.0->nvtabular==1.3.3) (1.3.5)\n",
            "Requirement already satisfied: dask>=2022.3.0 in /usr/local/lib/python3.8/dist-packages (from merlin-core>=0.2.0->nvtabular==1.3.3) (2023.1.1)\n",
            "Requirement already satisfied: betterproto<2.0.0 in /usr/local/lib/python3.8/dist-packages (from merlin-core>=0.2.0->nvtabular==1.3.3) (1.2.5)\n",
            "Requirement already satisfied: packaging in /usr/local/lib/python3.8/dist-packages (from merlin-core>=0.2.0->nvtabular==1.3.3) (21.3)\n",
            "Requirement already satisfied: pyarrow>=5.0.0 in /usr/local/lib/python3.8/dist-packages (from merlin-core>=0.2.0->nvtabular==1.3.3) (9.0.0)\n",
            "Requirement already satisfied: protobuf>=3.0.0 in /usr/local/lib/python3.8/dist-packages (from merlin-core>=0.2.0->nvtabular==1.3.3) (3.19.6)\n",
            "Requirement already satisfied: grpclib in /usr/local/lib/python3.8/dist-packages (from betterproto<2.0.0->merlin-core>=0.2.0->nvtabular==1.3.3) (0.4.3)\n",
            "Requirement already satisfied: stringcase in /usr/local/lib/python3.8/dist-packages (from betterproto<2.0.0->merlin-core>=0.2.0->nvtabular==1.3.3) (1.2.0)\n",
            "Requirement already satisfied: toolz>=0.8.2 in /usr/local/lib/python3.8/dist-packages (from dask>=2022.3.0->merlin-core>=0.2.0->nvtabular==1.3.3) (0.12.0)\n",
            "Requirement already satisfied: partd>=0.3.10 in /usr/local/lib/python3.8/dist-packages (from dask>=2022.3.0->merlin-core>=0.2.0->nvtabular==1.3.3) (1.3.0)\n",
            "Requirement already satisfied: pyyaml>=5.3.1 in /usr/local/lib/python3.8/dist-packages (from dask>=2022.3.0->merlin-core>=0.2.0->nvtabular==1.3.3) (6.0)\n",
            "Requirement already satisfied: cloudpickle>=1.1.1 in /usr/local/lib/python3.8/dist-packages (from dask>=2022.3.0->merlin-core>=0.2.0->nvtabular==1.3.3) (2.2.0)\n",
            "Requirement already satisfied: click>=7.0 in /usr/local/lib/python3.8/dist-packages (from dask>=2022.3.0->merlin-core>=0.2.0->nvtabular==1.3.3) (7.1.2)\n",
            "Requirement already satisfied: msgpack>=1.0.0 in /usr/local/lib/python3.8/dist-packages (from distributed>=2022.3.0->merlin-core>=0.2.0->nvtabular==1.3.3) (1.0.4)\n",
            "Requirement already satisfied: tblib>=1.6.0 in /usr/local/lib/python3.8/dist-packages (from distributed>=2022.3.0->merlin-core>=0.2.0->nvtabular==1.3.3) (1.7.0)\n",
            "Requirement already satisfied: zict>=2.1.0 in /usr/local/lib/python3.8/dist-packages (from distributed>=2022.3.0->merlin-core>=0.2.0->nvtabular==1.3.3) (2.2.0)\n",
            "Requirement already satisfied: locket>=1.0.0 in /usr/local/lib/python3.8/dist-packages (from distributed>=2022.3.0->merlin-core>=0.2.0->nvtabular==1.3.3) (1.0.0)\n",
            "Requirement already satisfied: psutil>=5.7.0 in /usr/local/lib/python3.8/dist-packages (from distributed>=2022.3.0->merlin-core>=0.2.0->nvtabular==1.3.3) (5.9.4)\n",
            "Requirement already satisfied: urllib3>=1.24.3 in /usr/local/lib/python3.8/dist-packages (from distributed>=2022.3.0->merlin-core>=0.2.0->nvtabular==1.3.3) (1.24.3)\n",
            "Requirement already satisfied: sortedcontainers>=2.0.5 in /usr/local/lib/python3.8/dist-packages (from distributed>=2022.3.0->merlin-core>=0.2.0->nvtabular==1.3.3) (2.4.0)\n",
            "Requirement already satisfied: jinja2>=2.10.3 in /usr/local/lib/python3.8/dist-packages (from distributed>=2022.3.0->merlin-core>=0.2.0->nvtabular==1.3.3) (2.11.3)\n",
            "Requirement already satisfied: tornado>=6.0.3 in /usr/local/lib/python3.8/dist-packages (from distributed>=2022.3.0->merlin-core>=0.2.0->nvtabular==1.3.3) (6.0.4)\n",
            "Requirement already satisfied: importlib-metadata in /usr/local/lib/python3.8/dist-packages (from numba>=0.54->merlin-core>=0.2.0->nvtabular==1.3.3) (6.0.0)\n",
            "Requirement already satisfied: llvmlite<0.40,>=0.39.0dev0 in /usr/local/lib/python3.8/dist-packages (from numba>=0.54->merlin-core>=0.2.0->nvtabular==1.3.3) (0.39.1)\n",
            "Requirement already satisfied: numpy<1.24,>=1.18 in /usr/local/lib/python3.8/dist-packages (from numba>=0.54->merlin-core>=0.2.0->nvtabular==1.3.3) (1.21.6)\n",
            "Requirement already satisfied: setuptools in /usr/local/lib/python3.8/dist-packages (from numba>=0.54->merlin-core>=0.2.0->nvtabular==1.3.3) (57.4.0)\n",
            "Requirement already satisfied: pyparsing!=3.0.5,>=2.0.2 in /usr/local/lib/python3.8/dist-packages (from packaging->merlin-core>=0.2.0->nvtabular==1.3.3) (3.0.9)\n",
            "Requirement already satisfied: pytz>=2017.3 in /usr/local/lib/python3.8/dist-packages (from pandas<1.4.0dev0,>=1.2.0->merlin-core>=0.2.0->nvtabular==1.3.3) (2022.7)\n",
            "Requirement already satisfied: python-dateutil>=2.7.3 in /usr/local/lib/python3.8/dist-packages (from pandas<1.4.0dev0,>=1.2.0->merlin-core>=0.2.0->nvtabular==1.3.3) (2.8.2)\n",
            "Requirement already satisfied: googleapis-common-protos<2,>=1.52.0 in /usr/local/lib/python3.8/dist-packages (from tensorflow-metadata>=1.2.0->merlin-core>=0.2.0->nvtabular==1.3.3) (1.58.0)\n",
            "Requirement already satisfied: absl-py<2.0.0,>=0.9 in /usr/local/lib/python3.8/dist-packages (from tensorflow-metadata>=1.2.0->merlin-core>=0.2.0->nvtabular==1.3.3) (1.3.0)\n",
            "Requirement already satisfied: MarkupSafe>=0.23 in /usr/local/lib/python3.8/dist-packages (from jinja2>=2.10.3->distributed>=2022.3.0->merlin-core>=0.2.0->nvtabular==1.3.3) (2.0.1)\n",
            "Requirement already satisfied: six>=1.5 in /usr/local/lib/python3.8/dist-packages (from python-dateutil>=2.7.3->pandas<1.4.0dev0,>=1.2.0->merlin-core>=0.2.0->nvtabular==1.3.3) (1.15.0)\n",
            "Requirement already satisfied: heapdict in /usr/local/lib/python3.8/dist-packages (from zict>=2.1.0->distributed>=2022.3.0->merlin-core>=0.2.0->nvtabular==1.3.3) (1.0.1)\n",
            "Requirement already satisfied: h2<5,>=3.1.0 in /usr/local/lib/python3.8/dist-packages (from grpclib->betterproto<2.0.0->merlin-core>=0.2.0->nvtabular==1.3.3) (4.1.0)\n",
            "Requirement already satisfied: multidict in /usr/local/lib/python3.8/dist-packages (from grpclib->betterproto<2.0.0->merlin-core>=0.2.0->nvtabular==1.3.3) (6.0.4)\n",
            "Requirement already satisfied: zipp>=0.5 in /usr/local/lib/python3.8/dist-packages (from importlib-metadata->numba>=0.54->merlin-core>=0.2.0->nvtabular==1.3.3) (3.11.0)\n",
            "Requirement already satisfied: hpack<5,>=4.0 in /usr/local/lib/python3.8/dist-packages (from h2<5,>=3.1.0->grpclib->betterproto<2.0.0->merlin-core>=0.2.0->nvtabular==1.3.3) (4.0.0)\n",
            "Requirement already satisfied: hyperframe<7,>=6.0 in /usr/local/lib/python3.8/dist-packages (from h2<5,>=3.1.0->grpclib->betterproto<2.0.0->merlin-core>=0.2.0->nvtabular==1.3.3) (6.0.1)\n",
            "Building wheels for collected packages: nvtabular\n",
            "  Building wheel for nvtabular (pyproject.toml) ... \u001b[?25l\u001b[?25hdone\n",
            "  Created wheel for nvtabular: filename=nvtabular-1.3.3-cp38-cp38-linux_x86_64.whl size=267148 sha256=f38a7a736e4ee2d2f711aa74f46d1c46a6651be4df017eab8fcdd0c8b71c7e06\n",
            "  Stored in directory: /root/.cache/pip/wheels/4a/77/fd/af573fde58e010040b863b7e552d4877f0b2c221bfcadb3cc6\n",
            "Successfully built nvtabular\n",
            "Installing collected packages: nvtabular\n",
            "  Attempting uninstall: nvtabular\n",
            "    Found existing installation: nvtabular 1.5.0\n",
            "    Uninstalling nvtabular-1.5.0:\n",
            "      Successfully uninstalled nvtabular-1.5.0\n",
            "Successfully installed nvtabular-1.3.3\n",
            "Looking in indexes: https://pypi.org/simple, https://us-python.pkg.dev/colab-wheels/public/simple/\n",
            "Collecting pytorch_lightning==1.8.0.post1\n",
            "  Downloading pytorch_lightning-1.8.0.post1-py3-none-any.whl (796 kB)\n",
            "\u001b[2K     \u001b[90m━━━━━━━━━━━━━━━━━━━━━━━━━━━━━━━━━━━━━━\u001b[0m \u001b[32m796.1/796.1 KB\u001b[0m \u001b[31m13.2 MB/s\u001b[0m eta \u001b[36m0:00:00\u001b[0m\n",
            "\u001b[?25hCollecting lightning-lite==1.8.0.post1\n",
            "  Downloading lightning_lite-1.8.0.post1-py3-none-any.whl (136 kB)\n",
            "\u001b[2K     \u001b[90m━━━━━━━━━━━━━━━━━━━━━━━━━━━━━━━━━━━━━━\u001b[0m \u001b[32m136.4/136.4 KB\u001b[0m \u001b[31m19.0 MB/s\u001b[0m eta \u001b[36m0:00:00\u001b[0m\n",
            "\u001b[?25hCollecting torchmetrics>=0.7.0\n",
            "  Downloading torchmetrics-0.11.1-py3-none-any.whl (517 kB)\n",
            "\u001b[2K     \u001b[90m━━━━━━━━━━━━━━━━━━━━━━━━━━━━━━━━━━━━━━\u001b[0m \u001b[32m517.2/517.2 KB\u001b[0m \u001b[31m45.3 MB/s\u001b[0m eta \u001b[36m0:00:00\u001b[0m\n",
            "\u001b[?25hRequirement already satisfied: PyYAML>=5.4 in /usr/local/lib/python3.8/dist-packages (from pytorch_lightning==1.8.0.post1) (6.0)\n",
            "Requirement already satisfied: packaging>=17.0 in /usr/local/lib/python3.8/dist-packages (from pytorch_lightning==1.8.0.post1) (21.3)\n",
            "Requirement already satisfied: typing-extensions>=4.0.0 in /usr/local/lib/python3.8/dist-packages (from pytorch_lightning==1.8.0.post1) (4.4.0)\n",
            "Collecting lightning-utilities==0.3.*\n",
            "  Downloading lightning_utilities-0.3.0-py3-none-any.whl (15 kB)\n",
            "Requirement already satisfied: torch>=1.9.* in /usr/local/lib/python3.8/dist-packages (from pytorch_lightning==1.8.0.post1) (1.13.1+cu116)\n",
            "Requirement already satisfied: tensorboard>=2.9.1 in /usr/local/lib/python3.8/dist-packages (from pytorch_lightning==1.8.0.post1) (2.9.1)\n",
            "Requirement already satisfied: fsspec[http]>2021.06.0 in /usr/local/lib/python3.8/dist-packages (from pytorch_lightning==1.8.0.post1) (2022.5.0)\n",
            "Requirement already satisfied: tqdm>=4.57.0 in /usr/local/lib/python3.8/dist-packages (from pytorch_lightning==1.8.0.post1) (4.64.1)\n",
            "Requirement already satisfied: numpy>=1.17.2 in /usr/local/lib/python3.8/dist-packages (from pytorch_lightning==1.8.0.post1) (1.21.6)\n",
            "Collecting fire\n",
            "  Downloading fire-0.5.0.tar.gz (88 kB)\n",
            "\u001b[2K     \u001b[90m━━━━━━━━━━━━━━━━━━━━━━━━━━━━━━━━━━━━━━━━\u001b[0m \u001b[32m88.3/88.3 KB\u001b[0m \u001b[31m13.3 MB/s\u001b[0m eta \u001b[36m0:00:00\u001b[0m\n",
            "\u001b[?25h  Preparing metadata (setup.py) ... \u001b[?25l\u001b[?25hdone\n",
            "Requirement already satisfied: requests in /usr/local/lib/python3.8/dist-packages (from fsspec[http]>2021.06.0->pytorch_lightning==1.8.0.post1) (2.25.1)\n",
            "Requirement already satisfied: aiohttp in /usr/local/lib/python3.8/dist-packages (from fsspec[http]>2021.06.0->pytorch_lightning==1.8.0.post1) (3.8.3)\n",
            "Requirement already satisfied: pyparsing!=3.0.5,>=2.0.2 in /usr/local/lib/python3.8/dist-packages (from packaging>=17.0->pytorch_lightning==1.8.0.post1) (3.0.9)\n",
            "Requirement already satisfied: protobuf<3.20,>=3.9.2 in /usr/local/lib/python3.8/dist-packages (from tensorboard>=2.9.1->pytorch_lightning==1.8.0.post1) (3.19.6)\n",
            "Requirement already satisfied: absl-py>=0.4 in /usr/local/lib/python3.8/dist-packages (from tensorboard>=2.9.1->pytorch_lightning==1.8.0.post1) (1.3.0)\n",
            "Requirement already satisfied: google-auth<3,>=1.6.3 in /usr/local/lib/python3.8/dist-packages (from tensorboard>=2.9.1->pytorch_lightning==1.8.0.post1) (2.16.0)\n",
            "Requirement already satisfied: google-auth-oauthlib<0.5,>=0.4.1 in /usr/local/lib/python3.8/dist-packages (from tensorboard>=2.9.1->pytorch_lightning==1.8.0.post1) (0.4.6)\n",
            "Requirement already satisfied: tensorboard-data-server<0.7.0,>=0.6.0 in /usr/local/lib/python3.8/dist-packages (from tensorboard>=2.9.1->pytorch_lightning==1.8.0.post1) (0.6.1)\n",
            "Requirement already satisfied: wheel>=0.26 in /usr/local/lib/python3.8/dist-packages (from tensorboard>=2.9.1->pytorch_lightning==1.8.0.post1) (0.38.4)\n",
            "Requirement already satisfied: markdown>=2.6.8 in /usr/local/lib/python3.8/dist-packages (from tensorboard>=2.9.1->pytorch_lightning==1.8.0.post1) (3.4.1)\n",
            "Requirement already satisfied: setuptools>=41.0.0 in /usr/local/lib/python3.8/dist-packages (from tensorboard>=2.9.1->pytorch_lightning==1.8.0.post1) (57.4.0)\n",
            "Requirement already satisfied: tensorboard-plugin-wit>=1.6.0 in /usr/local/lib/python3.8/dist-packages (from tensorboard>=2.9.1->pytorch_lightning==1.8.0.post1) (1.8.1)\n",
            "Requirement already satisfied: werkzeug>=1.0.1 in /usr/local/lib/python3.8/dist-packages (from tensorboard>=2.9.1->pytorch_lightning==1.8.0.post1) (1.0.1)\n",
            "Requirement already satisfied: grpcio>=1.24.3 in /usr/local/lib/python3.8/dist-packages (from tensorboard>=2.9.1->pytorch_lightning==1.8.0.post1) (1.51.1)\n",
            "Requirement already satisfied: six>=1.9.0 in /usr/local/lib/python3.8/dist-packages (from google-auth<3,>=1.6.3->tensorboard>=2.9.1->pytorch_lightning==1.8.0.post1) (1.15.0)\n",
            "Requirement already satisfied: pyasn1-modules>=0.2.1 in /usr/local/lib/python3.8/dist-packages (from google-auth<3,>=1.6.3->tensorboard>=2.9.1->pytorch_lightning==1.8.0.post1) (0.2.8)\n",
            "Requirement already satisfied: cachetools<6.0,>=2.0.0 in /usr/local/lib/python3.8/dist-packages (from google-auth<3,>=1.6.3->tensorboard>=2.9.1->pytorch_lightning==1.8.0.post1) (5.2.1)\n",
            "Requirement already satisfied: rsa<5,>=3.1.4 in /usr/local/lib/python3.8/dist-packages (from google-auth<3,>=1.6.3->tensorboard>=2.9.1->pytorch_lightning==1.8.0.post1) (4.9)\n",
            "Requirement already satisfied: requests-oauthlib>=0.7.0 in /usr/local/lib/python3.8/dist-packages (from google-auth-oauthlib<0.5,>=0.4.1->tensorboard>=2.9.1->pytorch_lightning==1.8.0.post1) (1.3.1)\n",
            "Requirement already satisfied: importlib-metadata>=4.4 in /usr/local/lib/python3.8/dist-packages (from markdown>=2.6.8->tensorboard>=2.9.1->pytorch_lightning==1.8.0.post1) (6.0.0)\n",
            "Requirement already satisfied: urllib3<1.27,>=1.21.1 in /usr/local/lib/python3.8/dist-packages (from requests->fsspec[http]>2021.06.0->pytorch_lightning==1.8.0.post1) (1.24.3)\n",
            "Requirement already satisfied: chardet<5,>=3.0.2 in /usr/local/lib/python3.8/dist-packages (from requests->fsspec[http]>2021.06.0->pytorch_lightning==1.8.0.post1) (4.0.0)\n",
            "Requirement already satisfied: certifi>=2017.4.17 in /usr/local/lib/python3.8/dist-packages (from requests->fsspec[http]>2021.06.0->pytorch_lightning==1.8.0.post1) (2022.12.7)\n",
            "Requirement already satisfied: idna<3,>=2.5 in /usr/local/lib/python3.8/dist-packages (from requests->fsspec[http]>2021.06.0->pytorch_lightning==1.8.0.post1) (2.10)\n",
            "Requirement already satisfied: aiosignal>=1.1.2 in /usr/local/lib/python3.8/dist-packages (from aiohttp->fsspec[http]>2021.06.0->pytorch_lightning==1.8.0.post1) (1.3.1)\n",
            "Requirement already satisfied: async-timeout<5.0,>=4.0.0a3 in /usr/local/lib/python3.8/dist-packages (from aiohttp->fsspec[http]>2021.06.0->pytorch_lightning==1.8.0.post1) (4.0.2)\n",
            "Requirement already satisfied: charset-normalizer<3.0,>=2.0 in /usr/local/lib/python3.8/dist-packages (from aiohttp->fsspec[http]>2021.06.0->pytorch_lightning==1.8.0.post1) (2.1.1)\n",
            "Requirement already satisfied: attrs>=17.3.0 in /usr/local/lib/python3.8/dist-packages (from aiohttp->fsspec[http]>2021.06.0->pytorch_lightning==1.8.0.post1) (22.2.0)\n",
            "Requirement already satisfied: yarl<2.0,>=1.0 in /usr/local/lib/python3.8/dist-packages (from aiohttp->fsspec[http]>2021.06.0->pytorch_lightning==1.8.0.post1) (1.8.2)\n",
            "Requirement already satisfied: frozenlist>=1.1.1 in /usr/local/lib/python3.8/dist-packages (from aiohttp->fsspec[http]>2021.06.0->pytorch_lightning==1.8.0.post1) (1.3.3)\n",
            "Requirement already satisfied: multidict<7.0,>=4.5 in /usr/local/lib/python3.8/dist-packages (from aiohttp->fsspec[http]>2021.06.0->pytorch_lightning==1.8.0.post1) (6.0.4)\n",
            "Requirement already satisfied: termcolor in /usr/local/lib/python3.8/dist-packages (from fire->lightning-utilities==0.3.*->pytorch_lightning==1.8.0.post1) (2.2.0)\n",
            "Requirement already satisfied: zipp>=0.5 in /usr/local/lib/python3.8/dist-packages (from importlib-metadata>=4.4->markdown>=2.6.8->tensorboard>=2.9.1->pytorch_lightning==1.8.0.post1) (3.11.0)\n",
            "Requirement already satisfied: pyasn1<0.5.0,>=0.4.6 in /usr/local/lib/python3.8/dist-packages (from pyasn1-modules>=0.2.1->google-auth<3,>=1.6.3->tensorboard>=2.9.1->pytorch_lightning==1.8.0.post1) (0.4.8)\n",
            "Requirement already satisfied: oauthlib>=3.0.0 in /usr/local/lib/python3.8/dist-packages (from requests-oauthlib>=0.7.0->google-auth-oauthlib<0.5,>=0.4.1->tensorboard>=2.9.1->pytorch_lightning==1.8.0.post1) (3.2.2)\n",
            "Building wheels for collected packages: fire\n",
            "  Building wheel for fire (setup.py) ... \u001b[?25l\u001b[?25hdone\n",
            "  Created wheel for fire: filename=fire-0.5.0-py2.py3-none-any.whl size=116949 sha256=5027ab7ddd8c0813b1939d6d3505ee8b7ebb815e68c8e43cebdb7696d17dfcd7\n",
            "  Stored in directory: /root/.cache/pip/wheels/5b/eb/43/7295e71293b218ddfd627f935229bf54af9018add7fbb5aac6\n",
            "Successfully built fire\n",
            "Installing collected packages: fire, torchmetrics, lightning-utilities, lightning-lite, pytorch_lightning\n",
            "  Attempting uninstall: torchmetrics\n",
            "    Found existing installation: torchmetrics 0.3.2\n",
            "    Uninstalling torchmetrics-0.3.2:\n",
            "      Successfully uninstalled torchmetrics-0.3.2\n",
            "Successfully installed fire-0.5.0 lightning-lite-1.8.0.post1 lightning-utilities-0.3.0 pytorch_lightning-1.8.0.post1 torchmetrics-0.11.1\n",
            "Looking in indexes: https://pypi.org/simple, https://us-python.pkg.dev/colab-wheels/public/simple/\n",
            "Collecting torchmetrics==0.10.0\n",
            "  Downloading torchmetrics-0.10.0-py3-none-any.whl (529 kB)\n",
            "\u001b[2K     \u001b[90m━━━━━━━━━━━━━━━━━━━━━━━━━━━━━━━━━━━━━━\u001b[0m \u001b[32m529.2/529.2 KB\u001b[0m \u001b[31m10.5 MB/s\u001b[0m eta \u001b[36m0:00:00\u001b[0m\n",
            "\u001b[?25hRequirement already satisfied: packaging in /usr/local/lib/python3.8/dist-packages (from torchmetrics==0.10.0) (21.3)\n",
            "Requirement already satisfied: numpy>=1.17.2 in /usr/local/lib/python3.8/dist-packages (from torchmetrics==0.10.0) (1.21.6)\n",
            "Requirement already satisfied: torch>=1.3.1 in /usr/local/lib/python3.8/dist-packages (from torchmetrics==0.10.0) (1.13.1+cu116)\n",
            "Requirement already satisfied: typing-extensions in /usr/local/lib/python3.8/dist-packages (from torchmetrics==0.10.0) (4.4.0)\n",
            "Requirement already satisfied: pyparsing!=3.0.5,>=2.0.2 in /usr/local/lib/python3.8/dist-packages (from packaging->torchmetrics==0.10.0) (3.0.9)\n",
            "Installing collected packages: torchmetrics\n",
            "  Attempting uninstall: torchmetrics\n",
            "    Found existing installation: torchmetrics 0.11.1\n",
            "    Uninstalling torchmetrics-0.11.1:\n",
            "      Successfully uninstalled torchmetrics-0.11.1\n",
            "Successfully installed torchmetrics-0.10.0\n"
          ]
        }
      ]
    },
    {
      "cell_type": "markdown",
      "source": [
        "# Import Transformers4Rec"
      ],
      "metadata": {
        "id": "5NjgdSLZYuKH"
      }
    },
    {
      "cell_type": "code",
      "source": [
        "import gc\n",
        "import glob\n",
        "import os\n",
        "import warnings\n",
        "\n",
        "import numpy as np\n",
        "import pandas as pd\n",
        "import torch\n",
        "from tqdm.notebook import tqdm\n",
        "\n",
        "warnings.simplefilter(action=\"ignore\", category=FutureWarning)\n",
        "warnings.simplefilter(action=\"ignore\", category=UserWarning)\n",
        "\n",
        "from merlin_standard_lib import Schema, Tag\n",
        "from transformers4rec import torch as tr\n",
        "from transformers4rec.torch import Trainer\n",
        "from transformers4rec.torch.ranking_metric import RecallAt\n",
        "from transformers4rec.config.trainer import T4RecTrainingArguments\n",
        "from transformers4rec.torch.utils.data_utils import T4RecDataLoader"
      ],
      "metadata": {
        "execution": {
          "iopub.status.busy": "2023-01-29T15:26:56.840359Z",
          "iopub.execute_input": "2023-01-29T15:26:56.840734Z",
          "iopub.status.idle": "2023-01-29T15:27:06.416647Z",
          "shell.execute_reply.started": "2023-01-29T15:26:56.840699Z",
          "shell.execute_reply": "2023-01-29T15:27:06.415647Z"
        },
        "trusted": true,
        "id": "oo3q2lo5DEE3"
      },
      "execution_count": null,
      "outputs": []
    },
    {
      "cell_type": "markdown",
      "source": [
        "# Variables Setting"
      ],
      "metadata": {
        "id": "xMTjpOo_U62O"
      }
    },
    {
      "cell_type": "code",
      "source": [
        "DEBUG = False\n",
        "OUTPUT_PATH = \"orders\"\n",
        "CHECKPOINT = \"orders/checkpoint-50000\""
      ],
      "metadata": {
        "execution": {
          "iopub.status.busy": "2023-01-29T15:35:35.762796Z",
          "iopub.execute_input": "2023-01-29T15:35:35.763784Z",
          "iopub.status.idle": "2023-01-29T15:35:35.769101Z",
          "shell.execute_reply.started": "2023-01-29T15:35:35.763745Z",
          "shell.execute_reply": "2023-01-29T15:35:35.767884Z"
        },
        "trusted": true,
        "id": "syfxWDjLDEE4"
      },
      "execution_count": null,
      "outputs": []
    },
    {
      "cell_type": "code",
      "source": [
        "MAX_SEQUENCE_LENGTH = 500\n",
        "D_MODEL = 512\n",
        "\n",
        "TRAIN_BATCH_SIZE = 192\n",
        "EVAL_BATCH_SIZE = 256\n",
        "\n",
        "\n",
        "if DEBUG:\n",
        "    MAX_STEPS = 2000\n",
        "    EVAL_BATCH_SIZE = 4\n",
        "else:\n",
        "    MAX_STEPS = -1"
      ],
      "metadata": {
        "execution": {
          "iopub.status.busy": "2023-01-29T15:35:36.703050Z",
          "iopub.execute_input": "2023-01-29T15:35:36.703430Z",
          "iopub.status.idle": "2023-01-29T15:35:36.709168Z",
          "shell.execute_reply.started": "2023-01-29T15:35:36.703398Z",
          "shell.execute_reply": "2023-01-29T15:35:36.707921Z"
        },
        "trusted": true,
        "id": "eKQzTle7DEE5"
      },
      "execution_count": null,
      "outputs": []
    },
    {
      "cell_type": "code",
      "source": [
        "if DEBUG:\n",
        "    train_path = [\n",
        "        \"./dataset/train/part_0.parquet\",\n",
        "        \"./dataset/train/part_1.parquet\",\n",
        "        \"./dataset/train/part_2.parquet\",\n",
        "        \"./dataset/train/part_3.parquet\",\n",
        "    ]\n",
        "    valid_path = \"./dataset/valid/part_0.parquet\"\n",
        "    test_path = \"./dataset/test/part_0.parquet\"\n",
        "else:\n",
        "    train_path = sorted(glob.glob(\"./dataset/train/part_*.parquet\"))\n",
        "    valid_path = sorted(glob.glob(\"./dataset/valid/part_*.parquet\"))\n",
        "    test_path = sorted(glob.glob(\"./dataset/test/part_*.parquet\"))\n",
        "    \n",
        "output_path = os.path.join(\"mount_checkpoint\", OUTPUT_PATH)\n",
        "checkpoint = os.path.join(\"mount_checkpoint\", CHECKPOINT)"
      ],
      "metadata": {
        "execution": {
          "iopub.status.busy": "2023-01-29T15:35:36.944557Z",
          "iopub.execute_input": "2023-01-29T15:35:36.944938Z",
          "iopub.status.idle": "2023-01-29T15:35:37.000374Z",
          "shell.execute_reply.started": "2023-01-29T15:35:36.944905Z",
          "shell.execute_reply": "2023-01-29T15:35:36.999363Z"
        },
        "trusted": true,
        "id": "WU-cNAbhDEE6"
      },
      "execution_count": null,
      "outputs": []
    },
    {
      "cell_type": "markdown",
      "source": [
        "# Create schema proto manually\n",
        "\n",
        "(on Oct 6, 2021)\n",
        "> The latest version of the NVTabular library (used for the ETL pipeline) automatically outputs a schema file in the protobuf text format (schema.pbtxt) together with the parquet files of processed data. This is still a work in progress and we'll include the necessary support in the future release of Transformers4Rec.\n",
        "\n",
        "https://github.com/NVIDIA-Merlin/Transformers4Rec/issues/271#issuecomment-934850026"
      ],
      "metadata": {
        "id": "1DZyX048DEE6"
      }
    },
    {
      "cell_type": "code",
      "source": [
        "%%writefile schema.pb\n",
        "feature {\n",
        "  name: \"session\"\n",
        "  type: INT\n",
        "  int_domain {\n",
        "    name: \"session\"\n",
        "    min: 0\n",
        "    max: 12899778\n",
        "    is_categorical: true\n",
        "  }\n",
        "  annotation {\n",
        "    tag: \"context\"\n",
        "    tag: \"categorical\"\n",
        "  }\n",
        "}\n",
        "\n",
        "feature {\n",
        "  name: \"aid-list\"\n",
        "  value_count {\n",
        "    min: 1\n",
        "    max: 500\n",
        "  }\n",
        "  type: INT\n",
        "  int_domain {\n",
        "    name: \"aid-list\"\n",
        "    min: 1\n",
        "    max: 657941\n",
        "    is_categorical: true\n",
        "  }\n",
        "  annotation {\n",
        "    tag: \"item\"\n",
        "    tag: \"categorical\"\n",
        "    tag: \"list\"\n",
        "    tag: \"item_id\"\n",
        "  }\n",
        "}"
      ],
      "metadata": {
        "execution": {
          "iopub.status.busy": "2023-01-29T15:35:37.323031Z",
          "iopub.execute_input": "2023-01-29T15:35:37.323456Z",
          "iopub.status.idle": "2023-01-29T15:35:37.331948Z",
          "shell.execute_reply.started": "2023-01-29T15:35:37.323423Z",
          "shell.execute_reply": "2023-01-29T15:35:37.330860Z"
        },
        "trusted": true,
        "id": "rOZWzfQPDEE8",
        "colab": {
          "base_uri": "https://localhost:8080/"
        },
        "outputId": "4f466e06-f158-4072-cb3a-7f405383b036"
      },
      "execution_count": null,
      "outputs": [
        {
          "output_type": "stream",
          "name": "stdout",
          "text": [
            "Overwriting schema.pb\n"
          ]
        }
      ]
    },
    {
      "cell_type": "code",
      "source": [
        "schema = Schema().from_proto_text(\"schema.pb\")"
      ],
      "metadata": {
        "execution": {
          "iopub.status.busy": "2023-01-29T15:35:37.495852Z",
          "iopub.execute_input": "2023-01-29T15:35:37.496509Z",
          "iopub.status.idle": "2023-01-29T15:35:37.518377Z",
          "shell.execute_reply.started": "2023-01-29T15:35:37.496476Z",
          "shell.execute_reply": "2023-01-29T15:35:37.517132Z"
        },
        "trusted": true,
        "id": "Idne2BPwDEE9"
      },
      "execution_count": null,
      "outputs": []
    },
    {
      "cell_type": "code",
      "source": [
        "schema_test = schema.select_by_name(\n",
        "    [\n",
        "        \"aid-list\",\n",
        "    ]\n",
        ")"
      ],
      "metadata": {
        "id": "J-_iKZJRXBx3"
      },
      "execution_count": null,
      "outputs": []
    },
    {
      "cell_type": "markdown",
      "source": [
        "# Build Model blocks"
      ],
      "metadata": {
        "id": "-i55x-1eDEE_"
      }
    },
    {
      "cell_type": "code",
      "source": [
        "inputs = tr.TabularSequenceFeatures.from_schema(\n",
        "    schema_test,\n",
        "    embedding_dims={\"aid-list\": D_MODEL},\n",
        "    max_sequence_length=MAX_SEQUENCE_LENGTH,\n",
        "    d_output=D_MODEL,\n",
        "    masking=\"clm\",\n",
        ")"
      ],
      "metadata": {
        "execution": {
          "iopub.status.busy": "2023-01-29T15:35:38.461400Z",
          "iopub.execute_input": "2023-01-29T15:35:38.461941Z",
          "iopub.status.idle": "2023-01-29T15:35:38.609511Z",
          "shell.execute_reply.started": "2023-01-29T15:35:38.461906Z",
          "shell.execute_reply": "2023-01-29T15:35:38.608579Z"
        },
        "trusted": true,
        "id": "hLqvI8V9DEE_"
      },
      "execution_count": null,
      "outputs": []
    },
    {
      "cell_type": "code",
      "source": [
        "inputs"
      ],
      "metadata": {
        "execution": {
          "iopub.status.busy": "2023-01-29T15:35:38.672277Z",
          "iopub.execute_input": "2023-01-29T15:35:38.675022Z",
          "iopub.status.idle": "2023-01-29T15:35:38.685483Z",
          "shell.execute_reply.started": "2023-01-29T15:35:38.674983Z",
          "shell.execute_reply": "2023-01-29T15:35:38.684478Z"
        },
        "trusted": true,
        "id": "WIMDz4j2DEE_",
        "colab": {
          "base_uri": "https://localhost:8080/"
        },
        "outputId": "c48ed25a-6a16-4e96-b636-6f21cd0619d7"
      },
      "execution_count": null,
      "outputs": [
        {
          "output_type": "execute_result",
          "data": {
            "text/plain": [
              "TabularSequenceFeatures(\n",
              "  (to_merge): ModuleDict(\n",
              "    (categorical_module): SequenceEmbeddingFeatures(\n",
              "      (filter_features): FilterFeatures()\n",
              "      (embedding_tables): ModuleDict(\n",
              "        (aid-list): Embedding(657942, 512, padding_idx=0)\n",
              "      )\n",
              "    )\n",
              "  )\n",
              "  (_aggregation): ConcatFeatures()\n",
              "  (projection_module): SequentialBlock(\n",
              "    (0): DenseBlock(\n",
              "      (0): Linear(in_features=512, out_features=512, bias=True)\n",
              "      (1): ReLU(inplace=True)\n",
              "    )\n",
              "  )\n",
              "  (_masking): CausalLanguageModeling()\n",
              ")"
            ]
          },
          "metadata": {},
          "execution_count": 16
        }
      ]
    },
    {
      "cell_type": "code",
      "source": [
        "# Define XLNetConfig class and set default parameters for HF XLNet config  \n",
        "transformer_config = tr.XLNetConfig.build(\n",
        "    d_model=D_MODEL, n_head=4, n_layer=2, total_seq_length=MAX_SEQUENCE_LENGTH\n",
        ")\n",
        "\n",
        "# Define the model block including: inputs, masking, projection and transformer block.\n",
        "body = tr.SequentialBlock(\n",
        "    inputs,\n",
        "    tr.MLPBlock([D_MODEL]),\n",
        "    tr.TransformerBlock(transformer_config, masking=inputs.masking)\n",
        ")"
      ],
      "metadata": {
        "execution": {
          "iopub.status.busy": "2023-01-29T15:35:39.196951Z",
          "iopub.execute_input": "2023-01-29T15:35:39.197385Z",
          "iopub.status.idle": "2023-01-29T15:35:39.210979Z",
          "shell.execute_reply.started": "2023-01-29T15:35:39.197350Z",
          "shell.execute_reply": "2023-01-29T15:35:39.210103Z"
        },
        "trusted": true,
        "id": "0He-V6C6DEE_"
      },
      "execution_count": null,
      "outputs": []
    },
    {
      "cell_type": "code",
      "source": [
        "# Defines the evaluation top-N metrics and the cut-offs\n",
        "metrics = [\n",
        "    RecallAt(top_ks=[10, 20], labels_onehot=True)\n",
        "]\n",
        "\n",
        "# Define a head related to next item prediction task \n",
        "# Important: transformerc4rec v0.1.15\n",
        "# NextItemPredictionTask should have parameter [hf_format=True]\n",
        "head = tr.Head(\n",
        "    body,\n",
        "    tr.NextItemPredictionTask(weight_tying=True, hf_format=True, metrics=metrics),\n",
        "    inputs=inputs,\n",
        ")\n",
        "\n",
        "# Get the end-to-end Model class \n",
        "model = tr.Model(head)"
      ],
      "metadata": {
        "execution": {
          "iopub.status.busy": "2023-01-29T15:35:40.006782Z",
          "iopub.execute_input": "2023-01-29T15:35:40.008093Z",
          "iopub.status.idle": "2023-01-29T15:35:40.016511Z",
          "shell.execute_reply.started": "2023-01-29T15:35:40.008044Z",
          "shell.execute_reply": "2023-01-29T15:35:40.015459Z"
        },
        "trusted": true,
        "id": "x-eHApcMDEFA"
      },
      "execution_count": null,
      "outputs": []
    },
    {
      "cell_type": "markdown",
      "source": [
        "# Configure T4RecTrainingArguments and Trainer"
      ],
      "metadata": {
        "id": "7Jh_bgpMN0bB"
      }
    },
    {
      "cell_type": "code",
      "source": [
        "# Set hyperparameters for training \n",
        "train_args = T4RecTrainingArguments(\n",
        "    data_loader_engine='nvtabular', \n",
        "    dataloader_drop_last=True,\n",
        "    gradient_accumulation_steps=1,\n",
        "    per_device_train_batch_size=TRAIN_BATCH_SIZE, \n",
        "    per_device_eval_batch_size=EVAL_BATCH_SIZE,\n",
        "    output_dir=output_path, \n",
        "    learning_rate=0.0005,\n",
        "    lr_scheduler_type='cosine', \n",
        "    learning_rate_num_cosine_cycles_by_epoch=1,\n",
        "    num_train_epochs=1,\n",
        "    max_sequence_length=MAX_SEQUENCE_LENGTH, \n",
        "    logging_steps=500,\n",
        "    save_steps=1000,\n",
        "    save_total_limit=5,\n",
        "    no_cuda=False,\n",
        "    fp16=True,\n",
        "    dataloader_num_workers=4,\n",
        "    max_steps=MAX_STEPS,\n",
        ")"
      ],
      "metadata": {
        "execution": {
          "iopub.status.busy": "2023-01-29T15:35:40.297149Z",
          "iopub.execute_input": "2023-01-29T15:35:40.297509Z",
          "iopub.status.idle": "2023-01-29T15:35:40.308480Z",
          "shell.execute_reply.started": "2023-01-29T15:35:40.297478Z",
          "shell.execute_reply": "2023-01-29T15:35:40.307245Z"
        },
        "trusted": true,
        "id": "B6huTY4uDEFA"
      },
      "execution_count": null,
      "outputs": []
    },
    {
      "cell_type": "code",
      "source": [
        "trainer = Trainer(\n",
        "    model=model,\n",
        "    args=train_args,\n",
        "    schema=schema_test,\n",
        "    compute_metrics=True,\n",
        ")"
      ],
      "metadata": {
        "execution": {
          "iopub.status.busy": "2023-01-29T15:35:40.791739Z",
          "iopub.execute_input": "2023-01-29T15:35:40.792481Z",
          "iopub.status.idle": "2023-01-29T15:35:40.820736Z",
          "shell.execute_reply.started": "2023-01-29T15:35:40.792434Z",
          "shell.execute_reply": "2023-01-29T15:35:40.818982Z"
        },
        "trusted": true,
        "id": "AHkZoMD8DEFA",
        "colab": {
          "base_uri": "https://localhost:8080/"
        },
        "outputId": "0a73103d-654c-4f00-e7de-5e79ef00c4ce"
      },
      "execution_count": null,
      "outputs": [
        {
          "output_type": "stream",
          "name": "stderr",
          "text": [
            "Using amp half precision backend\n"
          ]
        }
      ]
    },
    {
      "cell_type": "markdown",
      "source": [
        "# Prepare Evaluation"
      ],
      "metadata": {
        "id": "IWbFx3UyOD6R"
      }
    },
    {
      "cell_type": "code",
      "source": [
        "trainer.load_model_trainer_states_from_checkpoint(checkpoint, model=model)"
      ],
      "metadata": {
        "execution": {
          "iopub.status.busy": "2023-01-29T15:35:41.448800Z",
          "iopub.execute_input": "2023-01-29T15:35:41.449536Z",
          "iopub.status.idle": "2023-01-29T15:35:41.491300Z",
          "shell.execute_reply.started": "2023-01-29T15:35:41.449499Z",
          "shell.execute_reply": "2023-01-29T15:35:41.490247Z"
        },
        "trusted": true,
        "id": "1B7Ui-IODEFA"
      },
      "execution_count": null,
      "outputs": []
    },
    {
      "cell_type": "code",
      "source": [
        "model.eval()"
      ],
      "metadata": {
        "execution": {
          "iopub.status.busy": "2023-01-29T15:35:41.758494Z",
          "iopub.execute_input": "2023-01-29T15:35:41.759229Z",
          "iopub.status.idle": "2023-01-29T15:35:41.768352Z",
          "shell.execute_reply.started": "2023-01-29T15:35:41.759181Z",
          "shell.execute_reply": "2023-01-29T15:35:41.767166Z"
        },
        "trusted": true,
        "id": "sIoe8uM0DEFB",
        "colab": {
          "base_uri": "https://localhost:8080/"
        },
        "outputId": "c6c6d749-4d43-409f-ee21-f887fbadc534"
      },
      "execution_count": null,
      "outputs": [
        {
          "output_type": "execute_result",
          "data": {
            "text/plain": [
              "Model(\n",
              "  (heads): ModuleList(\n",
              "    (0): Head(\n",
              "      (body): SequentialBlock(\n",
              "        (0): TabularSequenceFeatures(\n",
              "          (to_merge): ModuleDict(\n",
              "            (categorical_module): SequenceEmbeddingFeatures(\n",
              "              (filter_features): FilterFeatures()\n",
              "              (embedding_tables): ModuleDict(\n",
              "                (aid-list): Embedding(657942, 512, padding_idx=0)\n",
              "              )\n",
              "            )\n",
              "          )\n",
              "          (_aggregation): ConcatFeatures()\n",
              "          (projection_module): SequentialBlock(\n",
              "            (0): DenseBlock(\n",
              "              (0): Linear(in_features=512, out_features=512, bias=True)\n",
              "              (1): ReLU(inplace=True)\n",
              "            )\n",
              "          )\n",
              "          (_masking): CausalLanguageModeling()\n",
              "        )\n",
              "        (1): SequentialBlock(\n",
              "          (0): DenseBlock(\n",
              "            (0): Linear(in_features=512, out_features=512, bias=True)\n",
              "            (1): ReLU(inplace=True)\n",
              "          )\n",
              "        )\n",
              "        (2): TansformerBlock(\n",
              "          (transformer): XLNetModel(\n",
              "            (word_embedding): Embedding(1, 512)\n",
              "            (layer): ModuleList(\n",
              "              (0): XLNetLayer(\n",
              "                (rel_attn): XLNetRelativeAttention(\n",
              "                  (layer_norm): LayerNorm((512,), eps=0.03, elementwise_affine=True)\n",
              "                  (dropout): Dropout(p=0.3, inplace=False)\n",
              "                )\n",
              "                (ff): XLNetFeedForward(\n",
              "                  (layer_norm): LayerNorm((512,), eps=0.03, elementwise_affine=True)\n",
              "                  (layer_1): Linear(in_features=512, out_features=2048, bias=True)\n",
              "                  (layer_2): Linear(in_features=2048, out_features=512, bias=True)\n",
              "                  (dropout): Dropout(p=0.3, inplace=False)\n",
              "                  (activation_function): GELUActivation()\n",
              "                )\n",
              "                (dropout): Dropout(p=0.3, inplace=False)\n",
              "              )\n",
              "              (1): XLNetLayer(\n",
              "                (rel_attn): XLNetRelativeAttention(\n",
              "                  (layer_norm): LayerNorm((512,), eps=0.03, elementwise_affine=True)\n",
              "                  (dropout): Dropout(p=0.3, inplace=False)\n",
              "                )\n",
              "                (ff): XLNetFeedForward(\n",
              "                  (layer_norm): LayerNorm((512,), eps=0.03, elementwise_affine=True)\n",
              "                  (layer_1): Linear(in_features=512, out_features=2048, bias=True)\n",
              "                  (layer_2): Linear(in_features=2048, out_features=512, bias=True)\n",
              "                  (dropout): Dropout(p=0.3, inplace=False)\n",
              "                  (activation_function): GELUActivation()\n",
              "                )\n",
              "                (dropout): Dropout(p=0.3, inplace=False)\n",
              "              )\n",
              "            )\n",
              "            (dropout): Dropout(p=0.3, inplace=False)\n",
              "          )\n",
              "          (masking): CausalLanguageModeling()\n",
              "        )\n",
              "      )\n",
              "      (prediction_task_dict): ModuleDict(\n",
              "        (next-item): NextItemPredictionTask(\n",
              "          (sequence_summary): SequenceSummary(\n",
              "            (summary): Identity()\n",
              "            (activation): Identity()\n",
              "            (first_dropout): Identity()\n",
              "            (last_dropout): Identity()\n",
              "          )\n",
              "          (metrics): ModuleList(\n",
              "            (0): RecallAt()\n",
              "          )\n",
              "          (loss): NLLLoss()\n",
              "          (embeddings): SequenceEmbeddingFeatures(\n",
              "            (filter_features): FilterFeatures()\n",
              "            (embedding_tables): ModuleDict(\n",
              "              (aid-list): Embedding(657942, 512, padding_idx=0)\n",
              "            )\n",
              "          )\n",
              "          (item_embedding_table): Embedding(657942, 512, padding_idx=0)\n",
              "          (masking): CausalLanguageModeling()\n",
              "          (pre): Block(\n",
              "            (module): NextItemPredictionTask(\n",
              "              (item_embedding_table): Embedding(657942, 512, padding_idx=0)\n",
              "              (log_softmax): LogSoftmax(dim=-1)\n",
              "            )\n",
              "          )\n",
              "        )\n",
              "      )\n",
              "    )\n",
              "  )\n",
              ")"
            ]
          },
          "metadata": {},
          "execution_count": 22
        }
      ]
    },
    {
      "cell_type": "code",
      "source": [
        "candidates = np.load(\"./dataset/candidates_orders.npy\")"
      ],
      "metadata": {
        "execution": {
          "iopub.status.busy": "2023-01-29T15:35:58.159097Z",
          "iopub.execute_input": "2023-01-29T15:35:58.159787Z",
          "iopub.status.idle": "2023-01-29T15:35:58.168073Z",
          "shell.execute_reply.started": "2023-01-29T15:35:58.159749Z",
          "shell.execute_reply": "2023-01-29T15:35:58.166998Z"
        },
        "trusted": true,
        "id": "6b8bujTDDEFD"
      },
      "execution_count": null,
      "outputs": []
    },
    {
      "cell_type": "code",
      "source": [
        "encoded_to_aid = dict(enumerate(candidates, start=2))\n",
        "aid_to_encoded = {v: k for k, v in encoded_to_aid.items()}"
      ],
      "metadata": {
        "execution": {
          "iopub.status.busy": "2023-01-29T15:35:58.169742Z",
          "iopub.execute_input": "2023-01-29T15:35:58.170582Z",
          "iopub.status.idle": "2023-01-29T15:35:58.183573Z",
          "shell.execute_reply.started": "2023-01-29T15:35:58.170540Z",
          "shell.execute_reply": "2023-01-29T15:35:58.182631Z"
        },
        "trusted": true,
        "id": "3qUZmO6kDEFD"
      },
      "execution_count": null,
      "outputs": []
    },
    {
      "cell_type": "code",
      "source": [
        "def to_encode_(aids):\n",
        "    return [aid_to_encoded.get(x, 1) for x in aids]\n",
        "\n",
        "def to_encode(col):\n",
        "    result = []\n",
        "    for aids in col:\n",
        "        result.append(to_encode_(aids))\n",
        "    return result"
      ],
      "metadata": {
        "execution": {
          "iopub.status.busy": "2023-01-29T15:35:58.186319Z",
          "iopub.execute_input": "2023-01-29T15:35:58.186719Z",
          "iopub.status.idle": "2023-01-29T15:35:58.193253Z",
          "shell.execute_reply.started": "2023-01-29T15:35:58.186684Z",
          "shell.execute_reply": "2023-01-29T15:35:58.192021Z"
        },
        "trusted": true,
        "id": "JlSUV1OCDEFD"
      },
      "execution_count": null,
      "outputs": []
    },
    {
      "cell_type": "code",
      "source": [
        "def aid_to_decode(aid, start_index=2):\n",
        "    # index 0: padding, index 1: OOV, index 2: start index\n",
        "    if aid >= start_index:\n",
        "        result = candidates[aid - start_index]\n",
        "    # OOV to candidates[0]\n",
        "    elif aid == 1:\n",
        "        result = candidates[0]\n",
        "    else:\n",
        "        result = 0\n",
        "        \n",
        "    return result"
      ],
      "metadata": {
        "execution": {
          "iopub.status.busy": "2023-01-29T15:35:58.194658Z",
          "iopub.execute_input": "2023-01-29T15:35:58.195102Z",
          "iopub.status.idle": "2023-01-29T15:35:58.203006Z",
          "shell.execute_reply.started": "2023-01-29T15:35:58.195058Z",
          "shell.execute_reply": "2023-01-29T15:35:58.202013Z"
        },
        "trusted": true,
        "id": "kT4UZ7zHDEFD"
      },
      "execution_count": null,
      "outputs": []
    },
    {
      "cell_type": "code",
      "source": [
        "def to_decode_(aids, start_index=2):\n",
        "    # index 0: padding, index 1: OOV, index 2: start index\n",
        "    result = []\n",
        "    for e in np.nditer(aids):\n",
        "        if e >= start_index:\n",
        "            decoded = candidates[e - start_index]\n",
        "        # OOV to candidates[0]\n",
        "        elif e == 1:\n",
        "            decoded = candidates[0]\n",
        "        else:\n",
        "            decoded = 0\n",
        "            \n",
        "        result.append(decoded)\n",
        "    return np.asarray(result)"
      ],
      "metadata": {
        "execution": {
          "iopub.status.busy": "2023-01-29T15:35:58.204484Z",
          "iopub.execute_input": "2023-01-29T15:35:58.204864Z",
          "iopub.status.idle": "2023-01-29T15:35:58.213279Z",
          "shell.execute_reply.started": "2023-01-29T15:35:58.204830Z",
          "shell.execute_reply": "2023-01-29T15:35:58.212314Z"
        },
        "trusted": true,
        "id": "r_YptNPhDEFD"
      },
      "execution_count": null,
      "outputs": []
    },
    {
      "cell_type": "markdown",
      "source": [
        "# Prepare DataLoader for validation"
      ],
      "metadata": {
        "id": "Pb3QiH7bDEFE"
      }
    },
    {
      "cell_type": "code",
      "source": [
        "def zero_padding(x, length):\n",
        "    x += [0] * (length - len(x))\n",
        "    return x"
      ],
      "metadata": {
        "execution": {
          "iopub.status.busy": "2023-01-29T15:35:58.214745Z",
          "iopub.execute_input": "2023-01-29T15:35:58.215116Z",
          "iopub.status.idle": "2023-01-29T15:35:58.224380Z",
          "shell.execute_reply.started": "2023-01-29T15:35:58.215081Z",
          "shell.execute_reply": "2023-01-29T15:35:58.223461Z"
        },
        "trusted": true,
        "id": "JKZoZ60sDEFE"
      },
      "execution_count": null,
      "outputs": []
    },
    {
      "cell_type": "code",
      "source": [
        "from enum import Enum\n",
        "class LabelTypes(Enum):\n",
        "    CLICKS = 1\n",
        "    CARTS = 2\n",
        "    ORDERS = 3"
      ],
      "metadata": {
        "execution": {
          "iopub.status.busy": "2023-01-29T15:35:58.225909Z",
          "iopub.execute_input": "2023-01-29T15:35:58.226311Z",
          "iopub.status.idle": "2023-01-29T15:35:58.233392Z",
          "shell.execute_reply.started": "2023-01-29T15:35:58.226278Z",
          "shell.execute_reply": "2023-01-29T15:35:58.232329Z"
        },
        "trusted": true,
        "id": "QtXVxEgWDEFE"
      },
      "execution_count": null,
      "outputs": []
    },
    {
      "cell_type": "code",
      "source": [
        "TOP_K = 20\n",
        "LABEL_TYPES = [\"clicks\", \"carts\", \"orders\"]"
      ],
      "metadata": {
        "execution": {
          "iopub.status.busy": "2023-01-29T15:35:58.235209Z",
          "iopub.execute_input": "2023-01-29T15:35:58.235694Z",
          "iopub.status.idle": "2023-01-29T15:35:58.242175Z",
          "shell.execute_reply.started": "2023-01-29T15:35:58.235656Z",
          "shell.execute_reply": "2023-01-29T15:35:58.241284Z"
        },
        "trusted": true,
        "id": "JylMF_CWDEFE"
      },
      "execution_count": null,
      "outputs": []
    },
    {
      "cell_type": "code",
      "source": [
        "for k in LabelTypes:\n",
        "    print(k.value)"
      ],
      "metadata": {
        "execution": {
          "iopub.status.busy": "2023-01-29T15:35:58.245838Z",
          "iopub.execute_input": "2023-01-29T15:35:58.246237Z",
          "iopub.status.idle": "2023-01-29T15:35:58.251859Z",
          "shell.execute_reply.started": "2023-01-29T15:35:58.246211Z",
          "shell.execute_reply": "2023-01-29T15:35:58.250928Z"
        },
        "trusted": true,
        "id": "fX7Dm7leDEFE",
        "colab": {
          "base_uri": "https://localhost:8080/"
        },
        "outputId": "575a1420-cee6-4039-969e-2f309247f4e6"
      },
      "execution_count": null,
      "outputs": [
        {
          "output_type": "stream",
          "name": "stdout",
          "text": [
            "1\n",
            "2\n",
            "3\n"
          ]
        }
      ]
    },
    {
      "cell_type": "code",
      "source": [
        "eval_dataload = T4RecDataLoader.parse('pyarrow').from_schema(\n",
        "    schema,\n",
        "    test_path,\n",
        "    EVAL_BATCH_SIZE,\n",
        "    max_sequence_length=MAX_SEQUENCE_LENGTH,\n",
        "    drop_last=False,\n",
        "    shuffle=False,\n",
        ")"
      ],
      "metadata": {
        "execution": {
          "iopub.status.busy": "2023-01-29T15:35:58.253360Z",
          "iopub.execute_input": "2023-01-29T15:35:58.254098Z",
          "iopub.status.idle": "2023-01-29T15:36:04.588551Z",
          "shell.execute_reply.started": "2023-01-29T15:35:58.253970Z",
          "shell.execute_reply": "2023-01-29T15:36:04.587519Z"
        },
        "trusted": true,
        "id": "DvbSrU11DEFE"
      },
      "execution_count": null,
      "outputs": []
    },
    {
      "cell_type": "code",
      "source": [
        "df = pd.DataFrame(columns=[\"session_type\", \"labels\"])"
      ],
      "metadata": {
        "execution": {
          "iopub.status.busy": "2023-01-29T15:36:04.590506Z",
          "iopub.execute_input": "2023-01-29T15:36:04.590880Z",
          "iopub.status.idle": "2023-01-29T15:36:04.597948Z",
          "shell.execute_reply.started": "2023-01-29T15:36:04.590844Z",
          "shell.execute_reply": "2023-01-29T15:36:04.596891Z"
        },
        "trusted": true,
        "id": "ACnbHWN5DEFF"
      },
      "execution_count": null,
      "outputs": []
    },
    {
      "cell_type": "code",
      "source": [
        "# batch = next(iter(eval_dataload))"
      ],
      "metadata": {
        "execution": {
          "iopub.status.busy": "2023-01-29T15:36:04.599666Z",
          "iopub.execute_input": "2023-01-29T15:36:04.600666Z",
          "iopub.status.idle": "2023-01-29T15:36:04.607479Z",
          "shell.execute_reply.started": "2023-01-29T15:36:04.600627Z",
          "shell.execute_reply": "2023-01-29T15:36:04.606522Z"
        },
        "trusted": true,
        "id": "FiHVHMPQDEFF"
      },
      "execution_count": null,
      "outputs": []
    },
    {
      "cell_type": "code",
      "source": [
        "# batch"
      ],
      "metadata": {
        "id": "pG1NmXAxV7y4"
      },
      "execution_count": null,
      "outputs": []
    },
    {
      "cell_type": "markdown",
      "source": [
        "# Run Valid"
      ],
      "metadata": {
        "id": "hN1jor0GXmkX"
      }
    },
    {
      "cell_type": "code",
      "source": [
        "for i_batch, batch in enumerate(tqdm(eval_dataload)):\n",
        "    for k, v in batch.items():\n",
        "        batch[k] = v.to(\"cuda:0\")\n",
        "        \n",
        "    output = model(batch, training=False)\n",
        "\n",
        "    sessions = batch[\"session\"].detach().cpu().numpy()\n",
        "    predictions = output[\"predictions\"].detach().cpu().numpy()\n",
        "    top_preds_ = np.argpartition(predictions, -TOP_K, axis=1)[:, -TOP_K:]\n",
        "    top_preds = [to_decode_(x) for x in top_preds_]\n",
        "    # numpy ndarray element to string elements with white space\n",
        "    top_preds = [(\" \").join(map(str, x.tolist())) for x in top_preds]\n",
        "\n",
        "    for label_type in LabelTypes:\n",
        "        session_types = [str(s) + \"_\" + label_type.name.lower() for s in sessions]\n",
        "        \n",
        "        df = pd.concat(\n",
        "            [\n",
        "                df,\n",
        "                pd.DataFrame(\n",
        "                    {\n",
        "                        \"session_type\": session_types,\n",
        "                        \"labels\": top_preds,\n",
        "                    }\n",
        "                )\n",
        "            ], axis=0\n",
        "        )\n",
        "    \n",
        "    if DEBUG:\n",
        "        break\n",
        "        "
      ],
      "metadata": {
        "execution": {
          "iopub.status.busy": "2023-01-29T15:36:04.608827Z",
          "iopub.execute_input": "2023-01-29T15:36:04.610293Z"
        },
        "trusted": true,
        "id": "GWANHObaDEFF",
        "colab": {
          "base_uri": "https://localhost:8080/",
          "height": 49,
          "referenced_widgets": [
            "71685a4c398a4be0bef939f34858bbb9",
            "b1a28111565648ad81c71b0c22633aa3",
            "465c4ac17b7f42ea95f1c6b8f390f24c",
            "48673bf830d14c66a8e562972914525c",
            "80aa421444254562a3b3822ff99c6335",
            "e8be41268272420696cf5ca9c8056868",
            "00aeecbdd75d4136a69299e29d3b5852",
            "90b8ed99f3d44d9fb9a8ea73854f31a2",
            "15cd4e76c8f04c71b845dcccabb1b44c",
            "5f3b5cbba9ed4820b740d2237e2c4636",
            "002ff3fae9c34be4be98f1b18546ccc1"
          ]
        },
        "outputId": "4d8ba472-9ca6-4527-bc01-53a9110e7542"
      },
      "execution_count": null,
      "outputs": [
        {
          "output_type": "display_data",
          "data": {
            "text/plain": [
              "  0%|          | 0/6531 [00:00<?, ?it/s]"
            ],
            "application/vnd.jupyter.widget-view+json": {
              "version_major": 2,
              "version_minor": 0,
              "model_id": "71685a4c398a4be0bef939f34858bbb9"
            }
          },
          "metadata": {}
        }
      ]
    },
    {
      "cell_type": "code",
      "source": [
        "df"
      ],
      "metadata": {
        "trusted": true,
        "id": "_mlxFhb7DEFF",
        "colab": {
          "base_uri": "https://localhost:8080/",
          "height": 424
        },
        "outputId": "812d16ff-f837-4723-e5c9-aed457165456"
      },
      "execution_count": null,
      "outputs": [
        {
          "output_type": "execute_result",
          "data": {
            "text/plain": [
              "        session_type                                             labels\n",
              "0    12899779_clicks  1304914 927087 819288 1464360 209710 597742 27...\n",
              "1    12899780_clicks  1586171 1263108 760500 1269469 455423 595830 1...\n",
              "2    12899781_clicks  1307153 1515266 1102089 1228668 1681537 811448...\n",
              "3    12899782_clicks  1443394 1169987 53600 1577479 363001 1694535 1...\n",
              "4    12899783_clicks  1451449 1464627 351665 168330 1727436 1249267 ...\n",
              "..               ...                                                ...\n",
              "118  14571577_orders  1304914 927087 819288 1464360 209710 597742 27...\n",
              "119  14571578_orders  1304914 927087 819288 1464360 209710 597742 27...\n",
              "120  14571579_orders  843372 1280299 29173 1822490 1525131 1478374 1...\n",
              "121  14571580_orders  1256802 765284 1537463 826148 180283 576317 17...\n",
              "122  14571581_orders  984794 714524 206561 560463 1621873 962190 156...\n",
              "\n",
              "[5015409 rows x 2 columns]"
            ],
            "text/html": [
              "\n",
              "  <div id=\"df-d3cca56c-dc3a-4f2a-90e9-92f93747190b\">\n",
              "    <div class=\"colab-df-container\">\n",
              "      <div>\n",
              "<style scoped>\n",
              "    .dataframe tbody tr th:only-of-type {\n",
              "        vertical-align: middle;\n",
              "    }\n",
              "\n",
              "    .dataframe tbody tr th {\n",
              "        vertical-align: top;\n",
              "    }\n",
              "\n",
              "    .dataframe thead th {\n",
              "        text-align: right;\n",
              "    }\n",
              "</style>\n",
              "<table border=\"1\" class=\"dataframe\">\n",
              "  <thead>\n",
              "    <tr style=\"text-align: right;\">\n",
              "      <th></th>\n",
              "      <th>session_type</th>\n",
              "      <th>labels</th>\n",
              "    </tr>\n",
              "  </thead>\n",
              "  <tbody>\n",
              "    <tr>\n",
              "      <th>0</th>\n",
              "      <td>12899779_clicks</td>\n",
              "      <td>1304914 927087 819288 1464360 209710 597742 27...</td>\n",
              "    </tr>\n",
              "    <tr>\n",
              "      <th>1</th>\n",
              "      <td>12899780_clicks</td>\n",
              "      <td>1586171 1263108 760500 1269469 455423 595830 1...</td>\n",
              "    </tr>\n",
              "    <tr>\n",
              "      <th>2</th>\n",
              "      <td>12899781_clicks</td>\n",
              "      <td>1307153 1515266 1102089 1228668 1681537 811448...</td>\n",
              "    </tr>\n",
              "    <tr>\n",
              "      <th>3</th>\n",
              "      <td>12899782_clicks</td>\n",
              "      <td>1443394 1169987 53600 1577479 363001 1694535 1...</td>\n",
              "    </tr>\n",
              "    <tr>\n",
              "      <th>4</th>\n",
              "      <td>12899783_clicks</td>\n",
              "      <td>1451449 1464627 351665 168330 1727436 1249267 ...</td>\n",
              "    </tr>\n",
              "    <tr>\n",
              "      <th>...</th>\n",
              "      <td>...</td>\n",
              "      <td>...</td>\n",
              "    </tr>\n",
              "    <tr>\n",
              "      <th>118</th>\n",
              "      <td>14571577_orders</td>\n",
              "      <td>1304914 927087 819288 1464360 209710 597742 27...</td>\n",
              "    </tr>\n",
              "    <tr>\n",
              "      <th>119</th>\n",
              "      <td>14571578_orders</td>\n",
              "      <td>1304914 927087 819288 1464360 209710 597742 27...</td>\n",
              "    </tr>\n",
              "    <tr>\n",
              "      <th>120</th>\n",
              "      <td>14571579_orders</td>\n",
              "      <td>843372 1280299 29173 1822490 1525131 1478374 1...</td>\n",
              "    </tr>\n",
              "    <tr>\n",
              "      <th>121</th>\n",
              "      <td>14571580_orders</td>\n",
              "      <td>1256802 765284 1537463 826148 180283 576317 17...</td>\n",
              "    </tr>\n",
              "    <tr>\n",
              "      <th>122</th>\n",
              "      <td>14571581_orders</td>\n",
              "      <td>984794 714524 206561 560463 1621873 962190 156...</td>\n",
              "    </tr>\n",
              "  </tbody>\n",
              "</table>\n",
              "<p>5015409 rows × 2 columns</p>\n",
              "</div>\n",
              "      <button class=\"colab-df-convert\" onclick=\"convertToInteractive('df-d3cca56c-dc3a-4f2a-90e9-92f93747190b')\"\n",
              "              title=\"Convert this dataframe to an interactive table.\"\n",
              "              style=\"display:none;\">\n",
              "        \n",
              "  <svg xmlns=\"http://www.w3.org/2000/svg\" height=\"24px\"viewBox=\"0 0 24 24\"\n",
              "       width=\"24px\">\n",
              "    <path d=\"M0 0h24v24H0V0z\" fill=\"none\"/>\n",
              "    <path d=\"M18.56 5.44l.94 2.06.94-2.06 2.06-.94-2.06-.94-.94-2.06-.94 2.06-2.06.94zm-11 1L8.5 8.5l.94-2.06 2.06-.94-2.06-.94L8.5 2.5l-.94 2.06-2.06.94zm10 10l.94 2.06.94-2.06 2.06-.94-2.06-.94-.94-2.06-.94 2.06-2.06.94z\"/><path d=\"M17.41 7.96l-1.37-1.37c-.4-.4-.92-.59-1.43-.59-.52 0-1.04.2-1.43.59L10.3 9.45l-7.72 7.72c-.78.78-.78 2.05 0 2.83L4 21.41c.39.39.9.59 1.41.59.51 0 1.02-.2 1.41-.59l7.78-7.78 2.81-2.81c.8-.78.8-2.07 0-2.86zM5.41 20L4 18.59l7.72-7.72 1.47 1.35L5.41 20z\"/>\n",
              "  </svg>\n",
              "      </button>\n",
              "      \n",
              "  <style>\n",
              "    .colab-df-container {\n",
              "      display:flex;\n",
              "      flex-wrap:wrap;\n",
              "      gap: 12px;\n",
              "    }\n",
              "\n",
              "    .colab-df-convert {\n",
              "      background-color: #E8F0FE;\n",
              "      border: none;\n",
              "      border-radius: 50%;\n",
              "      cursor: pointer;\n",
              "      display: none;\n",
              "      fill: #1967D2;\n",
              "      height: 32px;\n",
              "      padding: 0 0 0 0;\n",
              "      width: 32px;\n",
              "    }\n",
              "\n",
              "    .colab-df-convert:hover {\n",
              "      background-color: #E2EBFA;\n",
              "      box-shadow: 0px 1px 2px rgba(60, 64, 67, 0.3), 0px 1px 3px 1px rgba(60, 64, 67, 0.15);\n",
              "      fill: #174EA6;\n",
              "    }\n",
              "\n",
              "    [theme=dark] .colab-df-convert {\n",
              "      background-color: #3B4455;\n",
              "      fill: #D2E3FC;\n",
              "    }\n",
              "\n",
              "    [theme=dark] .colab-df-convert:hover {\n",
              "      background-color: #434B5C;\n",
              "      box-shadow: 0px 1px 3px 1px rgba(0, 0, 0, 0.15);\n",
              "      filter: drop-shadow(0px 1px 2px rgba(0, 0, 0, 0.3));\n",
              "      fill: #FFFFFF;\n",
              "    }\n",
              "  </style>\n",
              "\n",
              "      <script>\n",
              "        const buttonEl =\n",
              "          document.querySelector('#df-d3cca56c-dc3a-4f2a-90e9-92f93747190b button.colab-df-convert');\n",
              "        buttonEl.style.display =\n",
              "          google.colab.kernel.accessAllowed ? 'block' : 'none';\n",
              "\n",
              "        async function convertToInteractive(key) {\n",
              "          const element = document.querySelector('#df-d3cca56c-dc3a-4f2a-90e9-92f93747190b');\n",
              "          const dataTable =\n",
              "            await google.colab.kernel.invokeFunction('convertToInteractive',\n",
              "                                                     [key], {});\n",
              "          if (!dataTable) return;\n",
              "\n",
              "          const docLinkHtml = 'Like what you see? Visit the ' +\n",
              "            '<a target=\"_blank\" href=https://colab.research.google.com/notebooks/data_table.ipynb>data table notebook</a>'\n",
              "            + ' to learn more about interactive tables.';\n",
              "          element.innerHTML = '';\n",
              "          dataTable['output_type'] = 'display_data';\n",
              "          await google.colab.output.renderOutput(dataTable, element);\n",
              "          const docLink = document.createElement('div');\n",
              "          docLink.innerHTML = docLinkHtml;\n",
              "          element.appendChild(docLink);\n",
              "        }\n",
              "      </script>\n",
              "    </div>\n",
              "  </div>\n",
              "  "
            ]
          },
          "metadata": {},
          "execution_count": 37
        }
      ]
    },
    {
      "cell_type": "code",
      "source": [
        "df.to_csv(os.path.join(\"mount_checkpoint\", OUTPUT_PATH, \"submission.csv\"), index=False)"
      ],
      "metadata": {
        "execution": {
          "iopub.status.busy": "2023-01-29T15:33:21.299620Z",
          "iopub.execute_input": "2023-01-29T15:33:21.300692Z",
          "iopub.status.idle": "2023-01-29T15:33:21.310726Z",
          "shell.execute_reply.started": "2023-01-29T15:33:21.300649Z",
          "shell.execute_reply": "2023-01-29T15:33:21.309670Z"
        },
        "trusted": true,
        "id": "evrjPzYVDEFG"
      },
      "execution_count": null,
      "outputs": []
    },
    {
      "cell_type": "code",
      "source": [],
      "metadata": {
        "id": "3VutxCjWDEFH"
      },
      "execution_count": null,
      "outputs": []
    }
  ]
}