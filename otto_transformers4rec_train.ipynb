{
  "metadata": {
    "kernelspec": {
      "language": "python",
      "display_name": "Python 3",
      "name": "python3"
    },
    "language_info": {
      "pygments_lexer": "ipython3",
      "nbconvert_exporter": "python",
      "version": "3.6.4",
      "file_extension": ".py",
      "codemirror_mode": {
        "name": "ipython",
        "version": 3
      },
      "name": "python",
      "mimetype": "text/x-python"
    },
    "colab": {
      "provenance": [],
      "include_colab_link": true
    },
    "accelerator": "GPU",
    "gpuClass": "premium"
  },
  "nbformat_minor": 0,
  "nbformat": 4,
  "cells": [
    {
      "cell_type": "markdown",
      "metadata": {
        "id": "view-in-github",
        "colab_type": "text"
      },
      "source": [
        "<a href=\"https://colab.research.google.com/github/sunghyunjun/kaggle-otto-recsys/blob/main/otto_transformers4rec_train.ipynb\" target=\"_parent\"><img src=\"https://colab.research.google.com/assets/colab-badge.svg\" alt=\"Open In Colab\"/></a>"
      ]
    },
    {
      "cell_type": "markdown",
      "source": [
        "# Check colab gcp, gpu environment"
      ],
      "metadata": {
        "id": "X-weEUQFUclJ"
      }
    },
    {
      "cell_type": "code",
      "source": [
        "# Check colab's gcp region\n",
        "!curl ipinfo.io"
      ],
      "metadata": {
        "colab": {
          "base_uri": "https://localhost:8080/"
        },
        "id": "uLQso-4-LOn3",
        "outputId": "aa6a39a8-262d-435d-b6fe-b053b8933553"
      },
      "execution_count": null,
      "outputs": [
        {
          "output_type": "stream",
          "name": "stdout",
          "text": [
            "{\n",
            "  \"ip\": \"108.59.82.129\",\n",
            "  \"hostname\": \"129.82.59.108.bc.googleusercontent.com\",\n",
            "  \"city\": \"Council Bluffs\",\n",
            "  \"region\": \"Iowa\",\n",
            "  \"country\": \"US\",\n",
            "  \"loc\": \"41.2619,-95.8608\",\n",
            "  \"org\": \"AS396982 Google LLC\",\n",
            "  \"postal\": \"51502\",\n",
            "  \"timezone\": \"America/Chicago\",\n",
            "  \"readme\": \"https://ipinfo.io/missingauth\"\n",
            "}"
          ]
        }
      ]
    },
    {
      "cell_type": "code",
      "source": [
        "gcs_bucket = \"sunghyun-kaggle-otto-us\"\n",
        "# gcs_bucket = \"sunghyun-kaggle-otto-eu\"\n",
        "# gcs_bucket = \"sunghyun-kaggle-otto-asia\""
      ],
      "metadata": {
        "id": "qNeGtGhlIQU8"
      },
      "execution_count": null,
      "outputs": []
    },
    {
      "cell_type": "code",
      "source": [
        "!nvidia-smi -L"
      ],
      "metadata": {
        "colab": {
          "base_uri": "https://localhost:8080/"
        },
        "id": "7qBwZWpjnsPk",
        "outputId": "b1d73b24-f91b-4db0-b1cc-e3cfa9f44eda"
      },
      "execution_count": null,
      "outputs": [
        {
          "output_type": "stream",
          "name": "stdout",
          "text": [
            "GPU 0: NVIDIA A100-SXM4-40GB (UUID: GPU-14042963-8783-888a-d82e-8257c78a1652)\n"
          ]
        }
      ]
    },
    {
      "cell_type": "code",
      "source": [
        "import multiprocessing\n",
        "print(multiprocessing.cpu_count()) # Count the number of cores in a computer"
      ],
      "metadata": {
        "colab": {
          "base_uri": "https://localhost:8080/"
        },
        "id": "gw9yZ8cym86x",
        "outputId": "8e030224-21d5-4b0f-d33b-b400a9c4e587"
      },
      "execution_count": null,
      "outputs": [
        {
          "output_type": "stream",
          "name": "stdout",
          "text": [
            "12\n"
          ]
        }
      ]
    },
    {
      "cell_type": "markdown",
      "source": [
        "# GCP personal setting for gcs, kaggle, neptune.ai"
      ],
      "metadata": {
        "id": "QFLRMzO5UnZE"
      }
    },
    {
      "cell_type": "code",
      "source": [
        "# Authenticate to GCP\n",
        "from google.colab import auth\n",
        "auth.authenticate_user()"
      ],
      "metadata": {
        "id": "-EV_D2gVIdkV"
      },
      "execution_count": null,
      "outputs": []
    },
    {
      "cell_type": "code",
      "source": [
        "# GCP secret manager, after run pip, notebook should be restarted\n",
        "# !pip3 install --user google-cloud-secret-manager==2.5.0\n",
        "!pip3 install --user google-cloud-secret-manager\n",
        "from google.cloud import secretmanager\n",
        "\n",
        "\n",
        "def get_secret(project_id, secret_name):\n",
        "    \"\"\"\n",
        "    secret_name => To be replaced with your secret name\n",
        "    project_id  => To be replaced with your GCP Project\n",
        "    \"\"\"\n",
        "\n",
        "    # Create a Client:\n",
        "    client = secretmanager.SecretManagerServiceClient()\n",
        "    # secret_name = \"kaggle\" # => To be replaced with your secret name\n",
        "    # project_id = 'otto-recsys' # => To be replaced with your GCP Project\n",
        "\n",
        "    # Forge the path to the latest version of your secret with an F-string:\n",
        "    resource_name = f\"projects/{project_id}/secrets/{secret_name}/versions/latest\" \n",
        "\n",
        "    # Get your secret :\n",
        "    response = client.access_secret_version(request={\"name\": resource_name})\n",
        "    secret_string = response.payload.data.decode('UTF-8')\n",
        "\n",
        "    # Tada ! you secret is in the secret_string variable!\n",
        "    return secret_string"
      ],
      "metadata": {
        "colab": {
          "base_uri": "https://localhost:8080/"
        },
        "id": "D8w3ZR9HHPr1",
        "outputId": "ac38fb4c-9e32-4f73-d94c-fd185eff3953"
      },
      "execution_count": null,
      "outputs": [
        {
          "output_type": "stream",
          "name": "stdout",
          "text": [
            "Looking in indexes: https://pypi.org/simple, https://us-python.pkg.dev/colab-wheels/public/simple/\n",
            "Requirement already satisfied: google-cloud-secret-manager in /root/.local/lib/python3.8/site-packages (2.15.1)\n",
            "Requirement already satisfied: protobuf!=3.20.0,!=3.20.1,!=4.21.0,!=4.21.1,!=4.21.2,!=4.21.3,!=4.21.4,!=4.21.5,<5.0.0dev,>=3.19.5 in /usr/local/lib/python3.8/dist-packages (from google-cloud-secret-manager) (3.19.6)\n",
            "Requirement already satisfied: google-api-core[grpc]!=2.0.*,!=2.1.*,!=2.10.*,!=2.2.*,!=2.3.*,!=2.4.*,!=2.5.*,!=2.6.*,!=2.7.*,!=2.8.*,!=2.9.*,<3.0.0dev,>=1.34.0 in /usr/local/lib/python3.8/dist-packages (from google-cloud-secret-manager) (2.11.0)\n",
            "Requirement already satisfied: proto-plus<2.0.0dev,>=1.22.0 in /usr/local/lib/python3.8/dist-packages (from google-cloud-secret-manager) (1.22.2)\n",
            "Requirement already satisfied: grpc-google-iam-v1<1.0.0dev,>=0.12.4 in /root/.local/lib/python3.8/site-packages (from google-cloud-secret-manager) (0.12.6)\n",
            "Requirement already satisfied: googleapis-common-protos<2.0dev,>=1.56.2 in /usr/local/lib/python3.8/dist-packages (from google-api-core[grpc]!=2.0.*,!=2.1.*,!=2.10.*,!=2.2.*,!=2.3.*,!=2.4.*,!=2.5.*,!=2.6.*,!=2.7.*,!=2.8.*,!=2.9.*,<3.0.0dev,>=1.34.0->google-cloud-secret-manager) (1.58.0)\n",
            "Requirement already satisfied: google-auth<3.0dev,>=2.14.1 in /usr/local/lib/python3.8/dist-packages (from google-api-core[grpc]!=2.0.*,!=2.1.*,!=2.10.*,!=2.2.*,!=2.3.*,!=2.4.*,!=2.5.*,!=2.6.*,!=2.7.*,!=2.8.*,!=2.9.*,<3.0.0dev,>=1.34.0->google-cloud-secret-manager) (2.16.0)\n",
            "Requirement already satisfied: requests<3.0.0dev,>=2.18.0 in /usr/local/lib/python3.8/dist-packages (from google-api-core[grpc]!=2.0.*,!=2.1.*,!=2.10.*,!=2.2.*,!=2.3.*,!=2.4.*,!=2.5.*,!=2.6.*,!=2.7.*,!=2.8.*,!=2.9.*,<3.0.0dev,>=1.34.0->google-cloud-secret-manager) (2.25.1)\n",
            "Requirement already satisfied: grpcio-status<2.0dev,>=1.33.2 in /usr/local/lib/python3.8/dist-packages (from google-api-core[grpc]!=2.0.*,!=2.1.*,!=2.10.*,!=2.2.*,!=2.3.*,!=2.4.*,!=2.5.*,!=2.6.*,!=2.7.*,!=2.8.*,!=2.9.*,<3.0.0dev,>=1.34.0->google-cloud-secret-manager) (1.48.2)\n",
            "Requirement already satisfied: grpcio<2.0dev,>=1.33.2 in /usr/local/lib/python3.8/dist-packages (from google-api-core[grpc]!=2.0.*,!=2.1.*,!=2.10.*,!=2.2.*,!=2.3.*,!=2.4.*,!=2.5.*,!=2.6.*,!=2.7.*,!=2.8.*,!=2.9.*,<3.0.0dev,>=1.34.0->google-cloud-secret-manager) (1.51.1)\n",
            "Requirement already satisfied: pyasn1-modules>=0.2.1 in /usr/local/lib/python3.8/dist-packages (from google-auth<3.0dev,>=2.14.1->google-api-core[grpc]!=2.0.*,!=2.1.*,!=2.10.*,!=2.2.*,!=2.3.*,!=2.4.*,!=2.5.*,!=2.6.*,!=2.7.*,!=2.8.*,!=2.9.*,<3.0.0dev,>=1.34.0->google-cloud-secret-manager) (0.2.8)\n",
            "Requirement already satisfied: cachetools<6.0,>=2.0.0 in /usr/local/lib/python3.8/dist-packages (from google-auth<3.0dev,>=2.14.1->google-api-core[grpc]!=2.0.*,!=2.1.*,!=2.10.*,!=2.2.*,!=2.3.*,!=2.4.*,!=2.5.*,!=2.6.*,!=2.7.*,!=2.8.*,!=2.9.*,<3.0.0dev,>=1.34.0->google-cloud-secret-manager) (5.2.1)\n",
            "Requirement already satisfied: six>=1.9.0 in /usr/local/lib/python3.8/dist-packages (from google-auth<3.0dev,>=2.14.1->google-api-core[grpc]!=2.0.*,!=2.1.*,!=2.10.*,!=2.2.*,!=2.3.*,!=2.4.*,!=2.5.*,!=2.6.*,!=2.7.*,!=2.8.*,!=2.9.*,<3.0.0dev,>=1.34.0->google-cloud-secret-manager) (1.15.0)\n",
            "Requirement already satisfied: rsa<5,>=3.1.4 in /usr/local/lib/python3.8/dist-packages (from google-auth<3.0dev,>=2.14.1->google-api-core[grpc]!=2.0.*,!=2.1.*,!=2.10.*,!=2.2.*,!=2.3.*,!=2.4.*,!=2.5.*,!=2.6.*,!=2.7.*,!=2.8.*,!=2.9.*,<3.0.0dev,>=1.34.0->google-cloud-secret-manager) (4.9)\n",
            "Requirement already satisfied: chardet<5,>=3.0.2 in /usr/local/lib/python3.8/dist-packages (from requests<3.0.0dev,>=2.18.0->google-api-core[grpc]!=2.0.*,!=2.1.*,!=2.10.*,!=2.2.*,!=2.3.*,!=2.4.*,!=2.5.*,!=2.6.*,!=2.7.*,!=2.8.*,!=2.9.*,<3.0.0dev,>=1.34.0->google-cloud-secret-manager) (4.0.0)\n",
            "Requirement already satisfied: idna<3,>=2.5 in /usr/local/lib/python3.8/dist-packages (from requests<3.0.0dev,>=2.18.0->google-api-core[grpc]!=2.0.*,!=2.1.*,!=2.10.*,!=2.2.*,!=2.3.*,!=2.4.*,!=2.5.*,!=2.6.*,!=2.7.*,!=2.8.*,!=2.9.*,<3.0.0dev,>=1.34.0->google-cloud-secret-manager) (2.10)\n",
            "Requirement already satisfied: urllib3<1.27,>=1.21.1 in /usr/local/lib/python3.8/dist-packages (from requests<3.0.0dev,>=2.18.0->google-api-core[grpc]!=2.0.*,!=2.1.*,!=2.10.*,!=2.2.*,!=2.3.*,!=2.4.*,!=2.5.*,!=2.6.*,!=2.7.*,!=2.8.*,!=2.9.*,<3.0.0dev,>=1.34.0->google-cloud-secret-manager) (1.26.14)\n",
            "Requirement already satisfied: certifi>=2017.4.17 in /usr/local/lib/python3.8/dist-packages (from requests<3.0.0dev,>=2.18.0->google-api-core[grpc]!=2.0.*,!=2.1.*,!=2.10.*,!=2.2.*,!=2.3.*,!=2.4.*,!=2.5.*,!=2.6.*,!=2.7.*,!=2.8.*,!=2.9.*,<3.0.0dev,>=1.34.0->google-cloud-secret-manager) (2022.12.7)\n",
            "Requirement already satisfied: pyasn1<0.5.0,>=0.4.6 in /usr/local/lib/python3.8/dist-packages (from pyasn1-modules>=0.2.1->google-auth<3.0dev,>=2.14.1->google-api-core[grpc]!=2.0.*,!=2.1.*,!=2.10.*,!=2.2.*,!=2.3.*,!=2.4.*,!=2.5.*,!=2.6.*,!=2.7.*,!=2.8.*,!=2.9.*,<3.0.0dev,>=1.34.0->google-cloud-secret-manager) (0.4.8)\n"
          ]
        }
      ]
    },
    {
      "cell_type": "markdown",
      "source": [
        "# Install gcsfuse"
      ],
      "metadata": {
        "id": "xzWp7LAPXfPK"
      }
    },
    {
      "cell_type": "code",
      "source": [
        "!pip install gcsfs --upgrade -q\n",
        "!pip install psutil --upgrade -q"
      ],
      "metadata": {
        "colab": {
          "base_uri": "https://localhost:8080/"
        },
        "id": "yPcdh5uRIpPe",
        "outputId": "3aedc2a2-1954-461f-a62f-c93dc1bb9365"
      },
      "execution_count": null,
      "outputs": [
        {
          "output_type": "stream",
          "name": "stdout",
          "text": [
            "\u001b[2K     \u001b[90m━━━━━━━━━━━━━━━━━━━━━━━━━━━━━━━━━━━━━━━\u001b[0m \u001b[32m143.0/143.0 KB\u001b[0m \u001b[31m6.0 MB/s\u001b[0m eta \u001b[36m0:00:00\u001b[0m\n",
            "\u001b[2K     \u001b[90m━━━━━━━━━━━━━━━━━━━━━━━━━━━━━━━━━━━━━━━\u001b[0m \u001b[32m280.2/280.2 KB\u001b[0m \u001b[31m6.4 MB/s\u001b[0m eta \u001b[36m0:00:00\u001b[0m\n",
            "\u001b[?25h"
          ]
        }
      ]
    },
    {
      "cell_type": "code",
      "source": [
        "!echo \"deb http://packages.cloud.google.com/apt gcsfuse-bionic main\" > /etc/apt/sources.list.d/gcsfuse.list\n",
        "!curl https://packages.cloud.google.com/apt/doc/apt-key.gpg | apt-key add -\n",
        "!apt -qq update\n",
        "!apt -qq install gcsfuse"
      ],
      "metadata": {
        "colab": {
          "base_uri": "https://localhost:8080/"
        },
        "id": "72BrhUkYIv6k",
        "outputId": "a5ab9c6d-683a-44b4-cc2f-6088b4f32950"
      },
      "execution_count": null,
      "outputs": [
        {
          "output_type": "stream",
          "name": "stdout",
          "text": [
            "  % Total    % Received % Xferd  Average Speed   Time    Time     Time  Current\n",
            "                                 Dload  Upload   Total   Spent    Left  Speed\n",
            "\r  0     0    0     0    0     0      0      0 --:--:-- --:--:-- --:--:--     0\r100  1210  100  1210    0     0  48400      0 --:--:-- --:--:-- --:--:-- 48400\n",
            "OK\n",
            "65 packages can be upgraded. Run 'apt list --upgradable' to see them.\n",
            "The following NEW packages will be installed:\n",
            "  gcsfuse\n",
            "0 upgraded, 1 newly installed, 0 to remove and 65 not upgraded.\n",
            "Need to get 13.3 MB of archives.\n",
            "After this operation, 30.7 MB of additional disk space will be used.\n",
            "Selecting previously unselected package gcsfuse.\n",
            "(Reading database ... 129499 files and directories currently installed.)\n",
            "Preparing to unpack .../gcsfuse_0.41.12_amd64.deb ...\n",
            "Unpacking gcsfuse (0.41.12) ...\n",
            "Setting up gcsfuse (0.41.12) ...\n"
          ]
        }
      ]
    },
    {
      "cell_type": "code",
      "source": [
        "!mkdir ./mount_checkpoint\n",
        "!gcsfuse {gcs_bucket} ./mount_checkpoint"
      ],
      "metadata": {
        "colab": {
          "base_uri": "https://localhost:8080/"
        },
        "id": "bTwRIMEdI1wy",
        "outputId": "40e15aa8-be62-45ea-ee6a-5231189be640"
      },
      "execution_count": null,
      "outputs": [
        {
          "output_type": "stream",
          "name": "stdout",
          "text": [
            "2023/01/31 03:42:58.962309 Start gcsfuse/0.41.12 (Go version go1.18.4) for app \"\" using mount point: /content/mount_checkpoint\n",
            "2023/01/31 03:42:58.974092 Opening GCS connection...\n",
            "2023/01/31 03:42:59.166603 Mounting file system \"sunghyun-kaggle-otto-us\"...\n",
            "2023/01/31 03:42:59.166949 File system has been successfully mounted.\n"
          ]
        }
      ]
    },
    {
      "cell_type": "markdown",
      "source": [
        "# Kaggle API credentials"
      ],
      "metadata": {
        "id": "QRdtgX4VXmzb"
      }
    },
    {
      "cell_type": "code",
      "source": [
        "with open('kaggle.json', 'a') as fp:\n",
        "    fp.write(get_secret(\"otto-recsys\", \"kaggle\"))\n",
        "\n",
        "!mkdir -p ~/.kaggle\n",
        "!cp kaggle.json ~/.kaggle/\n",
        "!ls ~/.kaggle\n",
        "!chmod 600 /root/.kaggle/kaggle.json"
      ],
      "metadata": {
        "colab": {
          "base_uri": "https://localhost:8080/"
        },
        "id": "2qOTHg6fKSrx",
        "outputId": "5529ef7b-68cf-4730-f79f-e1f0e8ebb536"
      },
      "execution_count": null,
      "outputs": [
        {
          "output_type": "stream",
          "name": "stdout",
          "text": [
            "kaggle.json\n"
          ]
        }
      ]
    },
    {
      "cell_type": "markdown",
      "source": [
        "# Secret for Neptune logging"
      ],
      "metadata": {
        "id": "YgPa3NcsG0y9"
      }
    },
    {
      "cell_type": "code",
      "source": [
        "import os\n",
        "os.environ[\"NEPTUNE_PROJECT\"] = \"sunghyun.jun/otto-recsys\"\n",
        "os.environ[\"NEPTUNE_API_TOKEN\"] = get_secret(\"otto-recsys\", \"neptune\")\n",
        "os.environ[\"NEPTUNE_ALLOW_SELF_SIGNED_CERTIFICATE\"] = \"TRUE\""
      ],
      "metadata": {
        "execution": {
          "iopub.status.busy": "2023-01-24T03:57:41.383113Z",
          "iopub.execute_input": "2023-01-24T03:57:41.383436Z",
          "iopub.status.idle": "2023-01-24T03:57:41.692829Z",
          "shell.execute_reply.started": "2023-01-24T03:57:41.383408Z",
          "shell.execute_reply": "2023-01-24T03:57:41.691781Z"
        },
        "trusted": true,
        "id": "5L1gv5NEG0y_"
      },
      "execution_count": null,
      "outputs": []
    },
    {
      "cell_type": "markdown",
      "source": [
        "# Download Kaggle dataset"
      ],
      "metadata": {
        "id": "evkOoSqMYGx9"
      }
    },
    {
      "cell_type": "code",
      "source": [
        "!kaggle kernels output sunghyunjun/otto-etl-nvtabular-cpu-candidates-orders -p dataset\n"
      ],
      "metadata": {
        "id": "3vwXroHzHN0W",
        "colab": {
          "base_uri": "https://localhost:8080/"
        },
        "outputId": "4555a2dc-3df7-4f3d-9a08-79cdacbed1a7"
      },
      "execution_count": null,
      "outputs": [
        {
          "output_type": "stream",
          "name": "stdout",
          "text": [
            "Output file downloaded to dataset/candidates_orders.npy\n",
            "Output file downloaded to dataset/test/_file_list.txt\n",
            "Output file downloaded to dataset/test/_metadata\n",
            "Output file downloaded to dataset/test/_metadata.json\n",
            "Output file downloaded to dataset/test/part_0.parquet\n",
            "Output file downloaded to dataset/test/part_1.parquet\n",
            "Output file downloaded to dataset/test/part_2.parquet\n",
            "Output file downloaded to dataset/test/part_3.parquet\n",
            "Output file downloaded to dataset/test/part_4.parquet\n",
            "Output file downloaded to dataset/test/part_5.parquet\n",
            "Output file downloaded to dataset/test/part_6.parquet\n",
            "Output file downloaded to dataset/test/part_7.parquet\n",
            "Output file downloaded to dataset/test/part_8.parquet\n",
            "Output file downloaded to dataset/test/schema.pbtxt\n",
            "Output file downloaded to dataset/train/_file_list.txt\n",
            "Output file downloaded to dataset/train/_metadata\n",
            "Output file downloaded to dataset/train/_metadata.json\n",
            "Output file downloaded to dataset/train/part_0.parquet\n",
            "Output file downloaded to dataset/train/part_1.parquet\n",
            "Output file downloaded to dataset/train/part_10.parquet\n",
            "Output file downloaded to dataset/train/part_11.parquet\n",
            "Output file downloaded to dataset/train/part_12.parquet\n",
            "Output file downloaded to dataset/train/part_13.parquet\n",
            "Output file downloaded to dataset/train/part_14.parquet\n",
            "Output file downloaded to dataset/train/part_15.parquet\n",
            "Output file downloaded to dataset/train/part_16.parquet\n",
            "Output file downloaded to dataset/train/part_17.parquet\n",
            "Output file downloaded to dataset/train/part_18.parquet\n",
            "Output file downloaded to dataset/train/part_19.parquet\n",
            "Output file downloaded to dataset/train/part_2.parquet\n",
            "Output file downloaded to dataset/train/part_20.parquet\n",
            "Output file downloaded to dataset/train/part_21.parquet\n",
            "Output file downloaded to dataset/train/part_22.parquet\n",
            "Output file downloaded to dataset/train/part_23.parquet\n",
            "Output file downloaded to dataset/train/part_24.parquet\n",
            "Output file downloaded to dataset/train/part_25.parquet\n",
            "Output file downloaded to dataset/train/part_26.parquet\n",
            "Output file downloaded to dataset/train/part_27.parquet\n",
            "Output file downloaded to dataset/train/part_28.parquet\n",
            "Output file downloaded to dataset/train/part_29.parquet\n",
            "Output file downloaded to dataset/train/part_3.parquet\n",
            "Output file downloaded to dataset/train/part_30.parquet\n",
            "Output file downloaded to dataset/train/part_31.parquet\n",
            "Output file downloaded to dataset/train/part_32.parquet\n",
            "Output file downloaded to dataset/train/part_33.parquet\n",
            "Output file downloaded to dataset/train/part_34.parquet\n",
            "Output file downloaded to dataset/train/part_35.parquet\n",
            "Output file downloaded to dataset/train/part_36.parquet\n",
            "Output file downloaded to dataset/train/part_37.parquet\n",
            "Output file downloaded to dataset/train/part_38.parquet\n",
            "Output file downloaded to dataset/train/part_39.parquet\n",
            "Output file downloaded to dataset/train/part_4.parquet\n",
            "Output file downloaded to dataset/train/part_40.parquet\n",
            "Output file downloaded to dataset/train/part_41.parquet\n",
            "Output file downloaded to dataset/train/part_42.parquet\n",
            "Output file downloaded to dataset/train/part_43.parquet\n",
            "Output file downloaded to dataset/train/part_44.parquet\n",
            "Output file downloaded to dataset/train/part_45.parquet\n",
            "Output file downloaded to dataset/train/part_46.parquet\n",
            "Output file downloaded to dataset/train/part_47.parquet\n",
            "Output file downloaded to dataset/train/part_48.parquet\n",
            "Output file downloaded to dataset/train/part_49.parquet\n",
            "Output file downloaded to dataset/train/part_5.parquet\n",
            "Output file downloaded to dataset/train/part_50.parquet\n",
            "Output file downloaded to dataset/train/part_51.parquet\n",
            "Output file downloaded to dataset/train/part_52.parquet\n",
            "Output file downloaded to dataset/train/part_6.parquet\n",
            "Output file downloaded to dataset/train/part_7.parquet\n",
            "Output file downloaded to dataset/train/part_8.parquet\n",
            "Output file downloaded to dataset/train/part_9.parquet\n",
            "Output file downloaded to dataset/train/schema.pbtxt\n",
            "Output file downloaded to dataset/valid/_file_list.txt\n",
            "Output file downloaded to dataset/valid/_metadata\n",
            "Output file downloaded to dataset/valid/_metadata.json\n",
            "Output file downloaded to dataset/valid/part_0.parquet\n",
            "Output file downloaded to dataset/valid/part_1.parquet\n",
            "Output file downloaded to dataset/valid/part_2.parquet\n",
            "Output file downloaded to dataset/valid/part_3.parquet\n",
            "Output file downloaded to dataset/valid/part_4.parquet\n",
            "Output file downloaded to dataset/valid/part_5.parquet\n",
            "Output file downloaded to dataset/valid/part_6.parquet\n",
            "Output file downloaded to dataset/valid/part_7.parquet\n",
            "Output file downloaded to dataset/valid/part_8.parquet\n",
            "Output file downloaded to dataset/valid/schema.pbtxt\n",
            "Kernel log downloaded to dataset/otto-etl-nvtabular-cpu-candidates-orders.log \n"
          ]
        }
      ]
    },
    {
      "cell_type": "markdown",
      "source": [
        "# Install Transformers4Rec"
      ],
      "metadata": {
        "id": "WYeCeOHxUTRf"
      }
    },
    {
      "cell_type": "code",
      "source": [
        "!pip install transformers4rec[pytorch,nvtabular]\n",
        "!pip install -U nvtabular==1.3.3\n",
        "!pip install -U pytorch_lightning==1.8.0.post1\n",
        "!pip install torchmetrics==0.10.0\n",
        "!pip install neptune-client"
      ],
      "metadata": {
        "trusted": true,
        "id": "CJOzk6r-G0y4",
        "colab": {
          "base_uri": "https://localhost:8080/"
        },
        "outputId": "c1d965a7-cee2-4e9f-8460-089406e567a1"
      },
      "execution_count": null,
      "outputs": [
        {
          "output_type": "stream",
          "name": "stdout",
          "text": [
            "Looking in indexes: https://pypi.org/simple, https://us-python.pkg.dev/colab-wheels/public/simple/\n",
            "Collecting transformers4rec[nvtabular,pytorch]\n",
            "  Downloading transformers4rec-0.1.15.tar.gz (774 kB)\n",
            "\u001b[?25l     \u001b[90m━━━━━━━━━━━━━━━━━━━━━━━━━━━━━━━━━━━━━━━━\u001b[0m \u001b[32m0.0/774.3 KB\u001b[0m \u001b[31m?\u001b[0m eta \u001b[36m-:--:--\u001b[0m\r\u001b[2K     \u001b[91m━━━━━━━━━\u001b[0m\u001b[91m╸\u001b[0m\u001b[90m━━━━━━━━━━━━━━━━━━━━━━━━━━━━━\u001b[0m \u001b[32m194.6/774.3 KB\u001b[0m \u001b[31m6.1 MB/s\u001b[0m eta \u001b[36m0:00:01\u001b[0m\r\u001b[2K     \u001b[90m━━━━━━━━━━━━━━━━━━━━━━━━━━━━━━━━━━━━━━\u001b[0m \u001b[32m774.3/774.3 KB\u001b[0m \u001b[31m12.2 MB/s\u001b[0m eta \u001b[36m0:00:00\u001b[0m\n",
            "\u001b[?25h  Installing build dependencies ... \u001b[?25l\u001b[?25hdone\n",
            "  Getting requirements to build wheel ... \u001b[?25l\u001b[?25hdone\n",
            "  Preparing metadata (pyproject.toml) ... \u001b[?25l\u001b[?25hdone\n",
            "Requirement already satisfied: numpy>=1.17.0 in /usr/local/lib/python3.8/dist-packages (from transformers4rec[nvtabular,pytorch]) (1.21.6)\n",
            "Collecting transformers<4.19\n",
            "  Downloading transformers-4.18.0-py3-none-any.whl (4.0 MB)\n",
            "\u001b[2K     \u001b[90m━━━━━━━━━━━━━━━━━━━━━━━━━━━━━━━━━━━━━━━━\u001b[0m \u001b[32m4.0/4.0 MB\u001b[0m \u001b[31m76.2 MB/s\u001b[0m eta \u001b[36m0:00:00\u001b[0m\n",
            "\u001b[?25hRequirement already satisfied: tqdm>=4.27 in /usr/local/lib/python3.8/dist-packages (from transformers4rec[nvtabular,pytorch]) (4.64.1)\n",
            "Requirement already satisfied: pyarrow>=1.0 in /usr/local/lib/python3.8/dist-packages (from transformers4rec[nvtabular,pytorch]) (9.0.0)\n",
            "Collecting betterproto<2.0.0\n",
            "  Downloading betterproto-1.2.5.tar.gz (26 kB)\n",
            "  Installing build dependencies ... \u001b[?25l\u001b[?25hdone\n",
            "  Getting requirements to build wheel ... \u001b[?25l\u001b[?25hdone\n",
            "  Preparing metadata (pyproject.toml) ... \u001b[?25l\u001b[?25hdone\n",
            "Collecting nvtabular\n",
            "  Downloading nvtabular-1.5.0.tar.gz (133 kB)\n",
            "\u001b[2K     \u001b[90m━━━━━━━━━━━━━━━━━━━━━━━━━━━━━━━━━━━━━━\u001b[0m \u001b[32m133.6/133.6 KB\u001b[0m \u001b[31m18.8 MB/s\u001b[0m eta \u001b[36m0:00:00\u001b[0m\n",
            "\u001b[?25h  Installing build dependencies ... \u001b[?25l\u001b[?25hdone\n",
            "  Getting requirements to build wheel ... \u001b[?25l\u001b[?25hdone\n",
            "  Preparing metadata (pyproject.toml) ... \u001b[?25l\u001b[?25hdone\n",
            "Collecting torchmetrics==0.3.2\n",
            "  Downloading torchmetrics-0.3.2-py3-none-any.whl (274 kB)\n",
            "\u001b[2K     \u001b[90m━━━━━━━━━━━━━━━━━━━━━━━━━━━━━━━━━━━━━━\u001b[0m \u001b[32m274.2/274.2 KB\u001b[0m \u001b[31m33.8 MB/s\u001b[0m eta \u001b[36m0:00:00\u001b[0m\n",
            "\u001b[?25hRequirement already satisfied: torch>=1.0 in /usr/local/lib/python3.8/dist-packages (from transformers4rec[nvtabular,pytorch]) (1.13.1+cu116)\n",
            "Requirement already satisfied: packaging in /usr/local/lib/python3.8/dist-packages (from torchmetrics==0.3.2->transformers4rec[nvtabular,pytorch]) (21.3)\n",
            "Collecting stringcase\n",
            "  Downloading stringcase-1.2.0.tar.gz (3.0 kB)\n",
            "  Preparing metadata (setup.py) ... \u001b[?25l\u001b[?25hdone\n",
            "Collecting grpclib\n",
            "  Downloading grpclib-0.4.3.tar.gz (62 kB)\n",
            "\u001b[2K     \u001b[90m━━━━━━━━━━━━━━━━━━━━━━━━━━━━━━━━━━━━━━━━\u001b[0m \u001b[32m62.1/62.1 KB\u001b[0m \u001b[31m8.5 MB/s\u001b[0m eta \u001b[36m0:00:00\u001b[0m\n",
            "\u001b[?25h  Installing build dependencies ... \u001b[?25l\u001b[?25hdone\n",
            "  Getting requirements to build wheel ... \u001b[?25l\u001b[?25hdone\n",
            "  Preparing metadata (pyproject.toml) ... \u001b[?25l\u001b[?25hdone\n",
            "Requirement already satisfied: typing-extensions in /usr/local/lib/python3.8/dist-packages (from torch>=1.0->transformers4rec[nvtabular,pytorch]) (4.4.0)\n",
            "Requirement already satisfied: regex!=2019.12.17 in /usr/local/lib/python3.8/dist-packages (from transformers<4.19->transformers4rec[nvtabular,pytorch]) (2022.6.2)\n",
            "Collecting huggingface-hub<1.0,>=0.1.0\n",
            "  Downloading huggingface_hub-0.12.0-py3-none-any.whl (190 kB)\n",
            "\u001b[2K     \u001b[90m━━━━━━━━━━━━━━━━━━━━━━━━━━━━━━━━━━━━━━\u001b[0m \u001b[32m190.3/190.3 KB\u001b[0m \u001b[31m25.0 MB/s\u001b[0m eta \u001b[36m0:00:00\u001b[0m\n",
            "\u001b[?25hCollecting sacremoses\n",
            "  Downloading sacremoses-0.0.53.tar.gz (880 kB)\n",
            "\u001b[2K     \u001b[90m━━━━━━━━━━━━━━━━━━━━━━━━━━━━━━━━━━━━━━\u001b[0m \u001b[32m880.6/880.6 KB\u001b[0m \u001b[31m71.4 MB/s\u001b[0m eta \u001b[36m0:00:00\u001b[0m\n",
            "\u001b[?25h  Preparing metadata (setup.py) ... \u001b[?25l\u001b[?25hdone\n",
            "Requirement already satisfied: requests in /usr/local/lib/python3.8/dist-packages (from transformers<4.19->transformers4rec[nvtabular,pytorch]) (2.25.1)\n",
            "Requirement already satisfied: pyyaml>=5.1 in /usr/local/lib/python3.8/dist-packages (from transformers<4.19->transformers4rec[nvtabular,pytorch]) (6.0)\n",
            "Collecting tokenizers!=0.11.3,<0.13,>=0.11.1\n",
            "  Downloading tokenizers-0.12.1-cp38-cp38-manylinux_2_12_x86_64.manylinux2010_x86_64.whl (6.6 MB)\n",
            "\u001b[2K     \u001b[90m━━━━━━━━━━━━━━━━━━━━━━━━━━━━━━━━━━━━━━━━\u001b[0m \u001b[32m6.6/6.6 MB\u001b[0m \u001b[31m106.3 MB/s\u001b[0m eta \u001b[36m0:00:00\u001b[0m\n",
            "\u001b[?25hRequirement already satisfied: filelock in /usr/local/lib/python3.8/dist-packages (from transformers<4.19->transformers4rec[nvtabular,pytorch]) (3.9.0)\n",
            "Collecting merlin-core>=0.2.0\n",
            "  Downloading merlin-core-0.10.0.tar.gz (112 kB)\n",
            "\u001b[2K     \u001b[90m━━━━━━━━━━━━━━━━━━━━━━━━━━━━━━━━━━━━━━\u001b[0m \u001b[32m112.1/112.1 KB\u001b[0m \u001b[31m17.5 MB/s\u001b[0m eta \u001b[36m0:00:00\u001b[0m\n",
            "\u001b[?25h  Installing build dependencies ... \u001b[?25l\u001b[?25hdone\n",
            "  Getting requirements to build wheel ... \u001b[?25l\u001b[?25hdone\n",
            "  Preparing metadata (pyproject.toml) ... \u001b[?25l\u001b[?25hdone\n",
            "Requirement already satisfied: scipy in /usr/local/lib/python3.8/dist-packages (from nvtabular->transformers4rec[nvtabular,pytorch]) (1.7.3)\n",
            "Requirement already satisfied: tensorflow-metadata>=1.2.0 in /usr/local/lib/python3.8/dist-packages (from merlin-core>=0.2.0->nvtabular->transformers4rec[nvtabular,pytorch]) (1.12.0)\n",
            "Collecting fsspec==2022.5.0\n",
            "  Downloading fsspec-2022.5.0-py3-none-any.whl (140 kB)\n",
            "\u001b[2K     \u001b[90m━━━━━━━━━━━━━━━━━━━━━━━━━━━━━━━━━━━━━━\u001b[0m \u001b[32m140.6/140.6 KB\u001b[0m \u001b[31m19.8 MB/s\u001b[0m eta \u001b[36m0:00:00\u001b[0m\n",
            "\u001b[?25hRequirement already satisfied: numba>=0.54 in /usr/local/lib/python3.8/dist-packages (from merlin-core>=0.2.0->nvtabular->transformers4rec[nvtabular,pytorch]) (0.56.4)\n",
            "Collecting distributed>=2022.3.0\n",
            "  Downloading distributed-2023.1.1-py3-none-any.whl (934 kB)\n",
            "\u001b[2K     \u001b[90m━━━━━━━━━━━━━━━━━━━━━━━━━━━━━━━━━━━━━━\u001b[0m \u001b[32m934.1/934.1 KB\u001b[0m \u001b[31m69.7 MB/s\u001b[0m eta \u001b[36m0:00:00\u001b[0m\n",
            "\u001b[?25hRequirement already satisfied: pandas<1.4.0dev0,>=1.2.0 in /usr/local/lib/python3.8/dist-packages (from merlin-core>=0.2.0->nvtabular->transformers4rec[nvtabular,pytorch]) (1.3.5)\n",
            "Collecting dask>=2022.3.0\n",
            "  Downloading dask-2023.1.1-py3-none-any.whl (1.1 MB)\n",
            "\u001b[2K     \u001b[90m━━━━━━━━━━━━━━━━━━━━━━━━━━━━━━━━━━━━━━━━\u001b[0m \u001b[32m1.1/1.1 MB\u001b[0m \u001b[31m77.3 MB/s\u001b[0m eta \u001b[36m0:00:00\u001b[0m\n",
            "\u001b[?25hRequirement already satisfied: protobuf>=3.0.0 in /usr/local/lib/python3.8/dist-packages (from merlin-core>=0.2.0->nvtabular->transformers4rec[nvtabular,pytorch]) (3.19.6)\n",
            "Requirement already satisfied: pyparsing!=3.0.5,>=2.0.2 in /usr/local/lib/python3.8/dist-packages (from packaging->torchmetrics==0.3.2->transformers4rec[nvtabular,pytorch]) (3.0.9)\n",
            "Requirement already satisfied: multidict in /usr/local/lib/python3.8/dist-packages (from grpclib->betterproto<2.0.0->transformers4rec[nvtabular,pytorch]) (6.0.4)\n",
            "Collecting h2<5,>=3.1.0\n",
            "  Downloading h2-4.1.0-py3-none-any.whl (57 kB)\n",
            "\u001b[2K     \u001b[90m━━━━━━━━━━━━━━━━━━━━━━━━━━━━━━━━━━━━━━━━\u001b[0m \u001b[32m57.5/57.5 KB\u001b[0m \u001b[31m9.0 MB/s\u001b[0m eta \u001b[36m0:00:00\u001b[0m\n",
            "\u001b[?25hRequirement already satisfied: idna<3,>=2.5 in /usr/local/lib/python3.8/dist-packages (from requests->transformers<4.19->transformers4rec[nvtabular,pytorch]) (2.10)\n",
            "Requirement already satisfied: urllib3<1.27,>=1.21.1 in /usr/local/lib/python3.8/dist-packages (from requests->transformers<4.19->transformers4rec[nvtabular,pytorch]) (1.24.3)\n",
            "Requirement already satisfied: certifi>=2017.4.17 in /usr/local/lib/python3.8/dist-packages (from requests->transformers<4.19->transformers4rec[nvtabular,pytorch]) (2022.12.7)\n",
            "Requirement already satisfied: chardet<5,>=3.0.2 in /usr/local/lib/python3.8/dist-packages (from requests->transformers<4.19->transformers4rec[nvtabular,pytorch]) (4.0.0)\n",
            "Requirement already satisfied: six in /usr/local/lib/python3.8/dist-packages (from sacremoses->transformers<4.19->transformers4rec[nvtabular,pytorch]) (1.15.0)\n",
            "Requirement already satisfied: click in /usr/local/lib/python3.8/dist-packages (from sacremoses->transformers<4.19->transformers4rec[nvtabular,pytorch]) (7.1.2)\n",
            "Requirement already satisfied: joblib in /usr/local/lib/python3.8/dist-packages (from sacremoses->transformers<4.19->transformers4rec[nvtabular,pytorch]) (1.2.0)\n",
            "Requirement already satisfied: cloudpickle>=1.1.1 in /usr/local/lib/python3.8/dist-packages (from dask>=2022.3.0->merlin-core>=0.2.0->nvtabular->transformers4rec[nvtabular,pytorch]) (2.2.0)\n",
            "Requirement already satisfied: partd>=0.3.10 in /usr/local/lib/python3.8/dist-packages (from dask>=2022.3.0->merlin-core>=0.2.0->nvtabular->transformers4rec[nvtabular,pytorch]) (1.3.0)\n",
            "Requirement already satisfied: toolz>=0.8.2 in /usr/local/lib/python3.8/dist-packages (from dask>=2022.3.0->merlin-core>=0.2.0->nvtabular->transformers4rec[nvtabular,pytorch]) (0.12.0)\n",
            "Requirement already satisfied: zict>=2.1.0 in /usr/local/lib/python3.8/dist-packages (from distributed>=2022.3.0->merlin-core>=0.2.0->nvtabular->transformers4rec[nvtabular,pytorch]) (2.2.0)\n",
            "Requirement already satisfied: tblib>=1.6.0 in /usr/local/lib/python3.8/dist-packages (from distributed>=2022.3.0->merlin-core>=0.2.0->nvtabular->transformers4rec[nvtabular,pytorch]) (1.7.0)\n",
            "Requirement already satisfied: msgpack>=1.0.0 in /usr/local/lib/python3.8/dist-packages (from distributed>=2022.3.0->merlin-core>=0.2.0->nvtabular->transformers4rec[nvtabular,pytorch]) (1.0.4)\n",
            "Requirement already satisfied: jinja2>=2.10.3 in /usr/local/lib/python3.8/dist-packages (from distributed>=2022.3.0->merlin-core>=0.2.0->nvtabular->transformers4rec[nvtabular,pytorch]) (2.11.3)\n",
            "Requirement already satisfied: locket>=1.0.0 in /usr/local/lib/python3.8/dist-packages (from distributed>=2022.3.0->merlin-core>=0.2.0->nvtabular->transformers4rec[nvtabular,pytorch]) (1.0.0)\n",
            "Requirement already satisfied: psutil>=5.7.0 in /usr/local/lib/python3.8/dist-packages (from distributed>=2022.3.0->merlin-core>=0.2.0->nvtabular->transformers4rec[nvtabular,pytorch]) (5.9.4)\n",
            "Requirement already satisfied: tornado>=6.0.3 in /usr/local/lib/python3.8/dist-packages (from distributed>=2022.3.0->merlin-core>=0.2.0->nvtabular->transformers4rec[nvtabular,pytorch]) (6.0.4)\n",
            "Requirement already satisfied: sortedcontainers>=2.0.5 in /usr/local/lib/python3.8/dist-packages (from distributed>=2022.3.0->merlin-core>=0.2.0->nvtabular->transformers4rec[nvtabular,pytorch]) (2.4.0)\n",
            "Collecting hpack<5,>=4.0\n",
            "  Downloading hpack-4.0.0-py3-none-any.whl (32 kB)\n",
            "Collecting hyperframe<7,>=6.0\n",
            "  Downloading hyperframe-6.0.1-py3-none-any.whl (12 kB)\n",
            "Requirement already satisfied: setuptools in /usr/local/lib/python3.8/dist-packages (from numba>=0.54->merlin-core>=0.2.0->nvtabular->transformers4rec[nvtabular,pytorch]) (57.4.0)\n",
            "Requirement already satisfied: importlib-metadata in /usr/local/lib/python3.8/dist-packages (from numba>=0.54->merlin-core>=0.2.0->nvtabular->transformers4rec[nvtabular,pytorch]) (6.0.0)\n",
            "Requirement already satisfied: llvmlite<0.40,>=0.39.0dev0 in /usr/local/lib/python3.8/dist-packages (from numba>=0.54->merlin-core>=0.2.0->nvtabular->transformers4rec[nvtabular,pytorch]) (0.39.1)\n",
            "Requirement already satisfied: python-dateutil>=2.7.3 in /usr/local/lib/python3.8/dist-packages (from pandas<1.4.0dev0,>=1.2.0->merlin-core>=0.2.0->nvtabular->transformers4rec[nvtabular,pytorch]) (2.8.2)\n",
            "Requirement already satisfied: pytz>=2017.3 in /usr/local/lib/python3.8/dist-packages (from pandas<1.4.0dev0,>=1.2.0->merlin-core>=0.2.0->nvtabular->transformers4rec[nvtabular,pytorch]) (2022.7)\n",
            "Requirement already satisfied: googleapis-common-protos<2,>=1.52.0 in /usr/local/lib/python3.8/dist-packages (from tensorflow-metadata>=1.2.0->merlin-core>=0.2.0->nvtabular->transformers4rec[nvtabular,pytorch]) (1.58.0)\n",
            "Requirement already satisfied: absl-py<2.0.0,>=0.9 in /usr/local/lib/python3.8/dist-packages (from tensorflow-metadata>=1.2.0->merlin-core>=0.2.0->nvtabular->transformers4rec[nvtabular,pytorch]) (1.3.0)\n",
            "Requirement already satisfied: MarkupSafe>=0.23 in /usr/local/lib/python3.8/dist-packages (from jinja2>=2.10.3->distributed>=2022.3.0->merlin-core>=0.2.0->nvtabular->transformers4rec[nvtabular,pytorch]) (2.0.1)\n",
            "Requirement already satisfied: heapdict in /usr/local/lib/python3.8/dist-packages (from zict>=2.1.0->distributed>=2022.3.0->merlin-core>=0.2.0->nvtabular->transformers4rec[nvtabular,pytorch]) (1.0.1)\n",
            "Requirement already satisfied: zipp>=0.5 in /usr/local/lib/python3.8/dist-packages (from importlib-metadata->numba>=0.54->merlin-core>=0.2.0->nvtabular->transformers4rec[nvtabular,pytorch]) (3.11.0)\n",
            "Building wheels for collected packages: betterproto, nvtabular, transformers4rec, merlin-core, grpclib, sacremoses, stringcase\n",
            "  Building wheel for betterproto (pyproject.toml) ... \u001b[?25l\u001b[?25hdone\n",
            "  Created wheel for betterproto: filename=betterproto-1.2.5-py3-none-any.whl size=22012 sha256=e0314ddd2e16d697491540733e7c23ad34216704df63f551343cb472c5a6c373\n",
            "  Stored in directory: /root/.cache/pip/wheels/f0/d8/2c/88deaa4bcf85c355055d31aebbc3b8e554ab38fd0823aa6f08\n",
            "  Building wheel for nvtabular (pyproject.toml) ... \u001b[?25l\u001b[?25hdone\n",
            "  Created wheel for nvtabular: filename=nvtabular-1.5.0-cp38-cp38-linux_x86_64.whl size=265913 sha256=550163c3604f1fdeee6575910d9234b09718c004a788526f0506b5e63afc7bd6\n",
            "  Stored in directory: /root/.cache/pip/wheels/54/da/72/3fca349ad2348f10c3b2f873daff3ce2a1e072787d231f6ebe\n",
            "  Building wheel for transformers4rec (pyproject.toml) ... \u001b[?25l\u001b[?25hdone\n",
            "  Created wheel for transformers4rec: filename=transformers4rec-0.1.15-py3-none-any.whl size=355159 sha256=e8a7b55cefa19f5b180e9fc59271ef53e783d3e5568271e81c2ad046159dbb20\n",
            "  Stored in directory: /root/.cache/pip/wheels/a7/f9/04/4e3695cfd38cd2f023d9a733414a6152753c3242dd322886d0\n",
            "  Building wheel for merlin-core (pyproject.toml) ... \u001b[?25l\u001b[?25hdone\n",
            "  Created wheel for merlin-core: filename=merlin_core-0.10.0-py3-none-any.whl size=118957 sha256=2748a96a3b1da45b3845546efd66f68c8ca1a44cb69fd17c181d31b684629878\n",
            "  Stored in directory: /root/.cache/pip/wheels/fc/61/f5/248b8e08a868d53576e56cab6d8dcad527c28a69499cf8486a\n",
            "  Building wheel for grpclib (pyproject.toml) ... \u001b[?25l\u001b[?25hdone\n",
            "  Created wheel for grpclib: filename=grpclib-0.4.3-py3-none-any.whl size=77081 sha256=c21a69eb5868080cdc42bee5ca0eaac852c48182457149116e35e751f4302051\n",
            "  Stored in directory: /root/.cache/pip/wheels/3c/bf/37/810d98c051f7709adc84c97077afaef55a58725f879fc7f780\n",
            "  Building wheel for sacremoses (setup.py) ... \u001b[?25l\u001b[?25hdone\n",
            "  Created wheel for sacremoses: filename=sacremoses-0.0.53-py3-none-any.whl size=895260 sha256=e0be33860bb501672b233fa628f50966b7874fb382a8e2154e1baf6d51b39100\n",
            "  Stored in directory: /root/.cache/pip/wheels/82/ab/9b/c15899bf659ba74f623ac776e861cf2eb8608c1825ddec66a4\n",
            "  Building wheel for stringcase (setup.py) ... \u001b[?25l\u001b[?25hdone\n",
            "  Created wheel for stringcase: filename=stringcase-1.2.0-py3-none-any.whl size=3587 sha256=23bdda6c57533cb533f8a032f87d368858ccc9134830c1c496482a6cd916f956\n",
            "  Stored in directory: /root/.cache/pip/wheels/04/0e/31/bf265c64f2a4d24516e9923f1f6293c3bcbcde75e0d80ab47a\n",
            "Successfully built betterproto nvtabular transformers4rec merlin-core grpclib sacremoses stringcase\n",
            "Installing collected packages: tokenizers, stringcase, sacremoses, hyperframe, hpack, fsspec, torchmetrics, huggingface-hub, h2, dask, transformers, grpclib, distributed, betterproto, transformers4rec, merlin-core, nvtabular\n",
            "  Attempting uninstall: fsspec\n",
            "    Found existing installation: fsspec 2023.1.0\n",
            "    Uninstalling fsspec-2023.1.0:\n",
            "      Successfully uninstalled fsspec-2023.1.0\n",
            "  Attempting uninstall: dask\n",
            "    Found existing installation: dask 2022.2.1\n",
            "    Uninstalling dask-2022.2.1:\n",
            "      Successfully uninstalled dask-2022.2.1\n",
            "  Attempting uninstall: distributed\n",
            "    Found existing installation: distributed 2022.2.1\n",
            "    Uninstalling distributed-2022.2.1:\n",
            "      Successfully uninstalled distributed-2022.2.1\n",
            "\u001b[31mERROR: pip's dependency resolver does not currently take into account all the packages that are installed. This behaviour is the source of the following dependency conflicts.\n",
            "gcsfs 2023.1.0 requires fsspec==2023.1.0, but you have fsspec 2022.5.0 which is incompatible.\u001b[0m\u001b[31m\n",
            "\u001b[0mSuccessfully installed betterproto-1.2.5 dask-2023.1.1 distributed-2023.1.1 fsspec-2022.5.0 grpclib-0.4.3 h2-4.1.0 hpack-4.0.0 huggingface-hub-0.12.0 hyperframe-6.0.1 merlin-core-0.10.0 nvtabular-1.5.0 sacremoses-0.0.53 stringcase-1.2.0 tokenizers-0.12.1 torchmetrics-0.3.2 transformers-4.18.0 transformers4rec-0.1.15\n",
            "Looking in indexes: https://pypi.org/simple, https://us-python.pkg.dev/colab-wheels/public/simple/\n",
            "Collecting nvtabular==1.3.3\n",
            "  Downloading nvtabular-1.3.3.tar.gz (132 kB)\n",
            "\u001b[2K     \u001b[90m━━━━━━━━━━━━━━━━━━━━━━━━━━━━━━━━━━━━━━━\u001b[0m \u001b[32m132.6/132.6 KB\u001b[0m \u001b[31m4.6 MB/s\u001b[0m eta \u001b[36m0:00:00\u001b[0m\n",
            "\u001b[?25h  Installing build dependencies ... \u001b[?25l\u001b[?25hdone\n",
            "  Getting requirements to build wheel ... \u001b[?25l\u001b[?25hdone\n",
            "  Preparing metadata (pyproject.toml) ... \u001b[?25l\u001b[?25hdone\n",
            "Requirement already satisfied: merlin-core>=0.2.0 in /usr/local/lib/python3.8/dist-packages (from nvtabular==1.3.3) (0.10.0)\n",
            "Requirement already satisfied: pyarrow>=5.0.0 in /usr/local/lib/python3.8/dist-packages (from merlin-core>=0.2.0->nvtabular==1.3.3) (9.0.0)\n",
            "Requirement already satisfied: pandas<1.4.0dev0,>=1.2.0 in /usr/local/lib/python3.8/dist-packages (from merlin-core>=0.2.0->nvtabular==1.3.3) (1.3.5)\n",
            "Requirement already satisfied: protobuf>=3.0.0 in /usr/local/lib/python3.8/dist-packages (from merlin-core>=0.2.0->nvtabular==1.3.3) (3.19.6)\n",
            "Requirement already satisfied: numba>=0.54 in /usr/local/lib/python3.8/dist-packages (from merlin-core>=0.2.0->nvtabular==1.3.3) (0.56.4)\n",
            "Requirement already satisfied: tqdm>=4.0 in /usr/local/lib/python3.8/dist-packages (from merlin-core>=0.2.0->nvtabular==1.3.3) (4.64.1)\n",
            "Requirement already satisfied: dask>=2022.3.0 in /usr/local/lib/python3.8/dist-packages (from merlin-core>=0.2.0->nvtabular==1.3.3) (2023.1.1)\n",
            "Requirement already satisfied: fsspec==2022.5.0 in /usr/local/lib/python3.8/dist-packages (from merlin-core>=0.2.0->nvtabular==1.3.3) (2022.5.0)\n",
            "Requirement already satisfied: betterproto<2.0.0 in /usr/local/lib/python3.8/dist-packages (from merlin-core>=0.2.0->nvtabular==1.3.3) (1.2.5)\n",
            "Requirement already satisfied: packaging in /usr/local/lib/python3.8/dist-packages (from merlin-core>=0.2.0->nvtabular==1.3.3) (21.3)\n",
            "Requirement already satisfied: tensorflow-metadata>=1.2.0 in /usr/local/lib/python3.8/dist-packages (from merlin-core>=0.2.0->nvtabular==1.3.3) (1.12.0)\n",
            "Requirement already satisfied: distributed>=2022.3.0 in /usr/local/lib/python3.8/dist-packages (from merlin-core>=0.2.0->nvtabular==1.3.3) (2023.1.1)\n",
            "Requirement already satisfied: stringcase in /usr/local/lib/python3.8/dist-packages (from betterproto<2.0.0->merlin-core>=0.2.0->nvtabular==1.3.3) (1.2.0)\n",
            "Requirement already satisfied: grpclib in /usr/local/lib/python3.8/dist-packages (from betterproto<2.0.0->merlin-core>=0.2.0->nvtabular==1.3.3) (0.4.3)\n",
            "Requirement already satisfied: click>=7.0 in /usr/local/lib/python3.8/dist-packages (from dask>=2022.3.0->merlin-core>=0.2.0->nvtabular==1.3.3) (7.1.2)\n",
            "Requirement already satisfied: pyyaml>=5.3.1 in /usr/local/lib/python3.8/dist-packages (from dask>=2022.3.0->merlin-core>=0.2.0->nvtabular==1.3.3) (6.0)\n",
            "Requirement already satisfied: toolz>=0.8.2 in /usr/local/lib/python3.8/dist-packages (from dask>=2022.3.0->merlin-core>=0.2.0->nvtabular==1.3.3) (0.12.0)\n",
            "Requirement already satisfied: partd>=0.3.10 in /usr/local/lib/python3.8/dist-packages (from dask>=2022.3.0->merlin-core>=0.2.0->nvtabular==1.3.3) (1.3.0)\n",
            "Requirement already satisfied: cloudpickle>=1.1.1 in /usr/local/lib/python3.8/dist-packages (from dask>=2022.3.0->merlin-core>=0.2.0->nvtabular==1.3.3) (2.2.0)\n",
            "Requirement already satisfied: msgpack>=1.0.0 in /usr/local/lib/python3.8/dist-packages (from distributed>=2022.3.0->merlin-core>=0.2.0->nvtabular==1.3.3) (1.0.4)\n",
            "Requirement already satisfied: jinja2>=2.10.3 in /usr/local/lib/python3.8/dist-packages (from distributed>=2022.3.0->merlin-core>=0.2.0->nvtabular==1.3.3) (2.11.3)\n",
            "Requirement already satisfied: locket>=1.0.0 in /usr/local/lib/python3.8/dist-packages (from distributed>=2022.3.0->merlin-core>=0.2.0->nvtabular==1.3.3) (1.0.0)\n",
            "Requirement already satisfied: tblib>=1.6.0 in /usr/local/lib/python3.8/dist-packages (from distributed>=2022.3.0->merlin-core>=0.2.0->nvtabular==1.3.3) (1.7.0)\n",
            "Requirement already satisfied: urllib3>=1.24.3 in /usr/local/lib/python3.8/dist-packages (from distributed>=2022.3.0->merlin-core>=0.2.0->nvtabular==1.3.3) (1.24.3)\n",
            "Requirement already satisfied: zict>=2.1.0 in /usr/local/lib/python3.8/dist-packages (from distributed>=2022.3.0->merlin-core>=0.2.0->nvtabular==1.3.3) (2.2.0)\n",
            "Requirement already satisfied: sortedcontainers>=2.0.5 in /usr/local/lib/python3.8/dist-packages (from distributed>=2022.3.0->merlin-core>=0.2.0->nvtabular==1.3.3) (2.4.0)\n",
            "Requirement already satisfied: psutil>=5.7.0 in /usr/local/lib/python3.8/dist-packages (from distributed>=2022.3.0->merlin-core>=0.2.0->nvtabular==1.3.3) (5.9.4)\n",
            "Requirement already satisfied: tornado>=6.0.3 in /usr/local/lib/python3.8/dist-packages (from distributed>=2022.3.0->merlin-core>=0.2.0->nvtabular==1.3.3) (6.0.4)\n",
            "Requirement already satisfied: llvmlite<0.40,>=0.39.0dev0 in /usr/local/lib/python3.8/dist-packages (from numba>=0.54->merlin-core>=0.2.0->nvtabular==1.3.3) (0.39.1)\n",
            "Requirement already satisfied: importlib-metadata in /usr/local/lib/python3.8/dist-packages (from numba>=0.54->merlin-core>=0.2.0->nvtabular==1.3.3) (6.0.0)\n",
            "Requirement already satisfied: numpy<1.24,>=1.18 in /usr/local/lib/python3.8/dist-packages (from numba>=0.54->merlin-core>=0.2.0->nvtabular==1.3.3) (1.21.6)\n",
            "Requirement already satisfied: setuptools in /usr/local/lib/python3.8/dist-packages (from numba>=0.54->merlin-core>=0.2.0->nvtabular==1.3.3) (57.4.0)\n",
            "Requirement already satisfied: pyparsing!=3.0.5,>=2.0.2 in /usr/local/lib/python3.8/dist-packages (from packaging->merlin-core>=0.2.0->nvtabular==1.3.3) (3.0.9)\n",
            "Requirement already satisfied: python-dateutil>=2.7.3 in /usr/local/lib/python3.8/dist-packages (from pandas<1.4.0dev0,>=1.2.0->merlin-core>=0.2.0->nvtabular==1.3.3) (2.8.2)\n",
            "Requirement already satisfied: pytz>=2017.3 in /usr/local/lib/python3.8/dist-packages (from pandas<1.4.0dev0,>=1.2.0->merlin-core>=0.2.0->nvtabular==1.3.3) (2022.7)\n",
            "Requirement already satisfied: googleapis-common-protos<2,>=1.52.0 in /usr/local/lib/python3.8/dist-packages (from tensorflow-metadata>=1.2.0->merlin-core>=0.2.0->nvtabular==1.3.3) (1.58.0)\n",
            "Requirement already satisfied: absl-py<2.0.0,>=0.9 in /usr/local/lib/python3.8/dist-packages (from tensorflow-metadata>=1.2.0->merlin-core>=0.2.0->nvtabular==1.3.3) (1.3.0)\n",
            "Requirement already satisfied: MarkupSafe>=0.23 in /usr/local/lib/python3.8/dist-packages (from jinja2>=2.10.3->distributed>=2022.3.0->merlin-core>=0.2.0->nvtabular==1.3.3) (2.0.1)\n",
            "Requirement already satisfied: six>=1.5 in /usr/local/lib/python3.8/dist-packages (from python-dateutil>=2.7.3->pandas<1.4.0dev0,>=1.2.0->merlin-core>=0.2.0->nvtabular==1.3.3) (1.15.0)\n",
            "Requirement already satisfied: heapdict in /usr/local/lib/python3.8/dist-packages (from zict>=2.1.0->distributed>=2022.3.0->merlin-core>=0.2.0->nvtabular==1.3.3) (1.0.1)\n",
            "Requirement already satisfied: multidict in /usr/local/lib/python3.8/dist-packages (from grpclib->betterproto<2.0.0->merlin-core>=0.2.0->nvtabular==1.3.3) (6.0.4)\n",
            "Requirement already satisfied: h2<5,>=3.1.0 in /usr/local/lib/python3.8/dist-packages (from grpclib->betterproto<2.0.0->merlin-core>=0.2.0->nvtabular==1.3.3) (4.1.0)\n",
            "Requirement already satisfied: zipp>=0.5 in /usr/local/lib/python3.8/dist-packages (from importlib-metadata->numba>=0.54->merlin-core>=0.2.0->nvtabular==1.3.3) (3.11.0)\n",
            "Requirement already satisfied: hyperframe<7,>=6.0 in /usr/local/lib/python3.8/dist-packages (from h2<5,>=3.1.0->grpclib->betterproto<2.0.0->merlin-core>=0.2.0->nvtabular==1.3.3) (6.0.1)\n",
            "Requirement already satisfied: hpack<5,>=4.0 in /usr/local/lib/python3.8/dist-packages (from h2<5,>=3.1.0->grpclib->betterproto<2.0.0->merlin-core>=0.2.0->nvtabular==1.3.3) (4.0.0)\n",
            "Building wheels for collected packages: nvtabular\n",
            "  Building wheel for nvtabular (pyproject.toml) ... \u001b[?25l\u001b[?25hdone\n",
            "  Created wheel for nvtabular: filename=nvtabular-1.3.3-cp38-cp38-linux_x86_64.whl size=267148 sha256=7baf2f485c8051e52d09fc2bc13874723f234bc5055551ead6783d5f5a41f718\n",
            "  Stored in directory: /root/.cache/pip/wheels/4a/77/fd/af573fde58e010040b863b7e552d4877f0b2c221bfcadb3cc6\n",
            "Successfully built nvtabular\n",
            "Installing collected packages: nvtabular\n",
            "  Attempting uninstall: nvtabular\n",
            "    Found existing installation: nvtabular 1.5.0\n",
            "    Uninstalling nvtabular-1.5.0:\n",
            "      Successfully uninstalled nvtabular-1.5.0\n",
            "Successfully installed nvtabular-1.3.3\n",
            "Looking in indexes: https://pypi.org/simple, https://us-python.pkg.dev/colab-wheels/public/simple/\n",
            "Collecting pytorch_lightning==1.8.0.post1\n",
            "  Downloading pytorch_lightning-1.8.0.post1-py3-none-any.whl (796 kB)\n",
            "\u001b[2K     \u001b[90m━━━━━━━━━━━━━━━━━━━━━━━━━━━━━━━━━━━━━━\u001b[0m \u001b[32m796.1/796.1 KB\u001b[0m \u001b[31m13.5 MB/s\u001b[0m eta \u001b[36m0:00:00\u001b[0m\n",
            "\u001b[?25hRequirement already satisfied: PyYAML>=5.4 in /usr/local/lib/python3.8/dist-packages (from pytorch_lightning==1.8.0.post1) (6.0)\n",
            "Collecting lightning-utilities==0.3.*\n",
            "  Downloading lightning_utilities-0.3.0-py3-none-any.whl (15 kB)\n",
            "Requirement already satisfied: tensorboard>=2.9.1 in /usr/local/lib/python3.8/dist-packages (from pytorch_lightning==1.8.0.post1) (2.9.1)\n",
            "Requirement already satisfied: packaging>=17.0 in /usr/local/lib/python3.8/dist-packages (from pytorch_lightning==1.8.0.post1) (21.3)\n",
            "Requirement already satisfied: tqdm>=4.57.0 in /usr/local/lib/python3.8/dist-packages (from pytorch_lightning==1.8.0.post1) (4.64.1)\n",
            "Requirement already satisfied: torch>=1.9.* in /usr/local/lib/python3.8/dist-packages (from pytorch_lightning==1.8.0.post1) (1.13.1+cu116)\n",
            "Collecting torchmetrics>=0.7.0\n",
            "  Downloading torchmetrics-0.11.0-py3-none-any.whl (512 kB)\n",
            "\u001b[2K     \u001b[90m━━━━━━━━━━━━━━━━━━━━━━━━━━━━━━━━━━━━━━\u001b[0m \u001b[32m512.4/512.4 KB\u001b[0m \u001b[31m56.1 MB/s\u001b[0m eta \u001b[36m0:00:00\u001b[0m\n",
            "\u001b[?25hRequirement already satisfied: numpy>=1.17.2 in /usr/local/lib/python3.8/dist-packages (from pytorch_lightning==1.8.0.post1) (1.21.6)\n",
            "Requirement already satisfied: typing-extensions>=4.0.0 in /usr/local/lib/python3.8/dist-packages (from pytorch_lightning==1.8.0.post1) (4.4.0)\n",
            "Collecting lightning-lite==1.8.0.post1\n",
            "  Downloading lightning_lite-1.8.0.post1-py3-none-any.whl (136 kB)\n",
            "\u001b[2K     \u001b[90m━━━━━━━━━━━━━━━━━━━━━━━━━━━━━━━━━━━━━━\u001b[0m \u001b[32m136.4/136.4 KB\u001b[0m \u001b[31m21.8 MB/s\u001b[0m eta \u001b[36m0:00:00\u001b[0m\n",
            "\u001b[?25hRequirement already satisfied: fsspec[http]>2021.06.0 in /usr/local/lib/python3.8/dist-packages (from pytorch_lightning==1.8.0.post1) (2022.5.0)\n",
            "Collecting fire\n",
            "  Downloading fire-0.5.0.tar.gz (88 kB)\n",
            "\u001b[2K     \u001b[90m━━━━━━━━━━━━━━━━━━━━━━━━━━━━━━━━━━━━━━━━\u001b[0m \u001b[32m88.3/88.3 KB\u001b[0m \u001b[31m13.9 MB/s\u001b[0m eta \u001b[36m0:00:00\u001b[0m\n",
            "\u001b[?25h  Preparing metadata (setup.py) ... \u001b[?25l\u001b[?25hdone\n",
            "Requirement already satisfied: requests in /usr/local/lib/python3.8/dist-packages (from fsspec[http]>2021.06.0->pytorch_lightning==1.8.0.post1) (2.25.1)\n",
            "Requirement already satisfied: aiohttp in /usr/local/lib/python3.8/dist-packages (from fsspec[http]>2021.06.0->pytorch_lightning==1.8.0.post1) (3.8.3)\n",
            "Requirement already satisfied: pyparsing!=3.0.5,>=2.0.2 in /usr/local/lib/python3.8/dist-packages (from packaging>=17.0->pytorch_lightning==1.8.0.post1) (3.0.9)\n",
            "Requirement already satisfied: protobuf<3.20,>=3.9.2 in /usr/local/lib/python3.8/dist-packages (from tensorboard>=2.9.1->pytorch_lightning==1.8.0.post1) (3.19.6)\n",
            "Requirement already satisfied: markdown>=2.6.8 in /usr/local/lib/python3.8/dist-packages (from tensorboard>=2.9.1->pytorch_lightning==1.8.0.post1) (3.4.1)\n",
            "Requirement already satisfied: wheel>=0.26 in /usr/local/lib/python3.8/dist-packages (from tensorboard>=2.9.1->pytorch_lightning==1.8.0.post1) (0.38.4)\n",
            "Requirement already satisfied: werkzeug>=1.0.1 in /usr/local/lib/python3.8/dist-packages (from tensorboard>=2.9.1->pytorch_lightning==1.8.0.post1) (1.0.1)\n",
            "Requirement already satisfied: grpcio>=1.24.3 in /usr/local/lib/python3.8/dist-packages (from tensorboard>=2.9.1->pytorch_lightning==1.8.0.post1) (1.51.1)\n",
            "Requirement already satisfied: tensorboard-plugin-wit>=1.6.0 in /usr/local/lib/python3.8/dist-packages (from tensorboard>=2.9.1->pytorch_lightning==1.8.0.post1) (1.8.1)\n",
            "Requirement already satisfied: absl-py>=0.4 in /usr/local/lib/python3.8/dist-packages (from tensorboard>=2.9.1->pytorch_lightning==1.8.0.post1) (1.3.0)\n",
            "Requirement already satisfied: google-auth<3,>=1.6.3 in /usr/local/lib/python3.8/dist-packages (from tensorboard>=2.9.1->pytorch_lightning==1.8.0.post1) (2.16.0)\n",
            "Requirement already satisfied: setuptools>=41.0.0 in /usr/local/lib/python3.8/dist-packages (from tensorboard>=2.9.1->pytorch_lightning==1.8.0.post1) (57.4.0)\n",
            "Requirement already satisfied: tensorboard-data-server<0.7.0,>=0.6.0 in /usr/local/lib/python3.8/dist-packages (from tensorboard>=2.9.1->pytorch_lightning==1.8.0.post1) (0.6.1)\n",
            "Requirement already satisfied: google-auth-oauthlib<0.5,>=0.4.1 in /usr/local/lib/python3.8/dist-packages (from tensorboard>=2.9.1->pytorch_lightning==1.8.0.post1) (0.4.6)\n",
            "Requirement already satisfied: rsa<5,>=3.1.4 in /usr/local/lib/python3.8/dist-packages (from google-auth<3,>=1.6.3->tensorboard>=2.9.1->pytorch_lightning==1.8.0.post1) (4.9)\n",
            "Requirement already satisfied: cachetools<6.0,>=2.0.0 in /usr/local/lib/python3.8/dist-packages (from google-auth<3,>=1.6.3->tensorboard>=2.9.1->pytorch_lightning==1.8.0.post1) (5.2.1)\n",
            "Requirement already satisfied: six>=1.9.0 in /usr/local/lib/python3.8/dist-packages (from google-auth<3,>=1.6.3->tensorboard>=2.9.1->pytorch_lightning==1.8.0.post1) (1.15.0)\n",
            "Requirement already satisfied: pyasn1-modules>=0.2.1 in /usr/local/lib/python3.8/dist-packages (from google-auth<3,>=1.6.3->tensorboard>=2.9.1->pytorch_lightning==1.8.0.post1) (0.2.8)\n",
            "Requirement already satisfied: requests-oauthlib>=0.7.0 in /usr/local/lib/python3.8/dist-packages (from google-auth-oauthlib<0.5,>=0.4.1->tensorboard>=2.9.1->pytorch_lightning==1.8.0.post1) (1.3.1)\n",
            "Requirement already satisfied: importlib-metadata>=4.4 in /usr/local/lib/python3.8/dist-packages (from markdown>=2.6.8->tensorboard>=2.9.1->pytorch_lightning==1.8.0.post1) (6.0.0)\n",
            "Requirement already satisfied: chardet<5,>=3.0.2 in /usr/local/lib/python3.8/dist-packages (from requests->fsspec[http]>2021.06.0->pytorch_lightning==1.8.0.post1) (4.0.0)\n",
            "Requirement already satisfied: certifi>=2017.4.17 in /usr/local/lib/python3.8/dist-packages (from requests->fsspec[http]>2021.06.0->pytorch_lightning==1.8.0.post1) (2022.12.7)\n",
            "Requirement already satisfied: idna<3,>=2.5 in /usr/local/lib/python3.8/dist-packages (from requests->fsspec[http]>2021.06.0->pytorch_lightning==1.8.0.post1) (2.10)\n",
            "Requirement already satisfied: urllib3<1.27,>=1.21.1 in /usr/local/lib/python3.8/dist-packages (from requests->fsspec[http]>2021.06.0->pytorch_lightning==1.8.0.post1) (1.24.3)\n",
            "Requirement already satisfied: async-timeout<5.0,>=4.0.0a3 in /usr/local/lib/python3.8/dist-packages (from aiohttp->fsspec[http]>2021.06.0->pytorch_lightning==1.8.0.post1) (4.0.2)\n",
            "Requirement already satisfied: aiosignal>=1.1.2 in /usr/local/lib/python3.8/dist-packages (from aiohttp->fsspec[http]>2021.06.0->pytorch_lightning==1.8.0.post1) (1.3.1)\n",
            "Requirement already satisfied: multidict<7.0,>=4.5 in /usr/local/lib/python3.8/dist-packages (from aiohttp->fsspec[http]>2021.06.0->pytorch_lightning==1.8.0.post1) (6.0.4)\n",
            "Requirement already satisfied: frozenlist>=1.1.1 in /usr/local/lib/python3.8/dist-packages (from aiohttp->fsspec[http]>2021.06.0->pytorch_lightning==1.8.0.post1) (1.3.3)\n",
            "Requirement already satisfied: charset-normalizer<3.0,>=2.0 in /usr/local/lib/python3.8/dist-packages (from aiohttp->fsspec[http]>2021.06.0->pytorch_lightning==1.8.0.post1) (2.1.1)\n",
            "Requirement already satisfied: yarl<2.0,>=1.0 in /usr/local/lib/python3.8/dist-packages (from aiohttp->fsspec[http]>2021.06.0->pytorch_lightning==1.8.0.post1) (1.8.2)\n",
            "Requirement already satisfied: attrs>=17.3.0 in /usr/local/lib/python3.8/dist-packages (from aiohttp->fsspec[http]>2021.06.0->pytorch_lightning==1.8.0.post1) (22.2.0)\n",
            "Requirement already satisfied: termcolor in /usr/local/lib/python3.8/dist-packages (from fire->lightning-utilities==0.3.*->pytorch_lightning==1.8.0.post1) (2.2.0)\n",
            "Requirement already satisfied: zipp>=0.5 in /usr/local/lib/python3.8/dist-packages (from importlib-metadata>=4.4->markdown>=2.6.8->tensorboard>=2.9.1->pytorch_lightning==1.8.0.post1) (3.11.0)\n",
            "Requirement already satisfied: pyasn1<0.5.0,>=0.4.6 in /usr/local/lib/python3.8/dist-packages (from pyasn1-modules>=0.2.1->google-auth<3,>=1.6.3->tensorboard>=2.9.1->pytorch_lightning==1.8.0.post1) (0.4.8)\n",
            "Requirement already satisfied: oauthlib>=3.0.0 in /usr/local/lib/python3.8/dist-packages (from requests-oauthlib>=0.7.0->google-auth-oauthlib<0.5,>=0.4.1->tensorboard>=2.9.1->pytorch_lightning==1.8.0.post1) (3.2.2)\n",
            "Building wheels for collected packages: fire\n",
            "  Building wheel for fire (setup.py) ... \u001b[?25l\u001b[?25hdone\n",
            "  Created wheel for fire: filename=fire-0.5.0-py2.py3-none-any.whl size=116949 sha256=17837ac0e41f4aef3bfe7557608ef9f582640ba6c4bdb50cada9ba560888337d\n",
            "  Stored in directory: /root/.cache/pip/wheels/5b/eb/43/7295e71293b218ddfd627f935229bf54af9018add7fbb5aac6\n",
            "Successfully built fire\n",
            "Installing collected packages: fire, torchmetrics, lightning-utilities, lightning-lite, pytorch_lightning\n",
            "  Attempting uninstall: torchmetrics\n",
            "    Found existing installation: torchmetrics 0.3.2\n",
            "    Uninstalling torchmetrics-0.3.2:\n",
            "      Successfully uninstalled torchmetrics-0.3.2\n",
            "Successfully installed fire-0.5.0 lightning-lite-1.8.0.post1 lightning-utilities-0.3.0 pytorch_lightning-1.8.0.post1 torchmetrics-0.11.0\n",
            "Looking in indexes: https://pypi.org/simple, https://us-python.pkg.dev/colab-wheels/public/simple/\n",
            "Collecting torchmetrics==0.10.0\n",
            "  Downloading torchmetrics-0.10.0-py3-none-any.whl (529 kB)\n",
            "\u001b[2K     \u001b[90m━━━━━━━━━━━━━━━━━━━━━━━━━━━━━━━━━━━━━━\u001b[0m \u001b[32m529.2/529.2 KB\u001b[0m \u001b[31m10.2 MB/s\u001b[0m eta \u001b[36m0:00:00\u001b[0m\n",
            "\u001b[?25hRequirement already satisfied: torch>=1.3.1 in /usr/local/lib/python3.8/dist-packages (from torchmetrics==0.10.0) (1.13.1+cu116)\n",
            "Requirement already satisfied: packaging in /usr/local/lib/python3.8/dist-packages (from torchmetrics==0.10.0) (21.3)\n",
            "Requirement already satisfied: typing-extensions in /usr/local/lib/python3.8/dist-packages (from torchmetrics==0.10.0) (4.4.0)\n",
            "Requirement already satisfied: numpy>=1.17.2 in /usr/local/lib/python3.8/dist-packages (from torchmetrics==0.10.0) (1.21.6)\n",
            "Requirement already satisfied: pyparsing!=3.0.5,>=2.0.2 in /usr/local/lib/python3.8/dist-packages (from packaging->torchmetrics==0.10.0) (3.0.9)\n",
            "Installing collected packages: torchmetrics\n",
            "  Attempting uninstall: torchmetrics\n",
            "    Found existing installation: torchmetrics 0.11.0\n",
            "    Uninstalling torchmetrics-0.11.0:\n",
            "      Successfully uninstalled torchmetrics-0.11.0\n",
            "Successfully installed torchmetrics-0.10.0\n",
            "Looking in indexes: https://pypi.org/simple, https://us-python.pkg.dev/colab-wheels/public/simple/\n",
            "Collecting neptune-client\n",
            "  Downloading neptune_client-0.16.16-py3-none-any.whl (444 kB)\n",
            "\u001b[2K     \u001b[90m━━━━━━━━━━━━━━━━━━━━━━━━━━━━━━━━━━━━━━━\u001b[0m \u001b[32m444.7/444.7 KB\u001b[0m \u001b[31m8.9 MB/s\u001b[0m eta \u001b[36m0:00:00\u001b[0m\n",
            "\u001b[?25hCollecting websocket-client!=1.0.0,>=0.35.0\n",
            "  Downloading websocket_client-1.5.0-py3-none-any.whl (55 kB)\n",
            "\u001b[2K     \u001b[90m━━━━━━━━━━━━━━━━━━━━━━━━━━━━━━━━━━━━━━━━\u001b[0m \u001b[32m55.9/55.9 KB\u001b[0m \u001b[31m8.9 MB/s\u001b[0m eta \u001b[36m0:00:00\u001b[0m\n",
            "\u001b[?25hRequirement already satisfied: psutil in /usr/local/lib/python3.8/dist-packages (from neptune-client) (5.9.4)\n",
            "Requirement already satisfied: Pillow>=1.1.6 in /usr/local/lib/python3.8/dist-packages (from neptune-client) (7.1.2)\n",
            "Collecting GitPython>=2.0.8\n",
            "  Downloading GitPython-3.1.30-py3-none-any.whl (184 kB)\n",
            "\u001b[2K     \u001b[90m━━━━━━━━━━━━━━━━━━━━━━━━━━━━━━━━━━━━━━\u001b[0m \u001b[32m184.0/184.0 KB\u001b[0m \u001b[31m25.9 MB/s\u001b[0m eta \u001b[36m0:00:00\u001b[0m\n",
            "\u001b[?25hRequirement already satisfied: click>=7.0 in /usr/local/lib/python3.8/dist-packages (from neptune-client) (7.1.2)\n",
            "Collecting boto3>=1.16.0\n",
            "  Downloading boto3-1.26.60-py3-none-any.whl (132 kB)\n",
            "\u001b[2K     \u001b[90m━━━━━━━━━━━━━━━━━━━━━━━━━━━━━━━━━━━━━━\u001b[0m \u001b[32m132.7/132.7 KB\u001b[0m \u001b[31m12.7 MB/s\u001b[0m eta \u001b[36m0:00:00\u001b[0m\n",
            "\u001b[?25hRequirement already satisfied: requests-oauthlib>=1.0.0 in /usr/local/lib/python3.8/dist-packages (from neptune-client) (1.3.1)\n",
            "Requirement already satisfied: six>=1.12.0 in /usr/local/lib/python3.8/dist-packages (from neptune-client) (1.15.0)\n",
            "Requirement already satisfied: urllib3 in /usr/local/lib/python3.8/dist-packages (from neptune-client) (1.24.3)\n",
            "Collecting PyJWT\n",
            "  Downloading PyJWT-2.6.0-py3-none-any.whl (20 kB)\n",
            "Collecting future>=0.17.1\n",
            "  Downloading future-0.18.3.tar.gz (840 kB)\n",
            "\u001b[2K     \u001b[90m━━━━━━━━━━━━━━━━━━━━━━━━━━━━━━━━━━━━━━\u001b[0m \u001b[32m840.9/840.9 KB\u001b[0m \u001b[31m38.7 MB/s\u001b[0m eta \u001b[36m0:00:00\u001b[0m\n",
            "\u001b[?25h  Preparing metadata (setup.py) ... \u001b[?25l\u001b[?25hdone\n",
            "Requirement already satisfied: requests>=2.20.0 in /usr/local/lib/python3.8/dist-packages (from neptune-client) (2.25.1)\n",
            "Requirement already satisfied: pandas in /usr/local/lib/python3.8/dist-packages (from neptune-client) (1.3.5)\n",
            "Collecting bravado<12.0.0,>=11.0.0\n",
            "  Downloading bravado-11.0.3-py2.py3-none-any.whl (38 kB)\n",
            "Collecting swagger-spec-validator>=2.7.4\n",
            "  Downloading swagger_spec_validator-3.0.3-py2.py3-none-any.whl (27 kB)\n",
            "Requirement already satisfied: oauthlib>=2.1.0 in /usr/local/lib/python3.8/dist-packages (from neptune-client) (3.2.2)\n",
            "Requirement already satisfied: packaging in /usr/local/lib/python3.8/dist-packages (from neptune-client) (21.3)\n",
            "Collecting s3transfer<0.7.0,>=0.6.0\n",
            "  Downloading s3transfer-0.6.0-py3-none-any.whl (79 kB)\n",
            "\u001b[2K     \u001b[90m━━━━━━━━━━━━━━━━━━━━━━━━━━━━━━━━━━━━━━━━\u001b[0m \u001b[32m79.6/79.6 KB\u001b[0m \u001b[31m12.7 MB/s\u001b[0m eta \u001b[36m0:00:00\u001b[0m\n",
            "\u001b[?25hCollecting jmespath<2.0.0,>=0.7.1\n",
            "  Downloading jmespath-1.0.1-py3-none-any.whl (20 kB)\n",
            "Collecting botocore<1.30.0,>=1.29.60\n",
            "  Downloading botocore-1.29.60-py3-none-any.whl (10.4 MB)\n",
            "\u001b[2K     \u001b[90m━━━━━━━━━━━━━━━━━━━━━━━━━━━━━━━━━━━━━━━━\u001b[0m \u001b[32m10.4/10.4 MB\u001b[0m \u001b[31m92.1 MB/s\u001b[0m eta \u001b[36m0:00:00\u001b[0m\n",
            "\u001b[?25hCollecting simplejson\n",
            "  Downloading simplejson-3.18.1-cp38-cp38-manylinux_2_5_x86_64.manylinux1_x86_64.manylinux_2_17_x86_64.manylinux2014_x86_64.whl (135 kB)\n",
            "\u001b[2K     \u001b[90m━━━━━━━━━━━━━━━━━━━━━━━━━━━━━━━━━━━━━━\u001b[0m \u001b[32m135.5/135.5 KB\u001b[0m \u001b[31m19.3 MB/s\u001b[0m eta \u001b[36m0:00:00\u001b[0m\n",
            "\u001b[?25hRequirement already satisfied: python-dateutil in /usr/local/lib/python3.8/dist-packages (from bravado<12.0.0,>=11.0.0->neptune-client) (2.8.2)\n",
            "Requirement already satisfied: pyyaml in /usr/local/lib/python3.8/dist-packages (from bravado<12.0.0,>=11.0.0->neptune-client) (6.0)\n",
            "Requirement already satisfied: typing-extensions in /usr/local/lib/python3.8/dist-packages (from bravado<12.0.0,>=11.0.0->neptune-client) (4.4.0)\n",
            "Requirement already satisfied: msgpack in /usr/local/lib/python3.8/dist-packages (from bravado<12.0.0,>=11.0.0->neptune-client) (1.0.4)\n",
            "Collecting bravado-core>=5.16.1\n",
            "  Downloading bravado_core-5.17.1-py2.py3-none-any.whl (67 kB)\n",
            "\u001b[2K     \u001b[90m━━━━━━━━━━━━━━━━━━━━━━━━━━━━━━━━━━━━━━━━\u001b[0m \u001b[32m67.7/67.7 KB\u001b[0m \u001b[31m10.8 MB/s\u001b[0m eta \u001b[36m0:00:00\u001b[0m\n",
            "\u001b[?25hCollecting monotonic\n",
            "  Downloading monotonic-1.6-py2.py3-none-any.whl (8.2 kB)\n",
            "Collecting gitdb<5,>=4.0.1\n",
            "  Downloading gitdb-4.0.10-py3-none-any.whl (62 kB)\n",
            "\u001b[2K     \u001b[90m━━━━━━━━━━━━━━━━━━━━━━━━━━━━━━━━━━━━━━━━\u001b[0m \u001b[32m62.7/62.7 KB\u001b[0m \u001b[31m9.6 MB/s\u001b[0m eta \u001b[36m0:00:00\u001b[0m\n",
            "\u001b[?25hRequirement already satisfied: certifi>=2017.4.17 in /usr/local/lib/python3.8/dist-packages (from requests>=2.20.0->neptune-client) (2022.12.7)\n",
            "Requirement already satisfied: idna<3,>=2.5 in /usr/local/lib/python3.8/dist-packages (from requests>=2.20.0->neptune-client) (2.10)\n",
            "Requirement already satisfied: chardet<5,>=3.0.2 in /usr/local/lib/python3.8/dist-packages (from requests>=2.20.0->neptune-client) (4.0.0)\n",
            "Requirement already satisfied: jsonschema in /usr/local/lib/python3.8/dist-packages (from swagger-spec-validator>=2.7.4->neptune-client) (4.3.3)\n",
            "Requirement already satisfied: pyparsing!=3.0.5,>=2.0.2 in /usr/local/lib/python3.8/dist-packages (from packaging->neptune-client) (3.0.9)\n",
            "Requirement already satisfied: numpy>=1.17.3 in /usr/local/lib/python3.8/dist-packages (from pandas->neptune-client) (1.21.6)\n",
            "Requirement already satisfied: pytz>=2017.3 in /usr/local/lib/python3.8/dist-packages (from pandas->neptune-client) (2022.7)\n",
            "Collecting urllib3\n",
            "  Downloading urllib3-1.26.14-py2.py3-none-any.whl (140 kB)\n",
            "\u001b[2K     \u001b[90m━━━━━━━━━━━━━━━━━━━━━━━━━━━━━━━━━━━━━━\u001b[0m \u001b[32m140.6/140.6 KB\u001b[0m \u001b[31m20.4 MB/s\u001b[0m eta \u001b[36m0:00:00\u001b[0m\n",
            "\u001b[?25hCollecting jsonref\n",
            "  Downloading jsonref-1.1.0-py3-none-any.whl (9.4 kB)\n",
            "Collecting smmap<6,>=3.0.1\n",
            "  Downloading smmap-5.0.0-py3-none-any.whl (24 kB)\n",
            "Requirement already satisfied: importlib-resources>=1.4.0 in /usr/local/lib/python3.8/dist-packages (from jsonschema->swagger-spec-validator>=2.7.4->neptune-client) (5.10.2)\n",
            "Requirement already satisfied: attrs>=17.4.0 in /usr/local/lib/python3.8/dist-packages (from jsonschema->swagger-spec-validator>=2.7.4->neptune-client) (22.2.0)\n",
            "Requirement already satisfied: pyrsistent!=0.17.0,!=0.17.1,!=0.17.2,>=0.14.0 in /usr/local/lib/python3.8/dist-packages (from jsonschema->swagger-spec-validator>=2.7.4->neptune-client) (0.19.3)\n",
            "Requirement already satisfied: zipp>=3.1.0 in /usr/local/lib/python3.8/dist-packages (from importlib-resources>=1.4.0->jsonschema->swagger-spec-validator>=2.7.4->neptune-client) (3.11.0)\n",
            "Collecting rfc3339-validator\n",
            "  Downloading rfc3339_validator-0.1.4-py2.py3-none-any.whl (3.5 kB)\n",
            "Collecting uri-template\n",
            "  Downloading uri_template-1.2.0-py3-none-any.whl (10 kB)\n",
            "Collecting webcolors>=1.11\n",
            "  Downloading webcolors-1.12-py3-none-any.whl (9.9 kB)\n",
            "Collecting fqdn\n",
            "  Downloading fqdn-1.5.1-py3-none-any.whl (9.1 kB)\n",
            "Collecting isoduration\n",
            "  Downloading isoduration-20.11.0-py3-none-any.whl (11 kB)\n",
            "Collecting rfc3987\n",
            "  Downloading rfc3987-1.3.8-py2.py3-none-any.whl (13 kB)\n",
            "Collecting jsonpointer>1.13\n",
            "  Downloading jsonpointer-2.3-py2.py3-none-any.whl (7.8 kB)\n",
            "Collecting arrow>=0.15.0\n",
            "  Downloading arrow-1.2.3-py3-none-any.whl (66 kB)\n",
            "\u001b[2K     \u001b[90m━━━━━━━━━━━━━━━━━━━━━━━━━━━━━━━━━━━━━━━━\u001b[0m \u001b[32m66.4/66.4 KB\u001b[0m \u001b[31m11.4 MB/s\u001b[0m eta \u001b[36m0:00:00\u001b[0m\n",
            "\u001b[?25hBuilding wheels for collected packages: future\n",
            "  Building wheel for future (setup.py) ... \u001b[?25l\u001b[?25hdone\n",
            "  Created wheel for future: filename=future-0.18.3-py3-none-any.whl size=492036 sha256=709b872561074434feb07752c7836351a8fffd9061415829622858d506c3429b\n",
            "  Stored in directory: /root/.cache/pip/wheels/a0/0b/ee/e6994fadb42c1354dcccb139b0bf2795271bddfe6253ccdf11\n",
            "Successfully built future\n",
            "Installing collected packages: rfc3987, monotonic, websocket-client, webcolors, urllib3, uri-template, smmap, simplejson, rfc3339-validator, PyJWT, jsonref, jsonpointer, jmespath, future, fqdn, gitdb, botocore, arrow, swagger-spec-validator, s3transfer, isoduration, GitPython, boto3, bravado-core, bravado, neptune-client\n",
            "  Attempting uninstall: urllib3\n",
            "    Found existing installation: urllib3 1.24.3\n",
            "    Uninstalling urllib3-1.24.3:\n",
            "      Successfully uninstalled urllib3-1.24.3\n",
            "  Attempting uninstall: future\n",
            "    Found existing installation: future 0.16.0\n",
            "    Uninstalling future-0.16.0:\n",
            "      Successfully uninstalled future-0.16.0\n",
            "\u001b[31mERROR: pip's dependency resolver does not currently take into account all the packages that are installed. This behaviour is the source of the following dependency conflicts.\n",
            "gcsfs 2023.1.0 requires fsspec==2023.1.0, but you have fsspec 2022.5.0 which is incompatible.\u001b[0m\u001b[31m\n",
            "\u001b[0mSuccessfully installed GitPython-3.1.30 PyJWT-2.6.0 arrow-1.2.3 boto3-1.26.60 botocore-1.29.60 bravado-11.0.3 bravado-core-5.17.1 fqdn-1.5.1 future-0.18.3 gitdb-4.0.10 isoduration-20.11.0 jmespath-1.0.1 jsonpointer-2.3 jsonref-1.1.0 monotonic-1.6 neptune-client-0.16.16 rfc3339-validator-0.1.4 rfc3987-1.3.8 s3transfer-0.6.0 simplejson-3.18.1 smmap-5.0.0 swagger-spec-validator-3.0.3 uri-template-1.2.0 urllib3-1.26.14 webcolors-1.12 websocket-client-1.5.0\n"
          ]
        }
      ]
    },
    {
      "cell_type": "markdown",
      "source": [
        "# Import Transformers4Rec"
      ],
      "metadata": {
        "id": "5NjgdSLZYuKH"
      }
    },
    {
      "cell_type": "code",
      "source": [
        "import glob\n",
        "import os\n",
        "import warnings\n",
        "\n",
        "import torch\n",
        "\n",
        "warnings.simplefilter(action=\"ignore\", category=FutureWarning)\n",
        "warnings.simplefilter(action=\"ignore\", category=UserWarning)\n",
        "\n",
        "from merlin_standard_lib import Schema, Tag\n",
        "from transformers4rec import torch as tr\n",
        "from transformers4rec.torch import Trainer\n",
        "from transformers4rec.torch.ranking_metric import RecallAt\n",
        "from transformers4rec.config.trainer import T4RecTrainingArguments"
      ],
      "metadata": {
        "execution": {
          "iopub.status.busy": "2023-01-24T03:57:37.109864Z",
          "iopub.execute_input": "2023-01-24T03:57:37.110288Z",
          "iopub.status.idle": "2023-01-24T03:57:41.381144Z",
          "shell.execute_reply.started": "2023-01-24T03:57:37.110204Z",
          "shell.execute_reply": "2023-01-24T03:57:41.380094Z"
        },
        "trusted": true,
        "id": "qg-jholNG0y8"
      },
      "execution_count": null,
      "outputs": []
    },
    {
      "cell_type": "markdown",
      "source": [
        "# Variables Setting"
      ],
      "metadata": {
        "id": "p8mHFhsaYMFH"
      }
    },
    {
      "cell_type": "code",
      "source": [
        "DEBUG = False\n",
        "RESUME = False\n",
        "OUTPUT_PATH = \"orders\""
      ],
      "metadata": {
        "execution": {
          "iopub.status.busy": "2023-01-24T03:57:41.694339Z",
          "iopub.execute_input": "2023-01-24T03:57:41.695414Z",
          "iopub.status.idle": "2023-01-24T03:57:41.700517Z",
          "shell.execute_reply.started": "2023-01-24T03:57:41.695376Z",
          "shell.execute_reply": "2023-01-24T03:57:41.699249Z"
        },
        "trusted": true,
        "id": "TVmUKCRoG0zA"
      },
      "execution_count": null,
      "outputs": []
    },
    {
      "cell_type": "code",
      "source": [
        "MAX_SEQUENCE_LENGTH = 500\n",
        "D_MODEL = 512\n",
        "\n",
        "EPOCH = 4\n",
        "\n",
        "if DEBUG:\n",
        "    MAX_STEPS = 2000\n",
        "else:\n",
        "    MAX_STEPS = -1"
      ],
      "metadata": {
        "execution": {
          "iopub.status.busy": "2023-01-24T03:57:41.703512Z",
          "iopub.execute_input": "2023-01-24T03:57:41.703995Z",
          "iopub.status.idle": "2023-01-24T03:57:41.710569Z",
          "shell.execute_reply.started": "2023-01-24T03:57:41.703959Z",
          "shell.execute_reply": "2023-01-24T03:57:41.709698Z"
        },
        "trusted": true,
        "id": "-9-GwgCSG0zA"
      },
      "execution_count": null,
      "outputs": []
    },
    {
      "cell_type": "code",
      "source": [
        "if DEBUG:\n",
        "    train_path = [\n",
        "        \"./dataset/train/part_0.parquet\",\n",
        "        \"./dataset/train/part_1.parquet\",\n",
        "        \"./dataset/train/part_2.parquet\",\n",
        "        \"./dataset/train/part_3.parquet\",\n",
        "    ]\n",
        "    valid_path = \"./dataset/valid/part_0.parquet\"\n",
        "    test_path = \"./dataset/test/part_0.parquet\"\n",
        "else:\n",
        "    train_path = sorted(glob.glob(\"./dataset/train/part_*.parquet\"))\n",
        "    valid_path = sorted(glob.glob(\"./dataset/valid/part_*.parquet\"))\n",
        "    test_path = sorted(glob.glob(\"./dataset/test/part_*.parquet\"))\n",
        "    \n",
        "output_path = os.path.join(\"mount_checkpoint\", OUTPUT_PATH)"
      ],
      "metadata": {
        "execution": {
          "iopub.status.busy": "2023-01-24T03:57:41.712013Z",
          "iopub.execute_input": "2023-01-24T03:57:41.712525Z",
          "iopub.status.idle": "2023-01-24T03:57:41.725817Z",
          "shell.execute_reply.started": "2023-01-24T03:57:41.712490Z",
          "shell.execute_reply": "2023-01-24T03:57:41.724887Z"
        },
        "trusted": true,
        "id": "gskSc7srG0zB"
      },
      "execution_count": null,
      "outputs": []
    },
    {
      "cell_type": "markdown",
      "source": [
        "# Create schema proto manually"
      ],
      "metadata": {
        "id": "uWlUoWh2G0zC"
      }
    },
    {
      "cell_type": "code",
      "source": [
        "%%writefile schema.pb\n",
        "feature {\n",
        "  name: \"aid-list\"\n",
        "  value_count {\n",
        "    min: 1\n",
        "    max: 500\n",
        "  }\n",
        "  type: INT\n",
        "  int_domain {\n",
        "    name: \"aid-list\"\n",
        "    min: 1\n",
        "    max: 657941\n",
        "    is_categorical: true\n",
        "  }\n",
        "  annotation {\n",
        "    tag: \"item\"\n",
        "    tag: \"categorical\"\n",
        "    tag: \"list\"\n",
        "    tag: \"item_id\"\n",
        "  }\n",
        "}"
      ],
      "metadata": {
        "colab": {
          "base_uri": "https://localhost:8080/"
        },
        "id": "qyPLDrzQ4xQd",
        "outputId": "e0cd09e0-f5aa-4d26-9ec9-c7f745e7eb72"
      },
      "execution_count": null,
      "outputs": [
        {
          "output_type": "stream",
          "name": "stdout",
          "text": [
            "Overwriting schema.pb\n"
          ]
        }
      ]
    },
    {
      "cell_type": "code",
      "source": [
        "schema = Schema().from_proto_text(\"schema.pb\")"
      ],
      "metadata": {
        "execution": {
          "iopub.status.busy": "2023-01-24T03:57:41.739211Z",
          "iopub.execute_input": "2023-01-24T03:57:41.740126Z",
          "iopub.status.idle": "2023-01-24T03:57:41.765226Z",
          "shell.execute_reply.started": "2023-01-24T03:57:41.740091Z",
          "shell.execute_reply": "2023-01-24T03:57:41.764349Z"
        },
        "trusted": true,
        "id": "5eRkFJoFG0zD"
      },
      "execution_count": null,
      "outputs": []
    },
    {
      "cell_type": "markdown",
      "source": [
        "# Build model blocks"
      ],
      "metadata": {
        "id": "7j9Vj3wxYeHA"
      }
    },
    {
      "cell_type": "code",
      "source": [
        "inputs = tr.TabularSequenceFeatures.from_schema(\n",
        "    schema,\n",
        "    embedding_dims={\"aid-list\": D_MODEL},\n",
        "    max_sequence_length=MAX_SEQUENCE_LENGTH,\n",
        "    d_output=D_MODEL,\n",
        "    masking=\"mlm\",\n",
        ")"
      ],
      "metadata": {
        "execution": {
          "iopub.status.busy": "2023-01-24T03:57:41.766562Z",
          "iopub.execute_input": "2023-01-24T03:57:41.766903Z",
          "iopub.status.idle": "2023-01-24T03:57:41.853951Z",
          "shell.execute_reply.started": "2023-01-24T03:57:41.766870Z",
          "shell.execute_reply": "2023-01-24T03:57:41.852880Z"
        },
        "trusted": true,
        "id": "NKy8EDnRG0zE"
      },
      "execution_count": null,
      "outputs": []
    },
    {
      "cell_type": "code",
      "source": [
        "inputs"
      ],
      "metadata": {
        "execution": {
          "iopub.status.busy": "2023-01-24T03:57:41.907138Z",
          "iopub.execute_input": "2023-01-24T03:57:41.908784Z",
          "iopub.status.idle": "2023-01-24T03:57:41.919378Z",
          "shell.execute_reply.started": "2023-01-24T03:57:41.908737Z",
          "shell.execute_reply": "2023-01-24T03:57:41.918349Z"
        },
        "trusted": true,
        "colab": {
          "base_uri": "https://localhost:8080/"
        },
        "id": "8NiNT9LfG0zE",
        "outputId": "9c0f3e0c-76ba-4c31-dd53-b6a4308aa18d"
      },
      "execution_count": null,
      "outputs": [
        {
          "output_type": "execute_result",
          "data": {
            "text/plain": [
              "TabularSequenceFeatures(\n",
              "  (to_merge): ModuleDict(\n",
              "    (categorical_module): SequenceEmbeddingFeatures(\n",
              "      (filter_features): FilterFeatures()\n",
              "      (embedding_tables): ModuleDict(\n",
              "        (aid-list): Embedding(657942, 512, padding_idx=0)\n",
              "      )\n",
              "    )\n",
              "  )\n",
              "  (_aggregation): ConcatFeatures()\n",
              "  (projection_module): SequentialBlock(\n",
              "    (0): DenseBlock(\n",
              "      (0): Linear(in_features=512, out_features=512, bias=True)\n",
              "      (1): ReLU(inplace=True)\n",
              "    )\n",
              "  )\n",
              "  (_masking): MaskedLanguageModeling()\n",
              ")"
            ]
          },
          "metadata": {},
          "execution_count": 16
        }
      ]
    },
    {
      "cell_type": "code",
      "source": [
        "# Define XLNetConfig class and set default parameters for HF XLNet config  \n",
        "transformer_config = tr.XLNetConfig.build(\n",
        "    d_model=D_MODEL, n_head=4, n_layer=2, total_seq_length=MAX_SEQUENCE_LENGTH\n",
        ")\n",
        "\n",
        "# Define the model block including: inputs, masking, projection and transformer block.\n",
        "body = tr.SequentialBlock(\n",
        "    inputs,\n",
        "    tr.MLPBlock([D_MODEL]),\n",
        "    tr.TransformerBlock(transformer_config, masking=inputs.masking)\n",
        ")"
      ],
      "metadata": {
        "execution": {
          "iopub.status.busy": "2023-01-24T03:57:42.138726Z",
          "iopub.execute_input": "2023-01-24T03:57:42.139110Z",
          "iopub.status.idle": "2023-01-24T03:57:42.159490Z",
          "shell.execute_reply.started": "2023-01-24T03:57:42.139079Z",
          "shell.execute_reply": "2023-01-24T03:57:42.158378Z"
        },
        "trusted": true,
        "id": "CpJjGqrHG0zE"
      },
      "execution_count": null,
      "outputs": []
    },
    {
      "cell_type": "code",
      "source": [
        "# Defines the evaluation top-N metrics and the cut-offs\n",
        "metrics = [\n",
        "    RecallAt(top_ks=[10, 20], labels_onehot=True)\n",
        "]\n",
        "\n",
        "# Define a head related to next item prediction task \n",
        "# Important: transformerc4rec v0.1.15\n",
        "# NextItemPredictionTask should have parameter [hf_format=True]\n",
        "head = tr.Head(\n",
        "    body,\n",
        "    tr.NextItemPredictionTask(weight_tying=True, hf_format=True, metrics=metrics),\n",
        "    inputs=inputs,\n",
        ")\n",
        "\n",
        "# Get the end-to-end Model class \n",
        "model = tr.Model(head)"
      ],
      "metadata": {
        "execution": {
          "iopub.status.busy": "2023-01-24T03:57:42.365145Z",
          "iopub.execute_input": "2023-01-24T03:57:42.365742Z",
          "iopub.status.idle": "2023-01-24T03:57:42.374766Z",
          "shell.execute_reply.started": "2023-01-24T03:57:42.365705Z",
          "shell.execute_reply": "2023-01-24T03:57:42.373539Z"
        },
        "trusted": true,
        "id": "iOnTHd4dG0zF"
      },
      "execution_count": null,
      "outputs": []
    },
    {
      "cell_type": "markdown",
      "source": [
        "# Install extra module to resolve [ImportError Trainer]"
      ],
      "metadata": {
        "id": "lFVN2-j7Y2O0"
      }
    },
    {
      "cell_type": "code",
      "source": [
        "# ImportError Trainer\n",
        "# cannot import name 'PROTOCOL_TLS' from 'urllib3.util.ssl_' (/usr/local/lib/python3.8/dist-packages/urllib3/util/ssl_.py)\n",
        "# https://github.com/googlecolab/colabtools/issues/2499\n",
        "!pip install --upgrade sagemaker"
      ],
      "metadata": {
        "colab": {
          "base_uri": "https://localhost:8080/"
        },
        "id": "3ffHPKYqh6hK",
        "outputId": "97df2f9e-bedb-46e4-d7cd-24eccfb2b7a8"
      },
      "execution_count": null,
      "outputs": [
        {
          "output_type": "stream",
          "name": "stdout",
          "text": [
            "Looking in indexes: https://pypi.org/simple, https://us-python.pkg.dev/colab-wheels/public/simple/\n",
            "Requirement already satisfied: sagemaker in /usr/local/lib/python3.8/dist-packages (2.131.0)\n",
            "Requirement already satisfied: smdebug-rulesconfig==1.0.1 in /usr/local/lib/python3.8/dist-packages (from sagemaker) (1.0.1)\n",
            "Requirement already satisfied: importlib-metadata<5.0,>=1.4.0 in /usr/local/lib/python3.8/dist-packages (from sagemaker) (4.13.0)\n",
            "Requirement already satisfied: schema in /usr/local/lib/python3.8/dist-packages (from sagemaker) (0.7.5)\n",
            "Requirement already satisfied: pandas in /usr/local/lib/python3.8/dist-packages (from sagemaker) (1.3.5)\n",
            "Requirement already satisfied: protobuf<4.0,>=3.1 in /usr/local/lib/python3.8/dist-packages (from sagemaker) (3.19.6)\n",
            "Requirement already satisfied: pathos in /usr/local/lib/python3.8/dist-packages (from sagemaker) (0.3.0)\n",
            "Requirement already satisfied: numpy<2.0,>=1.9.0 in /usr/local/lib/python3.8/dist-packages (from sagemaker) (1.21.6)\n",
            "Requirement already satisfied: protobuf3-to-dict<1.0,>=0.1.5 in /usr/local/lib/python3.8/dist-packages (from sagemaker) (0.1.5)\n",
            "Requirement already satisfied: google-pasta in /usr/local/lib/python3.8/dist-packages (from sagemaker) (0.2.0)\n",
            "Requirement already satisfied: attrs<23,>=20.3.0 in /usr/local/lib/python3.8/dist-packages (from sagemaker) (22.2.0)\n",
            "Requirement already satisfied: boto3<2.0,>=1.26.28 in /usr/local/lib/python3.8/dist-packages (from sagemaker) (1.26.60)\n",
            "Requirement already satisfied: packaging>=20.0 in /usr/local/lib/python3.8/dist-packages (from sagemaker) (21.3)\n",
            "Requirement already satisfied: jmespath<2.0.0,>=0.7.1 in /usr/local/lib/python3.8/dist-packages (from boto3<2.0,>=1.26.28->sagemaker) (1.0.1)\n",
            "Requirement already satisfied: botocore<1.30.0,>=1.29.60 in /usr/local/lib/python3.8/dist-packages (from boto3<2.0,>=1.26.28->sagemaker) (1.29.60)\n",
            "Requirement already satisfied: s3transfer<0.7.0,>=0.6.0 in /usr/local/lib/python3.8/dist-packages (from boto3<2.0,>=1.26.28->sagemaker) (0.6.0)\n",
            "Requirement already satisfied: zipp>=0.5 in /usr/local/lib/python3.8/dist-packages (from importlib-metadata<5.0,>=1.4.0->sagemaker) (3.11.0)\n",
            "Requirement already satisfied: pyparsing!=3.0.5,>=2.0.2 in /usr/local/lib/python3.8/dist-packages (from packaging>=20.0->sagemaker) (3.0.9)\n",
            "Requirement already satisfied: six in /usr/local/lib/python3.8/dist-packages (from protobuf3-to-dict<1.0,>=0.1.5->sagemaker) (1.15.0)\n",
            "Requirement already satisfied: pytz>=2017.3 in /usr/local/lib/python3.8/dist-packages (from pandas->sagemaker) (2022.7)\n",
            "Requirement already satisfied: python-dateutil>=2.7.3 in /usr/local/lib/python3.8/dist-packages (from pandas->sagemaker) (2.8.2)\n",
            "Requirement already satisfied: dill>=0.3.6 in /usr/local/lib/python3.8/dist-packages (from pathos->sagemaker) (0.3.6)\n",
            "Requirement already satisfied: ppft>=1.7.6.6 in /usr/local/lib/python3.8/dist-packages (from pathos->sagemaker) (1.7.6.6)\n",
            "Requirement already satisfied: pox>=0.3.2 in /usr/local/lib/python3.8/dist-packages (from pathos->sagemaker) (0.3.2)\n",
            "Requirement already satisfied: multiprocess>=0.70.14 in /usr/local/lib/python3.8/dist-packages (from pathos->sagemaker) (0.70.14)\n",
            "Requirement already satisfied: contextlib2>=0.5.5 in /usr/local/lib/python3.8/dist-packages (from schema->sagemaker) (0.5.5)\n",
            "Requirement already satisfied: urllib3<1.27,>=1.25.4 in /usr/local/lib/python3.8/dist-packages (from botocore<1.30.0,>=1.29.60->boto3<2.0,>=1.26.28->sagemaker) (1.26.14)\n"
          ]
        }
      ]
    },
    {
      "cell_type": "markdown",
      "source": [
        "# Configure T4RecTrainingArguments and Trainer"
      ],
      "metadata": {
        "id": "jn_BGLvOYi-h"
      }
    },
    {
      "cell_type": "code",
      "source": [
        "# Set hyperparameters for training \n",
        "train_args = T4RecTrainingArguments(\n",
        "    data_loader_engine='pyarrow', \n",
        "    dataloader_drop_last=True,\n",
        "    gradient_accumulation_steps=1,\n",
        "    per_device_train_batch_size=192, # 128\n",
        "    per_device_eval_batch_size=192, # 128\n",
        "    evaluation_strategy=\"epoch\",\n",
        "    output_dir=output_path, \n",
        "    learning_rate=0.00075, # 0.0005\n",
        "    # lr_scheduler_type='cosine', \n",
        "    # learning_rate_num_cosine_cycles_by_epoch=0.5 / EPOCH,\n",
        "    num_train_epochs=EPOCH,\n",
        "    max_sequence_length=MAX_SEQUENCE_LENGTH, \n",
        "    report_to=\"neptune\",\n",
        "    logging_steps=1000, # 500\n",
        "    save_steps=10000,\n",
        "    save_total_limit=10,\n",
        "    no_cuda=False,\n",
        "    fp16=True,\n",
        "    dataloader_num_workers=24, # 4\n",
        "    max_steps=MAX_STEPS,\n",
        ")"
      ],
      "metadata": {
        "execution": {
          "iopub.status.busy": "2023-01-24T03:57:43.030148Z",
          "iopub.execute_input": "2023-01-24T03:57:43.031409Z",
          "iopub.status.idle": "2023-01-24T03:57:43.040015Z",
          "shell.execute_reply.started": "2023-01-24T03:57:43.031361Z",
          "shell.execute_reply": "2023-01-24T03:57:43.038957Z"
        },
        "trusted": true,
        "id": "MavrluCsG0zF",
        "colab": {
          "base_uri": "https://localhost:8080/"
        },
        "outputId": "881ad485-989f-4623-bfba-ac316c66ccf7"
      },
      "execution_count": null,
      "outputs": [
        {
          "output_type": "stream",
          "name": "stderr",
          "text": [
            "PyTorch: setting up devices\n"
          ]
        }
      ]
    },
    {
      "cell_type": "code",
      "source": [
        "trainer = Trainer(\n",
        "    model=model,\n",
        "    args=train_args,\n",
        "    schema=schema,\n",
        "    compute_metrics=True,\n",
        ")"
      ],
      "metadata": {
        "execution": {
          "iopub.status.busy": "2023-01-24T03:57:43.845965Z",
          "iopub.execute_input": "2023-01-24T03:57:43.846359Z",
          "iopub.status.idle": "2023-01-24T03:57:46.818834Z",
          "shell.execute_reply.started": "2023-01-24T03:57:43.846328Z",
          "shell.execute_reply": "2023-01-24T03:57:46.817740Z"
        },
        "trusted": true,
        "colab": {
          "base_uri": "https://localhost:8080/"
        },
        "id": "IzLK9VhVG0zF",
        "outputId": "96308f38-b9d0-4125-d088-94d70c3aaa27"
      },
      "execution_count": null,
      "outputs": [
        {
          "output_type": "stream",
          "name": "stderr",
          "text": [
            "Using amp half precision backend\n"
          ]
        }
      ]
    },
    {
      "cell_type": "code",
      "source": [
        "trainer.train_dataset_or_path = train_path\n",
        "trainer.eval_dataset_or_path = valid_path"
      ],
      "metadata": {
        "execution": {
          "iopub.status.busy": "2023-01-24T03:57:46.821100Z",
          "iopub.execute_input": "2023-01-24T03:57:46.821599Z",
          "iopub.status.idle": "2023-01-24T03:57:46.826560Z",
          "shell.execute_reply.started": "2023-01-24T03:57:46.821550Z",
          "shell.execute_reply": "2023-01-24T03:57:46.825344Z"
        },
        "trusted": true,
        "id": "SiIR3Z_sG0zF"
      },
      "execution_count": null,
      "outputs": []
    },
    {
      "cell_type": "markdown",
      "source": [
        "# Run Train"
      ],
      "metadata": {
        "id": "lc4FcZbqZGTz"
      }
    },
    {
      "cell_type": "code",
      "source": [
        "trainer.train(resume_from_checkpoint = RESUME)"
      ],
      "metadata": {
        "execution": {
          "iopub.status.busy": "2023-01-24T03:57:46.828210Z",
          "iopub.execute_input": "2023-01-24T03:57:46.828924Z"
        },
        "trusted": true,
        "id": "cqpMEAiWG0zG",
        "colab": {
          "base_uri": "https://localhost:8080/",
          "height": 896
        },
        "outputId": "b046aaba-e9fa-403c-c74a-58389d3cca54"
      },
      "execution_count": null,
      "outputs": [
        {
          "output_type": "stream",
          "name": "stderr",
          "text": [
            "***** Running training *****\n",
            "  Num examples = 10584384\n",
            "  Num Epochs = 4\n",
            "  Instantaneous batch size per device = 192\n",
            "  Total train batch size (w. parallel, distributed & accumulation) = 192\n",
            "  Gradient Accumulation steps = 1\n",
            "  Total optimization steps = 220508\n",
            "/usr/local/lib/python3.8/dist-packages/transformers/integrations.py:882: NeptuneDeprecationWarning: `init` is deprecated, use `init_run` instead. We'll end support of it in `neptune-client==1.0.0`. For details, see https://docs.neptune.ai/setup/neptune-client_1-0_release_changes\n",
            "  self._neptune_run = self._neptune.init(\n",
            "/usr/local/lib/python3.8/dist-packages/transformers/integrations.py:882: NeptuneDeprecationWarning: Parameter `run` is deprecated, use `with_id` instead. We'll end support of it in `neptune-client==1.0.0`.\n",
            "  self._neptune_run = self._neptune.init(\n"
          ]
        },
        {
          "output_type": "stream",
          "name": "stdout",
          "text": [
            "https://app.neptune.ai/sunghyun.jun/otto-recsys/e/OT-79\n",
            "Remember to stop your run once you’ve finished logging your metadata (https://docs.neptune.ai/api/run#stop). It will be stopped automatically only when the notebook kernel/interactive console is terminated.\n"
          ]
        },
        {
          "output_type": "stream",
          "name": "stderr",
          "text": [
            "/usr/local/lib/python3.8/dist-packages/transformers/integrations.py:893: NeptuneDeprecationWarning: The object you're logging will be implicitly cast to a string. We'll end support of this behavior in `neptune-client==1.0.0`. To log the object as a string, use `str(object)` or `repr(object)` instead. For details, see https://docs.neptune.ai/setup/neptune-client_1-0_release_changes\n",
            "  self._neptune_run[\"parameters\"] = combined_dict\n"
          ]
        },
        {
          "output_type": "display_data",
          "data": {
            "text/plain": [
              "<IPython.core.display.HTML object>"
            ],
            "text/html": [
              "\n",
              "    <div>\n",
              "      \n",
              "      <progress value='55247' max='220508' style='width:300px; height:20px; vertical-align: middle;'></progress>\n",
              "      [ 55247/220508 6:07:52 < 18:20:29, 2.50 it/s, Epoch 1.00/4]\n",
              "    </div>\n",
              "    <table border=\"1\" class=\"dataframe\">\n",
              "  <thead>\n",
              " <tr style=\"text-align: left;\">\n",
              "      <th>Epoch</th>\n",
              "      <th>Training Loss</th>\n",
              "      <th>Validation Loss</th>\n",
              "      <th>/next-item/recall At 10</th>\n",
              "      <th>/next-item/recall At 20</th>\n",
              "      <th>/loss</th>\n",
              "    </tr>\n",
              "  </thead>\n",
              "  <tbody>\n",
              "    <tr>\n",
              "      <td>1</td>\n",
              "      <td>7.059400</td>\n",
              "      <td>No log</td>\n",
              "      <td>0.338892</td>\n",
              "      <td>0.372432</td>\n",
              "      <td>8.049314</td>\n",
              "    </tr>\n",
              "  </tbody>\n",
              "</table><p>"
            ]
          },
          "metadata": {}
        },
        {
          "output_type": "stream",
          "name": "stderr",
          "text": [
            "Saving model checkpoint to mount_checkpoint/orders/checkpoint-10000\n",
            "Trainer.model is not a `PreTrainedModel`, only saving its state dict.\n",
            "Saving model checkpoint to mount_checkpoint/orders/checkpoint-20000\n",
            "Trainer.model is not a `PreTrainedModel`, only saving its state dict.\n",
            "Saving model checkpoint to mount_checkpoint/orders/checkpoint-30000\n",
            "Trainer.model is not a `PreTrainedModel`, only saving its state dict.\n",
            "Saving model checkpoint to mount_checkpoint/orders/checkpoint-40000\n",
            "Trainer.model is not a `PreTrainedModel`, only saving its state dict.\n",
            "Saving model checkpoint to mount_checkpoint/orders/checkpoint-50000\n",
            "Trainer.model is not a `PreTrainedModel`, only saving its state dict.\n"
          ]
        },
        {
          "output_type": "error",
          "ename": "KeyboardInterrupt",
          "evalue": "ignored",
          "traceback": [
            "\u001b[0;31m---------------------------------------------------------------------------\u001b[0m",
            "\u001b[0;31mKeyboardInterrupt\u001b[0m                         Traceback (most recent call last)",
            "\u001b[0;32m<ipython-input-25-d6450002c069>\u001b[0m in \u001b[0;36m<module>\u001b[0;34m\u001b[0m\n\u001b[0;32m----> 1\u001b[0;31m \u001b[0mtrainer\u001b[0m\u001b[0;34m.\u001b[0m\u001b[0mtrain\u001b[0m\u001b[0;34m(\u001b[0m\u001b[0mresume_from_checkpoint\u001b[0m \u001b[0;34m=\u001b[0m \u001b[0mRESUME\u001b[0m\u001b[0;34m)\u001b[0m\u001b[0;34m\u001b[0m\u001b[0;34m\u001b[0m\u001b[0m\n\u001b[0m",
            "\u001b[0;32m/usr/local/lib/python3.8/dist-packages/transformers/trainer.py\u001b[0m in \u001b[0;36mtrain\u001b[0;34m(self, resume_from_checkpoint, trial, ignore_keys_for_eval, **kwargs)\u001b[0m\n\u001b[1;32m   1420\u001b[0m                         \u001b[0mtr_loss_step\u001b[0m \u001b[0;34m=\u001b[0m \u001b[0mself\u001b[0m\u001b[0;34m.\u001b[0m\u001b[0mtraining_step\u001b[0m\u001b[0;34m(\u001b[0m\u001b[0mmodel\u001b[0m\u001b[0;34m,\u001b[0m \u001b[0minputs\u001b[0m\u001b[0;34m)\u001b[0m\u001b[0;34m\u001b[0m\u001b[0;34m\u001b[0m\u001b[0m\n\u001b[1;32m   1421\u001b[0m                 \u001b[0;32melse\u001b[0m\u001b[0;34m:\u001b[0m\u001b[0;34m\u001b[0m\u001b[0;34m\u001b[0m\u001b[0m\n\u001b[0;32m-> 1422\u001b[0;31m                     \u001b[0mtr_loss_step\u001b[0m \u001b[0;34m=\u001b[0m \u001b[0mself\u001b[0m\u001b[0;34m.\u001b[0m\u001b[0mtraining_step\u001b[0m\u001b[0;34m(\u001b[0m\u001b[0mmodel\u001b[0m\u001b[0;34m,\u001b[0m \u001b[0minputs\u001b[0m\u001b[0;34m)\u001b[0m\u001b[0;34m\u001b[0m\u001b[0;34m\u001b[0m\u001b[0m\n\u001b[0m\u001b[1;32m   1423\u001b[0m \u001b[0;34m\u001b[0m\u001b[0m\n\u001b[1;32m   1424\u001b[0m                 if (\n",
            "\u001b[0;32m/usr/local/lib/python3.8/dist-packages/transformers/trainer.py\u001b[0m in \u001b[0;36mtraining_step\u001b[0;34m(self, model, inputs)\u001b[0m\n\u001b[1;32m   2019\u001b[0m \u001b[0;34m\u001b[0m\u001b[0m\n\u001b[1;32m   2020\u001b[0m         \u001b[0;32mif\u001b[0m \u001b[0mself\u001b[0m\u001b[0;34m.\u001b[0m\u001b[0mdo_grad_scaling\u001b[0m\u001b[0;34m:\u001b[0m\u001b[0;34m\u001b[0m\u001b[0;34m\u001b[0m\u001b[0m\n\u001b[0;32m-> 2021\u001b[0;31m             \u001b[0mself\u001b[0m\u001b[0;34m.\u001b[0m\u001b[0mscaler\u001b[0m\u001b[0;34m.\u001b[0m\u001b[0mscale\u001b[0m\u001b[0;34m(\u001b[0m\u001b[0mloss\u001b[0m\u001b[0;34m)\u001b[0m\u001b[0;34m.\u001b[0m\u001b[0mbackward\u001b[0m\u001b[0;34m(\u001b[0m\u001b[0;34m)\u001b[0m\u001b[0;34m\u001b[0m\u001b[0;34m\u001b[0m\u001b[0m\n\u001b[0m\u001b[1;32m   2022\u001b[0m         \u001b[0;32melif\u001b[0m \u001b[0mself\u001b[0m\u001b[0;34m.\u001b[0m\u001b[0muse_apex\u001b[0m\u001b[0;34m:\u001b[0m\u001b[0;34m\u001b[0m\u001b[0;34m\u001b[0m\u001b[0m\n\u001b[1;32m   2023\u001b[0m             \u001b[0;32mwith\u001b[0m \u001b[0mamp\u001b[0m\u001b[0;34m.\u001b[0m\u001b[0mscale_loss\u001b[0m\u001b[0;34m(\u001b[0m\u001b[0mloss\u001b[0m\u001b[0;34m,\u001b[0m \u001b[0mself\u001b[0m\u001b[0;34m.\u001b[0m\u001b[0moptimizer\u001b[0m\u001b[0;34m)\u001b[0m \u001b[0;32mas\u001b[0m \u001b[0mscaled_loss\u001b[0m\u001b[0;34m:\u001b[0m\u001b[0;34m\u001b[0m\u001b[0;34m\u001b[0m\u001b[0m\n",
            "\u001b[0;32m/usr/local/lib/python3.8/dist-packages/torch/_tensor.py\u001b[0m in \u001b[0;36mbackward\u001b[0;34m(self, gradient, retain_graph, create_graph, inputs)\u001b[0m\n\u001b[1;32m    486\u001b[0m                 \u001b[0minputs\u001b[0m\u001b[0;34m=\u001b[0m\u001b[0minputs\u001b[0m\u001b[0;34m,\u001b[0m\u001b[0;34m\u001b[0m\u001b[0;34m\u001b[0m\u001b[0m\n\u001b[1;32m    487\u001b[0m             )\n\u001b[0;32m--> 488\u001b[0;31m         torch.autograd.backward(\n\u001b[0m\u001b[1;32m    489\u001b[0m             \u001b[0mself\u001b[0m\u001b[0;34m,\u001b[0m \u001b[0mgradient\u001b[0m\u001b[0;34m,\u001b[0m \u001b[0mretain_graph\u001b[0m\u001b[0;34m,\u001b[0m \u001b[0mcreate_graph\u001b[0m\u001b[0;34m,\u001b[0m \u001b[0minputs\u001b[0m\u001b[0;34m=\u001b[0m\u001b[0minputs\u001b[0m\u001b[0;34m\u001b[0m\u001b[0;34m\u001b[0m\u001b[0m\n\u001b[1;32m    490\u001b[0m         )\n",
            "\u001b[0;32m/usr/local/lib/python3.8/dist-packages/torch/autograd/__init__.py\u001b[0m in \u001b[0;36mbackward\u001b[0;34m(tensors, grad_tensors, retain_graph, create_graph, grad_variables, inputs)\u001b[0m\n\u001b[1;32m    195\u001b[0m     \u001b[0;31m# some Python versions print out the first line of a multi-line function\u001b[0m\u001b[0;34m\u001b[0m\u001b[0;34m\u001b[0m\u001b[0;34m\u001b[0m\u001b[0m\n\u001b[1;32m    196\u001b[0m     \u001b[0;31m# calls in the traceback and some print out the last line\u001b[0m\u001b[0;34m\u001b[0m\u001b[0;34m\u001b[0m\u001b[0;34m\u001b[0m\u001b[0m\n\u001b[0;32m--> 197\u001b[0;31m     Variable._execution_engine.run_backward(  # Calls into the C++ engine to run the backward pass\n\u001b[0m\u001b[1;32m    198\u001b[0m         \u001b[0mtensors\u001b[0m\u001b[0;34m,\u001b[0m \u001b[0mgrad_tensors_\u001b[0m\u001b[0;34m,\u001b[0m \u001b[0mretain_graph\u001b[0m\u001b[0;34m,\u001b[0m \u001b[0mcreate_graph\u001b[0m\u001b[0;34m,\u001b[0m \u001b[0minputs\u001b[0m\u001b[0;34m,\u001b[0m\u001b[0;34m\u001b[0m\u001b[0;34m\u001b[0m\u001b[0m\n\u001b[1;32m    199\u001b[0m         allow_unreachable=True, accumulate_grad=True)  # Calls into the C++ engine to run the backward pass\n",
            "\u001b[0;31mKeyboardInterrupt\u001b[0m: "
          ]
        }
      ]
    },
    {
      "cell_type": "code",
      "source": [
        "# Killing Neptune asynchronous thread. All data is safe on disk and can be later synced manually using `neptune sync` command.\n",
        "# !neptune sync"
      ],
      "metadata": {
        "id": "P9BJcegkEs7G"
      },
      "execution_count": null,
      "outputs": []
    },
    {
      "cell_type": "code",
      "source": [
        "trainer._save_model_and_checkpoint(save_model_class=True)"
      ],
      "metadata": {
        "id": "PNff0tfYG0zG",
        "colab": {
          "base_uri": "https://localhost:8080/"
        },
        "outputId": "e72b4cbb-d373-4d5b-8c7e-9f2f655a640d"
      },
      "execution_count": null,
      "outputs": [
        {
          "output_type": "stream",
          "name": "stderr",
          "text": [
            "Saving model checkpoint to mount_checkpoint/orders/checkpoint-55246\n",
            "Trainer.model is not a `PreTrainedModel`, only saving its state dict.\n"
          ]
        }
      ]
    },
    {
      "cell_type": "markdown",
      "source": [
        "# Evaluate"
      ],
      "metadata": {
        "id": "ZDMG6_t5ZLLh"
      }
    },
    {
      "cell_type": "code",
      "source": [
        "train_metrics = trainer.evaluate(eval_dataset=valid_path, metric_key_prefix='eval')\n"
      ],
      "metadata": {
        "trusted": true,
        "id": "yq2cjAJJG0zG",
        "colab": {
          "base_uri": "https://localhost:8080/",
          "height": 37
        },
        "outputId": "b7177036-570b-4c45-f2a5-b42d5348bd46"
      },
      "execution_count": null,
      "outputs": [
        {
          "output_type": "display_data",
          "data": {
            "text/plain": [
              "<IPython.core.display.HTML object>"
            ],
            "text/html": [
              "\n",
              "    <div>\n",
              "      \n",
              "      <progress value='1741' max='1741' style='width:300px; height:20px; vertical-align: middle;'></progress>\n",
              "      [1741/1741 17:20]\n",
              "    </div>\n",
              "    "
            ]
          },
          "metadata": {}
        }
      ]
    },
    {
      "cell_type": "code",
      "source": [
        "for key in sorted(train_metrics.keys()):\n",
        "    print(\" %s = %s\" % (key, str(train_metrics[key])))"
      ],
      "metadata": {
        "trusted": true,
        "id": "Vye8ZW2tG0zG",
        "colab": {
          "base_uri": "https://localhost:8080/"
        },
        "outputId": "1c999716-255f-40b7-d773-9ddfac13178c"
      },
      "execution_count": null,
      "outputs": [
        {
          "output_type": "stream",
          "name": "stdout",
          "text": [
            " eval_/loss = 3.4871678352355957\n",
            " eval_/next-item/recall_at_10 = 0.700332760810852\n",
            " eval_/next-item/recall_at_20 = 0.7220437526702881\n",
            " eval_runtime = 1041.5372\n",
            " eval_samples_per_second = 1711.685\n",
            " eval_steps_per_second = 1.672\n"
          ]
        }
      ]
    },
    {
      "cell_type": "code",
      "source": [],
      "metadata": {
        "id": "NwKz0PNCG0zH"
      },
      "execution_count": null,
      "outputs": []
    }
  ]
}